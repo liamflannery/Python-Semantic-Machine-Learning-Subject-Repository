{
 "cells": [
  {
   "cell_type": "markdown",
   "metadata": {
    "id": "S9pWsPAt0dCh"
   },
   "source": [
    "# Assignment 2 - Find complex answers to medical questions\n",
    "\n",
    "**Submission deadline: Friday 22 April, 5pm.** \n",
    "\n",
    "Late submissions **will not be accepted** without an approved [Special Consideration](http://from.mq.edu.au/MT0X0E0FUrrU200rm0JB0U0) request.  Assessments submitted after the due date will receive a mark of **zero**.\n",
    "\n",
    "**Assessment marks: 20 marks (20% of the total unit assessment)**\n",
    "\n",
    "In this assignment we will work on a task of \"query-focused summarisation\" on medical questions where the goal is, given a medical question and a list of sentences extracted from relevant medical publications, to determine which of these sentences from the list can be used as part of the answer to the question.\n",
    "\n",
    "We will use data that has been derived from the **BioASQ challenge** (http://www.bioasq.org/), after some data manipulation to make it easier to process for this assignment. The BioASQ challenge organises several \"shared tasks\", including a task on biomedical semantic question answering which we are using here. The data are in the file `bioasq10_labelled.csv`, which is part of the zip file provided. Each row of the file has a question, a sentence text, and a label that indicates whether the sentence text is part of the answer to the question (1) or not (0).\n",
    "\n",
    "The following code uses pandas to store the file `bioasq10_labelled.csv` in a data frame and show the first rows of data. For this code to run, first you need to unzip the file `data.zip`:"
   ]
  },
  {
   "cell_type": "code",
   "execution_count": 4,
   "metadata": {},
   "outputs": [],
   "source": [
    "#!unzip data.zip\n",
    "!tar xzf data.zip\n"
   ]
  },
  {
   "cell_type": "code",
   "execution_count": 5,
   "metadata": {},
   "outputs": [
    {
     "data": {
      "text/html": [
       "<div>\n",
       "<style scoped>\n",
       "    .dataframe tbody tr th:only-of-type {\n",
       "        vertical-align: middle;\n",
       "    }\n",
       "\n",
       "    .dataframe tbody tr th {\n",
       "        vertical-align: top;\n",
       "    }\n",
       "\n",
       "    .dataframe thead th {\n",
       "        text-align: right;\n",
       "    }\n",
       "</style>\n",
       "<table border=\"1\" class=\"dataframe\">\n",
       "  <thead>\n",
       "    <tr style=\"text-align: right;\">\n",
       "      <th></th>\n",
       "      <th>qid</th>\n",
       "      <th>sentid</th>\n",
       "      <th>question</th>\n",
       "      <th>sentence text</th>\n",
       "      <th>label</th>\n",
       "    </tr>\n",
       "  </thead>\n",
       "  <tbody>\n",
       "    <tr>\n",
       "      <th>0</th>\n",
       "      <td>0</td>\n",
       "      <td>0</td>\n",
       "      <td>Is Hirschsprung disease a mendelian or a multi...</td>\n",
       "      <td>Hirschsprung disease (HSCR) is a multifactoria...</td>\n",
       "      <td>0</td>\n",
       "    </tr>\n",
       "    <tr>\n",
       "      <th>1</th>\n",
       "      <td>0</td>\n",
       "      <td>1</td>\n",
       "      <td>Is Hirschsprung disease a mendelian or a multi...</td>\n",
       "      <td>In this study, we review the identification of...</td>\n",
       "      <td>1</td>\n",
       "    </tr>\n",
       "    <tr>\n",
       "      <th>2</th>\n",
       "      <td>0</td>\n",
       "      <td>2</td>\n",
       "      <td>Is Hirschsprung disease a mendelian or a multi...</td>\n",
       "      <td>The majority of the identified genes are relat...</td>\n",
       "      <td>1</td>\n",
       "    </tr>\n",
       "    <tr>\n",
       "      <th>3</th>\n",
       "      <td>0</td>\n",
       "      <td>3</td>\n",
       "      <td>Is Hirschsprung disease a mendelian or a multi...</td>\n",
       "      <td>The non-Mendelian inheritance of sporadic non-...</td>\n",
       "      <td>1</td>\n",
       "    </tr>\n",
       "    <tr>\n",
       "      <th>4</th>\n",
       "      <td>0</td>\n",
       "      <td>4</td>\n",
       "      <td>Is Hirschsprung disease a mendelian or a multi...</td>\n",
       "      <td>Coding sequence mutations in e.g.</td>\n",
       "      <td>0</td>\n",
       "    </tr>\n",
       "  </tbody>\n",
       "</table>\n",
       "</div>"
      ],
      "text/plain": [
       "   qid  sentid                                           question  \\\n",
       "0    0       0  Is Hirschsprung disease a mendelian or a multi...   \n",
       "1    0       1  Is Hirschsprung disease a mendelian or a multi...   \n",
       "2    0       2  Is Hirschsprung disease a mendelian or a multi...   \n",
       "3    0       3  Is Hirschsprung disease a mendelian or a multi...   \n",
       "4    0       4  Is Hirschsprung disease a mendelian or a multi...   \n",
       "\n",
       "                                       sentence text  label  \n",
       "0  Hirschsprung disease (HSCR) is a multifactoria...      0  \n",
       "1  In this study, we review the identification of...      1  \n",
       "2  The majority of the identified genes are relat...      1  \n",
       "3  The non-Mendelian inheritance of sporadic non-...      1  \n",
       "4                  Coding sequence mutations in e.g.      0  "
      ]
     },
     "execution_count": 5,
     "metadata": {},
     "output_type": "execute_result"
    }
   ],
   "source": [
    "import pandas as pd\n",
    "dataset = pd.read_csv(\"bioasq10b_labelled.csv\")\n",
    "dataset.head()"
   ]
  },
  {
   "cell_type": "markdown",
   "metadata": {},
   "source": [
    "The columns of the CSV file are:\n",
    "\n",
    "* `qid`: an ID for a question. Several rows may have the same question ID, as we can see above.\n",
    "* `sentid`: an ID for a sentence.\n",
    "* `question`: The text of the question. In the above example, the first rows all have the same question: \"Is Hirschsprung disease a mendelian or a multifactorial disorder?\"\n",
    "* `sentence text`: The text of the sentence.\n",
    "* `label`: 1 if the sentence is a part of the answer, 0 if the sentence is not part of the answer."
   ]
  },
  {
   "cell_type": "markdown",
   "metadata": {
    "id": "m6xqxCmR0dCk"
   },
   "source": [
    "# Task 1 (5 marks): Data preparation\n",
    "\n",
    "Partition the data into the training, dev_test, and test sets using the proportions 6:2:2. That is, 60% of the questions must be in the training set, 20% must be in the dev_test set, and the remaining 20% in the test set. Make sure that you partition based on the questions, not on the rows. With this we mean that all the sentences related to a question must be in one file only. In other words, there must not be sentences from the same question in, say, the training and the test data.\n",
    "\n",
    "Also, make sure that you implement a random partition.\n",
    "\n",
    "Save the partitions as the files `training.csv`, `dev_test.csv`, and `test.csv`, so that they can be used by other people.\n",
    "\n",
    "The breakdown of marks is as follows:\n",
    "\n",
    "* **1 mark** if your explanation answers the following question correctly: Why do we want to split the partition on the questions, and not on the rows?\n",
    "* **1 mark** if the code partitions the data on the questions randomly and according to the split 6:2:2.\n",
    "* **1 mark** if your code generates partitions that have similar balance of labels and you demonstrate that they are similar.\n",
    "* **1 mark** if the partitions are saved as the CSV files `training.csv`, `dev_test.csv`, and `test.csv`.\n",
    "* **1 mark** for good coding and documentation in this task.\n"
   ]
  },
  {
   "cell_type": "markdown",
   "metadata": {},
   "source": [
    "## Why questions, not rows?\n",
    "The data is split up based on each question rather than each row as we do not want the same question to be in the training, test or devtest set. This is because training and testing with the same data (or categories of data such as the same question) could easily lead to overfitting. For example, if we were to train a model using a question, and then were to test the model using the same question it would be able to answer it based on the data given to it rather than from learning relationships. "
   ]
  },
  {
   "cell_type": "markdown",
   "metadata": {},
   "source": [
    "Input seed for random assortment of questions, will have same assortment for same seed (allows for reproducible results)"
   ]
  },
  {
   "cell_type": "code",
   "execution_count": 6,
   "metadata": {},
   "outputs": [],
   "source": [
    "seed = 1000"
   ]
  },
  {
   "cell_type": "markdown",
   "metadata": {},
   "source": [
    "In order to divide the dataset whilst keeping the questions together we must do the following:\n",
    "* Create another data set which contains one row for each question, along with each index in the original dataset that corresponds to the question\n",
    "* Randomly shuffle this new dataset\n",
    "* Divide the new dataset into three buckets representing train, dev test and test sets based on the given ratios (60/20/20)\n",
    "* Divide the original dataset into train, dev test and test sets by looking up which 'bucket' each question belongs to"
   ]
  },
  {
   "cell_type": "code",
   "execution_count": 7,
   "metadata": {},
   "outputs": [],
   "source": [
    "dataset['dataset index'] = dataset.index #add new column to keep train of the original datasets index\n",
    "groupedDataSet = dataset.groupby('qid').agg(list) #create new dataset with one row for each question\n",
    "groupedDataSet = groupedDataSet.sample(frac = 1, random_state= seed) #randomly shuffle new dataset based on 'seed'\n",
    "size = len(groupedDataSet.index)\n",
    "# divide new data set into 'buckets'\n",
    "groupedTrain = groupedDataSet[:(int)(size * 0.6)]\n",
    "groupedDT = groupedDataSet[(int)(size * 0.6):(int)(size * 0.8)]\n",
    "groupedTest = groupedDataSet[(int)(size * 0.8):]\n"
   ]
  },
  {
   "cell_type": "code",
   "execution_count": 9,
   "metadata": {},
   "outputs": [],
   "source": [
    "# create lists of which indices from the original data set belong to which bucket\n",
    "trainIndexList = groupedTrain['dataset index'].tolist()\n",
    "newIndexList = []\n",
    "for x in trainIndexList:\n",
    "    for y in x:\n",
    "        newIndexList.append(y)\n",
    "\n",
    "trainIndexList = newIndexList\n",
    "\n",
    "dTrainIndexList = groupedDT['dataset index'].tolist()\n",
    "newIndexList = []\n",
    "for x in dTrainIndexList:\n",
    "    for y in x:\n",
    "        newIndexList.append(y)\n",
    "\n",
    "dTrainIndexList = newIndexList\n",
    "\n",
    "testIndexList = groupedTest['dataset index'].tolist()\n",
    "newIndexList = []\n",
    "for x in testIndexList:\n",
    "    for y in x:\n",
    "        newIndexList.append(y)\n",
    "\n",
    "testIndexList = newIndexList\n"
   ]
  },
  {
   "cell_type": "code",
   "execution_count": 10,
   "metadata": {
    "colab": {
     "base_uri": "https://localhost:8080/",
     "height": 206
    },
    "id": "Su2UC0Ti0dCo",
    "outputId": "4a705b65-e2e5-4415-a53b-a97b79bc2eaf"
   },
   "outputs": [
    {
     "name": "stdout",
     "output_type": "stream",
     "text": [
      "Size of training set: 38657\n",
      "Training set ratio:  0.29634994955635463\n",
      "Size of devtest set: 12791\n",
      "Dev Test set ratio:  0.29817840669220547\n",
      "Size of test set: 12664\n",
      "Test set ratio:  0.3034586228679722\n"
     ]
    }
   ],
   "source": [
    "# divide assign indices from original dataset to each 'bucket'\n",
    "train_set = dataset.iloc[trainIndexList]\n",
    "devtest_set = dataset.iloc[dTrainIndexList]\n",
    "test_set = dataset.iloc[testIndexList]\n",
    "\n",
    "\n",
    "print(\"Size of training set:\", len(train_set))\n",
    "print(\"Training set ratio: \", train_set['label'].sum() / len(train_set))\n",
    "print(\"Size of devtest set:\", len(devtest_set))\n",
    "print(\"Dev Test set ratio: \", devtest_set['label'].sum() / len(devtest_set))\n",
    "print(\"Size of test set:\", len(test_set))\n",
    "print(\"Test set ratio: \", test_set['label'].sum() / len(test_set))\n"
   ]
  },
  {
   "cell_type": "markdown",
   "metadata": {},
   "source": [
    "As seen above, the sizes of each set turn out to be roughly equivalent to a 60/20/20 split of the original data. \n",
    "I have also included an ouput of the ratio of each positive label to the total size of each data set (by adding up the total labels and dividing by the size of the dataframe). These ratios being similar would indicate there that there is an even split of labels between each data set."
   ]
  },
  {
   "cell_type": "code",
   "execution_count": 11,
   "metadata": {},
   "outputs": [],
   "source": [
    "# save results into csv files\n",
    "train_set.to_csv('training.csv')\n",
    "devtest_set.to_csv('dev_test.csv')\n",
    "test_set.to_csv('test.csv')"
   ]
  },
  {
   "cell_type": "markdown",
   "metadata": {
    "id": "xbUJWlD_0dCv"
   },
   "source": [
    "# Task 2 (5 marks): Cosine similarity\n",
    "\n",
    "Use the files `training.csv`, `dev_test.csv`, and `test.csv` provided by us in the file `data.zip` (so that any possible errors that you may have introduced in task 1 do not propagate to this task and following tasks).\n",
    "\n",
    "Implement a simple text summariser that is based on the cosine similarity between the question and the text. Use the following function signature.\n",
    "\n",
    "```{python}\n",
    "def cosine_summariser(csvfile, questionids, n=5):\n",
    "   \"\"\"Return the IDs of the n sentences that have the highest cosine similarity\n",
    "    with the question. The input questionids is a list of question ids. The \n",
    "    output is a list of lists of sentence ids\n",
    "    >>> cosine_summariser('test.csv', [3, 11], 3)\n",
    "    [[3, 1, 4], [12, 4, 13]]\"\"\"\n",
    "\n",
    "```\n",
    "\n",
    "To obtain the text vectors, use sklearn's tf.idf libraries this way:\n",
    "\n",
    "* Use all the defaults from the TfidfVectorizer instance, except for `stop_words=\"english\"` and `max_features=10000`. The latter option will restrict the vocabulary size to 10,000. This will speed up the computations and reduce the memory footprint in the subsequent tasks.\n",
    "* Use the `fit` method on the text of `training.csv`. In your documentation, please explain and justify what decision choices you made to select the correct text: would you use the question text only, the sentence text, or both?\n",
    "\n",
    "Evaluate the summariser by reporting the mean F1 score on each of the three CSV files `training.csv`, `devtest.csv`, and `test.csv`, for $n=5$. To calculate the mean F1 score, do this:\n",
    "\n",
    "1. For each question ID in the file, calculate the F1 score by comparing the result of your cosine summariser and the given labels. Feel free to use sklearn's functions to compute the F1 score, or implement your own version of the F1 scoring function if you prefer.\n",
    "2. Calculate the mean of the F1 scores calculated in step 1.\n",
    "\n",
    "Find the value of $n$ that returns the highest mean F1 score on the dev_test data.\n",
    "\n",
    "The breakdown of marks is as follows:\n",
    "\n",
    "* **1 mark** if the code generates the tf.idf vectors correctly. The explanations that justify the decisions made are reasonable. In particular, explain and justify what information you used to fit tf.idf.\n",
    "* **1 mark** if the code calculates cosine similarity correctly.\n",
    "* **1 mark** if the code returns the IDs of the $n$ sentences that have the highest cosine similarity with the question.\n",
    "* **1 mark** if the notebook reports the F1 scores of the dev_test file and identifies the value of $n$ that gives the highest score on the dev_test file.\n",
    "* **1 mark** for good coding and documentation in this task. In particular, comment on the reason why you think the value of $n$ that gives highest F1 has that value."
   ]
  },
  {
   "cell_type": "code",
   "execution_count": 12,
   "metadata": {},
   "outputs": [],
   "source": [
    "#import statements and establishing a training set to work with\n",
    "from sklearn.feature_extraction.text import TfidfVectorizer\n",
    "import numpy as np\n",
    "training = pd.read_csv(\"training.csv\")"
   ]
  },
  {
   "cell_type": "markdown",
   "metadata": {},
   "source": [
    "## Creating the TF.IDF Vectorizer\n",
    "The tf.idf vecotrizer is created and trained using both the sentence text and the question text. As we are trying to learn how well a certain sentence answers a certain question, it is important to tell our model what those questions are. If we were to train the model with just sentence text, it would not be able to learn why a particular sentence answers a question. A sentence may be a good answer for one question but a bad answer for another."
   ]
  },
  {
   "cell_type": "code",
   "execution_count": 13,
   "metadata": {},
   "outputs": [
    {
     "data": {
      "text/plain": [
       "TfidfVectorizer(max_features=10000, stop_words='english')"
      ]
     },
     "execution_count": 13,
     "metadata": {},
     "output_type": "execute_result"
    }
   ],
   "source": [
    "#create the tfidf vecotizer \n",
    "vectorizer = TfidfVectorizer(use_idf=True, stop_words='english', max_features=10000)\n",
    "vectorizer.fit(training['sentence text'], training['question'])"
   ]
  },
  {
   "cell_type": "markdown",
   "metadata": {},
   "source": [
    "The cosine summariser outputs the top n answers to each of the propsed question ids.\n",
    "This performs this operation with the following steps:\n",
    "<ol>\n",
    "    <li> Loops through each given question id. </li>\n",
    "    <li> Stores the tf.idf of the current question </li>\n",
    "    <li> Loops through each answer to the current question </li>\n",
    "    <li> Finds the tf.idf of the current answer to the current question </li>\n",
    "    <li> Finds the dot product of the answer tf.idf and the question tf.idf </li>\n",
    "    <li> Adds the dot product to the results list if it is better than at least one of the current elements </li>\n",
    "    <li> Returns a sorted list (by dot product score) of answer ids for the question </li>\n",
    "</ol>\n"
   ]
  },
  {
   "cell_type": "code",
   "execution_count": 272,
   "metadata": {},
   "outputs": [],
   "source": [
    "def cosine_summariser(csvfile, questionids, n=5):\n",
    "      totalResults = []\n",
    "      totalResults_scores = []\n",
    "      file = pd.read_csv(csvfile)\n",
    "      \n",
    "      for qid in questionids: #loops through each question id\n",
    "         if(len(file[file.qid == qid]) > 0): #only performs the operation if the question id is in the dataframe\n",
    "            #finds tf.idf score of the current question\n",
    "            questionVector = vectorizer.transform([file[file.qid == qid]['question'].to_numpy()[0]]).toarray()[0]\n",
    "            results = []\n",
    "            results_scores = []\n",
    "            results_worst = 1\n",
    "            \n",
    "            df = file[file['qid'] == qid].copy()\n",
    "            #loops through each answer\n",
    "            for i in range(0,len(df.index)):\n",
    "               #finds the tf.idf of the current answer\n",
    "               answerVector = vectorizer.transform([df['sentence text'].iloc(0)[i]]).toarray()[0]\n",
    "               answerID = df['sentid'].iloc(0)[i]\n",
    "               #finds the dot product of the question and answer tf.idf scores\n",
    "               score = np.dot(questionVector, answerVector)\n",
    "               if len(results) < n:\n",
    "                  # It is one of the top n results by default\n",
    "                  results.append(answerID)\n",
    "                  results_scores.append(score)\n",
    "                  results_worst = np.min((results_worst, score))\n",
    "                  continue\n",
    "               if score > results_worst:\n",
    "                  # It is one of the top n results; replace with worst so far\n",
    "                  j = np.argmin(results_scores)\n",
    "                  results_scores[j] = score\n",
    "                  results[j] = answerID\n",
    "                  results_worst = np.min(results_scores)\n",
    "            results = sorted(results, key=lambda x: results_scores[results.index(x)], reverse=True)\n",
    "            totalResults.append(results)\n",
    "            totalResults_scores.append(results_scores)\n",
    "      \n",
    "      return sorted(totalResults)\n",
    "        \n",
    "       \n",
    "     #  \"\"\"Return the IDs of the n sentences that have the highest cosine similarity\n",
    "  #  with the question. The input questionids is a list of question ids. The \n",
    "  #  output is a list of lists of sentence ids\n",
    "   # >>> cosine_summariser('test.csv', [3, 11], 3)\n",
    " #   [[3, 1, 4], [12, 4, 13]]\"\"\"\n",
    "         \n",
    "\n"
   ]
  },
  {
   "cell_type": "markdown",
   "metadata": {},
   "source": [
    "## Evaluating the Summariser \n",
    "We will evaluate the summariser following these steps:\n",
    "<ol>\n",
    "    <li> Loops through <i>n</i> values 1, 2, 3 ,4 and 5 </li>\n",
    "    <li> Loops through each question id in the devtest set </li>\n",
    "    <li> For the current dataframe, orders the sentences (answers) by their label and stores this array </li>\n",
    "    <li> Uses the cosine summariser to predict the order of the answers </li>\n",
    "    <li> Compares the actual values (from step 3) with the predicted values (from step 4) using an f1 summariser </li>\n",
    "    <li> Stores the value of the f1 summariser </li>\n",
    "    <li> Finds the average f1 score of all the questions </li>\n",
    "    <li> Stores each average f1 score for each value of <i> n </i> in an array </li>\n",
    "</ol>"
   ]
  },
  {
   "cell_type": "code",
   "execution_count": 247,
   "metadata": {},
   "outputs": [],
   "source": [
    "from sklearn.metrics import f1_score\n",
    "nValueScores = []\n",
    "for n in range(1,5):\n",
    "    f1Scores = []\n",
    "    for qid in devtest_set['qid'].unique():\n",
    "        actual = devtest_set[devtest_set.qid == qid].sort_values(by=['label'])['sentid'].to_numpy()[:n]\n",
    "        predicted = cosine_summariser('dev_test.csv', [qid], n)\n",
    "        predicted = np.array(predicted[0])\n",
    "        f1Scores.append(f1_score(actual, predicted, average='micro'))\n",
    "\n",
    "    nValueScores.append(np.mean(f1Scores))\n",
    "#print(actual, predicted)"
   ]
  },
  {
   "cell_type": "code",
   "execution_count": 277,
   "metadata": {},
   "outputs": [
    {
     "name": "stdout",
     "output_type": "stream",
     "text": [
      "The value of n that gives the highest f1 score is:  1\n",
      "The accruacy was:  0.22195985832349469\n"
     ]
    }
   ],
   "source": [
    "nValue = nValueScores.index(max(nValueScores)) + 1\n",
    "print(\"The value of n that gives the highest f1 score is: \", nValue)\n",
    "print(\"The accruacy was: \", max(nValueScores))"
   ]
  },
  {
   "cell_type": "code",
   "execution_count": 251,
   "metadata": {},
   "outputs": [
    {
     "data": {
      "text/plain": [
       "[0.22195985832349469,\n",
       " 0.20306965761511217,\n",
       " 0.20621802439984258,\n",
       " 0.20297127115308933]"
      ]
     },
     "execution_count": 251,
     "metadata": {},
     "output_type": "execute_result"
    }
   ],
   "source": [
    "nValueScores"
   ]
  },
  {
   "cell_type": "markdown",
   "metadata": {},
   "source": [
    "My code returns that the value of <i> n </i> that gives the highest f1 score compared with my cosine summariser is 1.\n",
    "I believe that this is because the labels of the data are either 1 or 0. This means that if there are 5 sentences that answer a question, and 3 of them are labelled 1 the other 2 would be labelled 0. This means that ordering the sentence ids by their label would result in 3 equal first placed and 2 equal last placed elements. Because the cosine summariser has values other than 1 or 0, it can have 5 (or more) unique values and therefore will have more nuanced placements of its results. Essentially my code is comparing binary labels to multivalued prediction data. Because of this, as the value of n increases, there is more room for equally placed elements in the actual values to be in a different order to the predicted values. "
   ]
  },
  {
   "cell_type": "markdown",
   "metadata": {
    "id": "9VTTgRnN0dC4"
   },
   "source": [
    "# Task 3 (5 marks): Simple NN\n",
    "\n",
    "Use the files `training.csv`, `dev_test.csv`, and `test.csv` provided by us.\n",
    "\n",
    "Implement a simple TensorFlow-Keras neural model that has the following sequence of layers:\n",
    "\n",
    "1. An input layer that will accept the tf.idf of the sentence text (we will ignore the question text in this task). Use the TfidfVectorizer instance that you have fitted in task 2.\n",
    "2. A hidden layer and a relu activation function. You need to determine the size of the hidden layer.\n",
    "3. An output layer with one cell. The output layer will classify the input text (binary classification).\n",
    "\n",
    "Train the model with the training data and use the dev_test set to determine a good size of the hidden layer. \n",
    "\n",
    "With the model that you have trained, and implement a summariser that returns the $n$ sentences with highest predicted score. Use the following function signature:\n",
    "\n",
    "```{python}\n",
    "def nn_summariser(csvfile, questionids, n=5):\n",
    "   \"\"\"Return the IDs of the n sentences that have the highest predicted score. The input questionids is a list of question ids. The \n",
    "    output is a list of lists of sentence ids\n",
    "    >>> cosine_summariser('test.csv', [3, 11], 3)\n",
    "    [[2, 1, 3], [7, 14, 10]]\"\"\"\n",
    "\n",
    "```\n",
    "\n",
    "Report the final results using the test set. Remember: use the test set to report the final results of the best system only.\n",
    "\n",
    "Based on your experiments, comment on whether this system is better than the system developed in task 2. To make this task less time-consuming, focus only on $n=5$.\n",
    "\n",
    "The breakdown of marks is as follows:\n",
    "\n",
    "* **1 mark** if the NN model has the correct layers, the correct activation functions, and the correct loss function.\n",
    "* **1 mark** if the code passes the tf.idf information of the text to the model correctly.\n",
    "* **1 mark** if the code returns the IDs of the $n$ sentences that have the highest prediction score in the given question.\n",
    "* **1 mark** if the notebook reports the F1 scores of the test sets and comments on the results.\n",
    "* **1 mark** for good coding and documentation in this task. In particular, the code and results must include evidence that shows your choice of best size of the hidden layer. The explanations must be clear and concise. To make this task less time-consuming, use $n=5$."
   ]
  },
  {
   "cell_type": "markdown",
   "metadata": {},
   "source": [
    "## Creating Models and Determining Hidden Layer Size\n",
    "We will create 3 seperate models with increasing hidden layer size (1, 5 and 7). We will then plot the accuracy of the validation and training scores over each epoch of the model. From these plots we will be able to see how the different hidden layer sizes will effect the accuracy of the model."
   ]
  },
  {
   "cell_type": "code",
   "execution_count": 22,
   "metadata": {
    "id": "uY6sDbUn0dC6"
   },
   "outputs": [],
   "source": [
    "# import statements\n",
    "import tensorflow as tf\n",
    "from tensorflow.keras import models\n",
    "from tensorflow.keras import layers\n",
    "from tensorflow.keras import optimizers\n",
    "\n",
    "#1 Hidden Layer\n",
    "model1HL = models.Sequential()\n",
    "model1HL.add(layers.Dense(1, activation='relu', input_shape = (len(vectorizer.get_feature_names()),)))\n",
    "model1HL.add(layers.Dense(1, activation='sigmoid'))\n",
    "model1HL.compile(loss='binary_crossentropy',\n",
    "              metrics=['accuracy'])\n",
    "\n",
    "#5 Hidden Layers\n",
    "model5HL = models.Sequential()\n",
    "model5HL.add(layers.Dense(5, activation='relu', input_shape = (len(vectorizer.get_feature_names()),)))\n",
    "model5HL.add(layers.Dense(1, activation='sigmoid'))\n",
    "model5HL.compile(loss='binary_crossentropy',\n",
    "              metrics=['accuracy'])\n",
    "\n",
    "#7 Hidden Layers\n",
    "model7HL = models.Sequential()\n",
    "model7HL.add(layers.Dense(7, activation='relu', input_shape = (len(vectorizer.get_feature_names()),)))\n",
    "model7HL.add(layers.Dense(1, activation='sigmoid'))\n",
    "model7HL.compile(loss='binary_crossentropy',\n",
    "              metrics=['accuracy'])"
   ]
  },
  {
   "cell_type": "code",
   "execution_count": 268,
   "metadata": {},
   "outputs": [],
   "source": [
    "#creating the training and devtest data and labels\n",
    "train_data = vectorizer.transform(training['sentence text']).toarray()\n",
    "train_labels = training['label']\n",
    "devtest = pd.read_csv(\"dev_test.csv\")\n",
    "devtest_data = vectorizer.transform(devtest['sentence text']).toarray()\n",
    "devtest_labels = devtest['label']"
   ]
  },
  {
   "cell_type": "code",
   "execution_count": 269,
   "metadata": {},
   "outputs": [],
   "source": [
    "%matplotlib inline\n",
    "import matplotlib.pyplot as plt\n",
    "#function to plot the training and validation accuracy of a model\n",
    "def plot_history(history):\n",
    "    acc = history.history['accuracy']\n",
    "    val_acc = history.history['val_accuracy']\n",
    "\n",
    "    epochs = range(1, len(acc) + 1)\n",
    "\n",
    "    # \"bo\" is for \"blue dot\"\n",
    "    plt.plot(epochs, acc, 'bo', label='Training accuracy')\n",
    "    # b is for \"solid blue line\"\n",
    "    plt.plot(epochs, val_acc, 'b', label='Validation accuracy')\n",
    "    plt.title('Training and validation accuracy')\n",
    "    plt.xlabel('Epochs')\n",
    "    plt.ylabel('Accuracy')\n",
    "    plt.legend()\n",
    "\n",
    "    plt.show()\n",
    "    "
   ]
  },
  {
   "cell_type": "code",
   "execution_count": 265,
   "metadata": {},
   "outputs": [
    {
     "name": "stdout",
     "output_type": "stream",
     "text": [
      "Epoch 1/100\n",
      "387/387 [==============================] - 4s 9ms/step - loss: 0.6256 - accuracy: 0.7037 - val_loss: 0.6068 - val_accuracy: 0.7018\n",
      "Epoch 2/100\n",
      "387/387 [==============================] - 2s 6ms/step - loss: 0.5948 - accuracy: 0.7037 - val_loss: 0.6039 - val_accuracy: 0.7018\n",
      "Epoch 3/100\n",
      "387/387 [==============================] - 2s 6ms/step - loss: 0.5842 - accuracy: 0.7037 - val_loss: 0.6019 - val_accuracy: 0.7018\n",
      "Epoch 4/100\n",
      "387/387 [==============================] - 2s 6ms/step - loss: 0.5731 - accuracy: 0.7037 - val_loss: 0.6010 - val_accuracy: 0.7018\n",
      "Epoch 5/100\n",
      "387/387 [==============================] - 2s 6ms/step - loss: 0.5621 - accuracy: 0.7037 - val_loss: 0.6015 - val_accuracy: 0.7018\n",
      "Epoch 6/100\n",
      "387/387 [==============================] - 2s 6ms/step - loss: 0.5522 - accuracy: 0.7046 - val_loss: 0.6033 - val_accuracy: 0.7012\n",
      "Epoch 7/100\n",
      "387/387 [==============================] - 2s 6ms/step - loss: 0.5434 - accuracy: 0.7189 - val_loss: 0.6067 - val_accuracy: 0.6887\n",
      "Epoch 8/100\n",
      "387/387 [==============================] - 2s 6ms/step - loss: 0.5360 - accuracy: 0.7201 - val_loss: 0.6107 - val_accuracy: 0.6816\n",
      "Epoch 9/100\n",
      "387/387 [==============================] - 2s 6ms/step - loss: 0.5298 - accuracy: 0.7262 - val_loss: 0.6166 - val_accuracy: 0.6670\n",
      "Epoch 10/100\n",
      "387/387 [==============================] - 2s 5ms/step - loss: 0.5243 - accuracy: 0.7339 - val_loss: 0.6217 - val_accuracy: 0.6627\n",
      "Epoch 11/100\n",
      "387/387 [==============================] - 2s 5ms/step - loss: 0.5197 - accuracy: 0.7385 - val_loss: 0.6270 - val_accuracy: 0.6597\n",
      "Epoch 12/100\n",
      "387/387 [==============================] - 2s 5ms/step - loss: 0.5162 - accuracy: 0.7405 - val_loss: 0.6331 - val_accuracy: 0.6493\n",
      "Epoch 13/100\n",
      "387/387 [==============================] - 2s 5ms/step - loss: 0.5130 - accuracy: 0.7441 - val_loss: 0.6383 - val_accuracy: 0.6467\n",
      "Epoch 14/100\n",
      "387/387 [==============================] - 2s 6ms/step - loss: 0.5105 - accuracy: 0.7455 - val_loss: 0.6437 - val_accuracy: 0.6384\n",
      "Epoch 15/100\n",
      "387/387 [==============================] - 2s 6ms/step - loss: 0.5084 - accuracy: 0.7467 - val_loss: 0.6487 - val_accuracy: 0.6326\n",
      "Epoch 16/100\n",
      "387/387 [==============================] - 2s 6ms/step - loss: 0.5065 - accuracy: 0.7477 - val_loss: 0.6540 - val_accuracy: 0.6237\n",
      "Epoch 17/100\n",
      "387/387 [==============================] - 2s 6ms/step - loss: 0.5049 - accuracy: 0.7481 - val_loss: 0.6580 - val_accuracy: 0.6207\n",
      "Epoch 18/100\n",
      "387/387 [==============================] - 2s 5ms/step - loss: 0.5034 - accuracy: 0.7482 - val_loss: 0.6622 - val_accuracy: 0.6153\n",
      "Epoch 19/100\n",
      "387/387 [==============================] - 2s 5ms/step - loss: 0.5020 - accuracy: 0.7499 - val_loss: 0.6650 - val_accuracy: 0.6164\n",
      "Epoch 20/100\n",
      "387/387 [==============================] - 2s 5ms/step - loss: 0.5010 - accuracy: 0.7502 - val_loss: 0.6679 - val_accuracy: 0.6152\n",
      "Epoch 21/100\n",
      "387/387 [==============================] - 2s 5ms/step - loss: 0.5000 - accuracy: 0.7509 - val_loss: 0.6709 - val_accuracy: 0.6095\n",
      "Epoch 22/100\n",
      "387/387 [==============================] - 2s 6ms/step - loss: 0.4990 - accuracy: 0.7519 - val_loss: 0.6731 - val_accuracy: 0.6088\n",
      "Epoch 23/100\n",
      "387/387 [==============================] - 2s 6ms/step - loss: 0.4981 - accuracy: 0.7524 - val_loss: 0.6759 - val_accuracy: 0.6037\n",
      "Epoch 24/100\n",
      "387/387 [==============================] - 2s 5ms/step - loss: 0.4972 - accuracy: 0.7533 - val_loss: 0.6765 - val_accuracy: 0.6091\n",
      "Epoch 25/100\n",
      "387/387 [==============================] - 2s 5ms/step - loss: 0.4966 - accuracy: 0.7533 - val_loss: 0.6786 - val_accuracy: 0.6043\n",
      "Epoch 26/100\n",
      "387/387 [==============================] - 2s 5ms/step - loss: 0.4958 - accuracy: 0.7531 - val_loss: 0.6806 - val_accuracy: 0.5991\n",
      "Epoch 27/100\n",
      "387/387 [==============================] - 2s 5ms/step - loss: 0.4952 - accuracy: 0.7536 - val_loss: 0.6822 - val_accuracy: 0.5955\n",
      "Epoch 28/100\n",
      "387/387 [==============================] - 2s 4ms/step - loss: 0.4945 - accuracy: 0.7531 - val_loss: 0.6824 - val_accuracy: 0.5989\n",
      "Epoch 29/100\n",
      "387/387 [==============================] - 2s 4ms/step - loss: 0.4940 - accuracy: 0.7541 - val_loss: 0.6834 - val_accuracy: 0.5974\n",
      "Epoch 30/100\n",
      "387/387 [==============================] - 2s 4ms/step - loss: 0.4934 - accuracy: 0.7541 - val_loss: 0.6843 - val_accuracy: 0.5958\n",
      "Epoch 31/100\n",
      "387/387 [==============================] - 2s 4ms/step - loss: 0.4929 - accuracy: 0.7547 - val_loss: 0.6848 - val_accuracy: 0.5965\n",
      "Epoch 32/100\n",
      "387/387 [==============================] - 2s 4ms/step - loss: 0.4925 - accuracy: 0.7548 - val_loss: 0.6853 - val_accuracy: 0.5942\n",
      "Epoch 33/100\n",
      "387/387 [==============================] - 2s 4ms/step - loss: 0.4920 - accuracy: 0.7545 - val_loss: 0.6858 - val_accuracy: 0.5953\n",
      "Epoch 34/100\n",
      "387/387 [==============================] - 2s 4ms/step - loss: 0.4916 - accuracy: 0.7551 - val_loss: 0.6864 - val_accuracy: 0.5960\n",
      "Epoch 35/100\n",
      "387/387 [==============================] - 2s 4ms/step - loss: 0.4912 - accuracy: 0.7549 - val_loss: 0.6864 - val_accuracy: 0.5978\n",
      "Epoch 36/100\n",
      "387/387 [==============================] - 2s 5ms/step - loss: 0.4909 - accuracy: 0.7554 - val_loss: 0.6873 - val_accuracy: 0.5919\n",
      "Epoch 37/100\n",
      "387/387 [==============================] - 2s 5ms/step - loss: 0.4905 - accuracy: 0.7553 - val_loss: 0.6871 - val_accuracy: 0.5953\n",
      "Epoch 38/100\n",
      "387/387 [==============================] - 2s 5ms/step - loss: 0.4903 - accuracy: 0.7560 - val_loss: 0.6872 - val_accuracy: 0.5942\n",
      "Epoch 39/100\n",
      "387/387 [==============================] - 2s 5ms/step - loss: 0.4900 - accuracy: 0.7555 - val_loss: 0.6872 - val_accuracy: 0.5948\n",
      "Epoch 40/100\n",
      "387/387 [==============================] - 2s 5ms/step - loss: 0.4897 - accuracy: 0.7563 - val_loss: 0.6875 - val_accuracy: 0.5940\n",
      "Epoch 41/100\n",
      "387/387 [==============================] - 2s 5ms/step - loss: 0.4893 - accuracy: 0.7562 - val_loss: 0.6882 - val_accuracy: 0.5964\n",
      "Epoch 42/100\n",
      "387/387 [==============================] - 2s 5ms/step - loss: 0.4891 - accuracy: 0.7565 - val_loss: 0.6883 - val_accuracy: 0.5952\n",
      "Epoch 43/100\n",
      "387/387 [==============================] - 2s 4ms/step - loss: 0.4889 - accuracy: 0.7564 - val_loss: 0.6884 - val_accuracy: 0.5917\n",
      "Epoch 44/100\n",
      "387/387 [==============================] - 2s 5ms/step - loss: 0.4887 - accuracy: 0.7568 - val_loss: 0.6886 - val_accuracy: 0.5917\n",
      "Epoch 45/100\n",
      "387/387 [==============================] - 2s 5ms/step - loss: 0.4885 - accuracy: 0.7567 - val_loss: 0.6887 - val_accuracy: 0.5901\n",
      "Epoch 46/100\n",
      "387/387 [==============================] - 2s 4ms/step - loss: 0.4882 - accuracy: 0.7572 - val_loss: 0.6886 - val_accuracy: 0.5953\n",
      "Epoch 47/100\n",
      "387/387 [==============================] - 2s 5ms/step - loss: 0.4881 - accuracy: 0.7568 - val_loss: 0.6890 - val_accuracy: 0.5910\n",
      "Epoch 48/100\n",
      "387/387 [==============================] - 2s 5ms/step - loss: 0.4878 - accuracy: 0.7575 - val_loss: 0.6890 - val_accuracy: 0.5906\n",
      "Epoch 49/100\n",
      "387/387 [==============================] - 2s 5ms/step - loss: 0.4877 - accuracy: 0.7575 - val_loss: 0.6887 - val_accuracy: 0.5908\n",
      "Epoch 50/100\n",
      "387/387 [==============================] - 2s 5ms/step - loss: 0.4875 - accuracy: 0.7575 - val_loss: 0.6892 - val_accuracy: 0.5862\n",
      "Epoch 51/100\n",
      "387/387 [==============================] - 2s 5ms/step - loss: 0.4873 - accuracy: 0.7577 - val_loss: 0.6895 - val_accuracy: 0.5873\n",
      "Epoch 52/100\n",
      "387/387 [==============================] - 2s 5ms/step - loss: 0.4872 - accuracy: 0.7574 - val_loss: 0.6893 - val_accuracy: 0.5868\n",
      "Epoch 53/100\n",
      "387/387 [==============================] - 2s 5ms/step - loss: 0.4871 - accuracy: 0.7576 - val_loss: 0.6893 - val_accuracy: 0.5878\n",
      "Epoch 54/100\n",
      "387/387 [==============================] - 2s 5ms/step - loss: 0.4869 - accuracy: 0.7576 - val_loss: 0.6889 - val_accuracy: 0.5888\n",
      "Epoch 55/100\n",
      "387/387 [==============================] - 2s 5ms/step - loss: 0.4868 - accuracy: 0.7577 - val_loss: 0.6889 - val_accuracy: 0.5896\n",
      "Epoch 56/100\n",
      "387/387 [==============================] - 2s 5ms/step - loss: 0.4866 - accuracy: 0.7581 - val_loss: 0.6886 - val_accuracy: 0.5910\n",
      "Epoch 57/100\n",
      "387/387 [==============================] - 2s 5ms/step - loss: 0.4865 - accuracy: 0.7577 - val_loss: 0.6889 - val_accuracy: 0.5862\n",
      "Epoch 58/100\n",
      "387/387 [==============================] - 2s 4ms/step - loss: 0.4864 - accuracy: 0.7578 - val_loss: 0.6888 - val_accuracy: 0.5892\n",
      "Epoch 59/100\n",
      "387/387 [==============================] - 2s 5ms/step - loss: 0.4863 - accuracy: 0.7580 - val_loss: 0.6892 - val_accuracy: 0.5869\n",
      "Epoch 60/100\n",
      "387/387 [==============================] - 2s 5ms/step - loss: 0.4862 - accuracy: 0.7581 - val_loss: 0.6895 - val_accuracy: 0.5857\n",
      "Epoch 61/100\n",
      "387/387 [==============================] - 2s 4ms/step - loss: 0.4861 - accuracy: 0.7578 - val_loss: 0.6893 - val_accuracy: 0.5885\n",
      "Epoch 62/100\n",
      "387/387 [==============================] - 2s 4ms/step - loss: 0.4860 - accuracy: 0.7578 - val_loss: 0.6893 - val_accuracy: 0.5870\n",
      "Epoch 63/100\n",
      "387/387 [==============================] - 2s 4ms/step - loss: 0.4859 - accuracy: 0.7582 - val_loss: 0.6895 - val_accuracy: 0.5841\n",
      "Epoch 64/100\n",
      "387/387 [==============================] - 2s 4ms/step - loss: 0.4858 - accuracy: 0.7578 - val_loss: 0.6892 - val_accuracy: 0.5858\n",
      "Epoch 65/100\n",
      "387/387 [==============================] - 2s 4ms/step - loss: 0.4857 - accuracy: 0.7572 - val_loss: 0.6892 - val_accuracy: 0.5838\n",
      "Epoch 66/100\n",
      "387/387 [==============================] - 2s 4ms/step - loss: 0.4856 - accuracy: 0.7572 - val_loss: 0.6894 - val_accuracy: 0.5836\n",
      "Epoch 67/100\n",
      "387/387 [==============================] - 2s 4ms/step - loss: 0.4855 - accuracy: 0.7570 - val_loss: 0.6897 - val_accuracy: 0.5861\n",
      "Epoch 68/100\n",
      "387/387 [==============================] - 2s 4ms/step - loss: 0.4854 - accuracy: 0.7578 - val_loss: 0.6896 - val_accuracy: 0.5859\n",
      "Epoch 69/100\n",
      "387/387 [==============================] - 2s 4ms/step - loss: 0.4853 - accuracy: 0.7577 - val_loss: 0.6893 - val_accuracy: 0.5848\n",
      "Epoch 70/100\n",
      "387/387 [==============================] - 2s 4ms/step - loss: 0.4853 - accuracy: 0.7569 - val_loss: 0.6888 - val_accuracy: 0.5881\n",
      "Epoch 71/100\n",
      "387/387 [==============================] - 2s 4ms/step - loss: 0.4852 - accuracy: 0.7573 - val_loss: 0.6892 - val_accuracy: 0.5847\n",
      "Epoch 72/100\n",
      "387/387 [==============================] - 2s 4ms/step - loss: 0.4852 - accuracy: 0.7561 - val_loss: 0.6894 - val_accuracy: 0.5836\n",
      "Epoch 73/100\n",
      "387/387 [==============================] - 2s 4ms/step - loss: 0.4851 - accuracy: 0.7570 - val_loss: 0.6895 - val_accuracy: 0.5851\n",
      "Epoch 74/100\n",
      "387/387 [==============================] - 2s 4ms/step - loss: 0.4851 - accuracy: 0.7570 - val_loss: 0.6897 - val_accuracy: 0.5846\n",
      "Epoch 75/100\n",
      "387/387 [==============================] - 2s 4ms/step - loss: 0.4850 - accuracy: 0.7574 - val_loss: 0.6901 - val_accuracy: 0.5816\n",
      "Epoch 76/100\n",
      "387/387 [==============================] - 2s 4ms/step - loss: 0.4849 - accuracy: 0.7572 - val_loss: 0.6901 - val_accuracy: 0.5824\n",
      "Epoch 77/100\n",
      "387/387 [==============================] - 2s 4ms/step - loss: 0.4849 - accuracy: 0.7570 - val_loss: 0.6901 - val_accuracy: 0.5852\n",
      "Epoch 78/100\n",
      "387/387 [==============================] - 2s 4ms/step - loss: 0.4848 - accuracy: 0.7570 - val_loss: 0.6902 - val_accuracy: 0.5832\n",
      "Epoch 79/100\n",
      "387/387 [==============================] - 2s 4ms/step - loss: 0.4848 - accuracy: 0.7568 - val_loss: 0.6901 - val_accuracy: 0.5863\n",
      "Epoch 80/100\n",
      "387/387 [==============================] - 2s 4ms/step - loss: 0.4847 - accuracy: 0.7572 - val_loss: 0.6903 - val_accuracy: 0.5822\n",
      "Epoch 81/100\n",
      "387/387 [==============================] - 2s 4ms/step - loss: 0.4846 - accuracy: 0.7568 - val_loss: 0.6902 - val_accuracy: 0.5858\n",
      "Epoch 82/100\n",
      "387/387 [==============================] - 2s 4ms/step - loss: 0.4846 - accuracy: 0.7569 - val_loss: 0.6904 - val_accuracy: 0.5846\n",
      "Epoch 83/100\n",
      "387/387 [==============================] - 2s 4ms/step - loss: 0.4846 - accuracy: 0.7571 - val_loss: 0.6903 - val_accuracy: 0.5843\n",
      "Epoch 84/100\n",
      "387/387 [==============================] - 2s 4ms/step - loss: 0.4845 - accuracy: 0.7572 - val_loss: 0.6904 - val_accuracy: 0.5850\n",
      "Epoch 85/100\n",
      "387/387 [==============================] - 2s 4ms/step - loss: 0.4845 - accuracy: 0.7569 - val_loss: 0.6902 - val_accuracy: 0.5846\n",
      "Epoch 86/100\n",
      "387/387 [==============================] - 2s 4ms/step - loss: 0.4845 - accuracy: 0.7569 - val_loss: 0.6900 - val_accuracy: 0.5838\n",
      "Epoch 87/100\n",
      "387/387 [==============================] - 2s 4ms/step - loss: 0.4844 - accuracy: 0.7569 - val_loss: 0.6899 - val_accuracy: 0.5845\n",
      "Epoch 88/100\n",
      "387/387 [==============================] - 2s 5ms/step - loss: 0.4844 - accuracy: 0.7569 - val_loss: 0.6902 - val_accuracy: 0.5850\n",
      "Epoch 89/100\n",
      "387/387 [==============================] - 2s 4ms/step - loss: 0.4843 - accuracy: 0.7568 - val_loss: 0.6901 - val_accuracy: 0.5831\n",
      "Epoch 90/100\n",
      "387/387 [==============================] - 2s 4ms/step - loss: 0.4843 - accuracy: 0.7567 - val_loss: 0.6904 - val_accuracy: 0.5839\n",
      "Epoch 91/100\n",
      "387/387 [==============================] - 2s 4ms/step - loss: 0.4843 - accuracy: 0.7566 - val_loss: 0.6905 - val_accuracy: 0.5824\n",
      "Epoch 92/100\n",
      "387/387 [==============================] - 2s 4ms/step - loss: 0.4843 - accuracy: 0.7568 - val_loss: 0.6906 - val_accuracy: 0.5832\n",
      "Epoch 93/100\n",
      "387/387 [==============================] - 2s 4ms/step - loss: 0.4842 - accuracy: 0.7569 - val_loss: 0.6902 - val_accuracy: 0.5828\n",
      "Epoch 94/100\n",
      "387/387 [==============================] - 2s 5ms/step - loss: 0.4842 - accuracy: 0.7572 - val_loss: 0.6905 - val_accuracy: 0.5822\n",
      "Epoch 95/100\n",
      "387/387 [==============================] - 2s 4ms/step - loss: 0.4841 - accuracy: 0.7570 - val_loss: 0.6906 - val_accuracy: 0.5823\n",
      "Epoch 96/100\n",
      "387/387 [==============================] - 2s 4ms/step - loss: 0.4841 - accuracy: 0.7567 - val_loss: 0.6904 - val_accuracy: 0.5831\n",
      "Epoch 97/100\n",
      "387/387 [==============================] - 2s 4ms/step - loss: 0.4840 - accuracy: 0.7568 - val_loss: 0.6906 - val_accuracy: 0.5838\n",
      "Epoch 98/100\n",
      "387/387 [==============================] - 2s 4ms/step - loss: 0.4840 - accuracy: 0.7568 - val_loss: 0.6904 - val_accuracy: 0.5835\n",
      "Epoch 99/100\n",
      "387/387 [==============================] - 2s 4ms/step - loss: 0.4840 - accuracy: 0.7571 - val_loss: 0.6902 - val_accuracy: 0.5838\n",
      "Epoch 100/100\n",
      "387/387 [==============================] - 2s 4ms/step - loss: 0.4840 - accuracy: 0.7573 - val_loss: 0.6901 - val_accuracy: 0.5823\n",
      "Epoch 1/100\n",
      "387/387 [==============================] - 6s 13ms/step - loss: 0.6092 - accuracy: 0.7035 - val_loss: 0.6031 - val_accuracy: 0.7018\n",
      "Epoch 2/100\n",
      "387/387 [==============================] - 5s 13ms/step - loss: 0.5757 - accuracy: 0.7037 - val_loss: 0.6014 - val_accuracy: 0.7014\n",
      "Epoch 3/100\n",
      "387/387 [==============================] - 5s 12ms/step - loss: 0.5531 - accuracy: 0.7131 - val_loss: 0.6069 - val_accuracy: 0.6874\n",
      "Epoch 4/100\n",
      "387/387 [==============================] - 4s 11ms/step - loss: 0.5362 - accuracy: 0.7210 - val_loss: 0.6171 - val_accuracy: 0.6719\n",
      "Epoch 5/100\n",
      "387/387 [==============================] - 4s 10ms/step - loss: 0.5243 - accuracy: 0.7338 - val_loss: 0.6298 - val_accuracy: 0.6548\n",
      "Epoch 6/100\n",
      "387/387 [==============================] - 4s 11ms/step - loss: 0.5159 - accuracy: 0.7407 - val_loss: 0.6425 - val_accuracy: 0.6383\n",
      "Epoch 7/100\n",
      "387/387 [==============================] - 4s 10ms/step - loss: 0.5100 - accuracy: 0.7464 - val_loss: 0.6549 - val_accuracy: 0.6254\n",
      "Epoch 8/100\n",
      "387/387 [==============================] - 4s 11ms/step - loss: 0.5054 - accuracy: 0.7481 - val_loss: 0.6620 - val_accuracy: 0.6218\n",
      "Epoch 9/100\n",
      "387/387 [==============================] - 4s 11ms/step - loss: 0.5012 - accuracy: 0.7499 - val_loss: 0.6685 - val_accuracy: 0.6154\n",
      "Epoch 10/100\n",
      "387/387 [==============================] - 4s 10ms/step - loss: 0.4975 - accuracy: 0.7515 - val_loss: 0.6754 - val_accuracy: 0.5998\n",
      "Epoch 11/100\n",
      "387/387 [==============================] - 4s 10ms/step - loss: 0.4943 - accuracy: 0.7540 - val_loss: 0.6782 - val_accuracy: 0.6035\n",
      "Epoch 12/100\n",
      "387/387 [==============================] - 4s 12ms/step - loss: 0.4908 - accuracy: 0.7558 - val_loss: 0.6828 - val_accuracy: 0.6004\n",
      "Epoch 13/100\n",
      "387/387 [==============================] - 4s 10ms/step - loss: 0.4875 - accuracy: 0.7574 - val_loss: 0.6853 - val_accuracy: 0.5979\n",
      "Epoch 14/100\n",
      "387/387 [==============================] - 4s 10ms/step - loss: 0.4842 - accuracy: 0.7592 - val_loss: 0.6910 - val_accuracy: 0.5860\n",
      "Epoch 15/100\n",
      "387/387 [==============================] - 4s 10ms/step - loss: 0.4806 - accuracy: 0.7630 - val_loss: 0.6883 - val_accuracy: 0.5976\n",
      "Epoch 16/100\n",
      "387/387 [==============================] - 4s 10ms/step - loss: 0.4771 - accuracy: 0.7650 - val_loss: 0.6950 - val_accuracy: 0.5860\n",
      "Epoch 17/100\n",
      "387/387 [==============================] - 4s 10ms/step - loss: 0.4734 - accuracy: 0.7674 - val_loss: 0.6934 - val_accuracy: 0.5922\n",
      "Epoch 18/100\n",
      "387/387 [==============================] - 4s 11ms/step - loss: 0.4698 - accuracy: 0.7705 - val_loss: 0.6962 - val_accuracy: 0.5965\n",
      "Epoch 19/100\n",
      "387/387 [==============================] - 4s 11ms/step - loss: 0.4661 - accuracy: 0.7744 - val_loss: 0.6974 - val_accuracy: 0.5986\n",
      "Epoch 20/100\n",
      "387/387 [==============================] - 4s 11ms/step - loss: 0.4625 - accuracy: 0.7767 - val_loss: 0.6996 - val_accuracy: 0.5979\n",
      "Epoch 21/100\n",
      "387/387 [==============================] - 4s 11ms/step - loss: 0.4589 - accuracy: 0.7792 - val_loss: 0.7019 - val_accuracy: 0.5972\n",
      "Epoch 22/100\n",
      "387/387 [==============================] - 4s 10ms/step - loss: 0.4554 - accuracy: 0.7829 - val_loss: 0.7074 - val_accuracy: 0.5929\n",
      "Epoch 23/100\n",
      "387/387 [==============================] - 5s 13ms/step - loss: 0.4519 - accuracy: 0.7852 - val_loss: 0.7109 - val_accuracy: 0.5971\n",
      "Epoch 24/100\n",
      "387/387 [==============================] - 5s 14ms/step - loss: 0.4487 - accuracy: 0.7876 - val_loss: 0.7127 - val_accuracy: 0.5990\n",
      "Epoch 25/100\n",
      "387/387 [==============================] - 5s 13ms/step - loss: 0.4457 - accuracy: 0.7952 - val_loss: 0.7154 - val_accuracy: 0.6095\n",
      "Epoch 26/100\n",
      "387/387 [==============================] - 5s 13ms/step - loss: 0.4426 - accuracy: 0.8000 - val_loss: 0.7202 - val_accuracy: 0.6089\n",
      "Epoch 27/100\n",
      "387/387 [==============================] - 5s 13ms/step - loss: 0.4399 - accuracy: 0.8022 - val_loss: 0.7188 - val_accuracy: 0.6140\n",
      "Epoch 28/100\n",
      "387/387 [==============================] - 4s 10ms/step - loss: 0.4371 - accuracy: 0.8031 - val_loss: 0.7219 - val_accuracy: 0.6113\n",
      "Epoch 29/100\n",
      "387/387 [==============================] - 4s 11ms/step - loss: 0.4346 - accuracy: 0.8047 - val_loss: 0.7235 - val_accuracy: 0.6170\n",
      "Epoch 30/100\n",
      "387/387 [==============================] - 4s 11ms/step - loss: 0.4322 - accuracy: 0.8063 - val_loss: 0.7307 - val_accuracy: 0.6145\n",
      "Epoch 31/100\n",
      "387/387 [==============================] - 4s 11ms/step - loss: 0.4299 - accuracy: 0.8076 - val_loss: 0.7338 - val_accuracy: 0.6149\n",
      "Epoch 32/100\n",
      "387/387 [==============================] - 4s 10ms/step - loss: 0.4277 - accuracy: 0.8090 - val_loss: 0.7402 - val_accuracy: 0.6134\n",
      "Epoch 33/100\n",
      "387/387 [==============================] - 5s 12ms/step - loss: 0.4257 - accuracy: 0.8100 - val_loss: 0.7403 - val_accuracy: 0.6141\n",
      "Epoch 34/100\n",
      "387/387 [==============================] - 5s 12ms/step - loss: 0.4239 - accuracy: 0.8115 - val_loss: 0.7467 - val_accuracy: 0.6121\n",
      "Epoch 35/100\n",
      "387/387 [==============================] - 4s 11ms/step - loss: 0.4219 - accuracy: 0.8121 - val_loss: 0.7503 - val_accuracy: 0.6132\n",
      "Epoch 36/100\n",
      "387/387 [==============================] - 4s 11ms/step - loss: 0.4202 - accuracy: 0.8136 - val_loss: 0.7537 - val_accuracy: 0.6123\n",
      "Epoch 37/100\n",
      "387/387 [==============================] - 4s 11ms/step - loss: 0.4184 - accuracy: 0.8152 - val_loss: 0.7587 - val_accuracy: 0.6142\n",
      "Epoch 38/100\n",
      "387/387 [==============================] - 4s 11ms/step - loss: 0.4169 - accuracy: 0.8164 - val_loss: 0.7608 - val_accuracy: 0.6137\n",
      "Epoch 39/100\n",
      "387/387 [==============================] - 4s 11ms/step - loss: 0.4153 - accuracy: 0.8168 - val_loss: 0.7624 - val_accuracy: 0.6164\n",
      "Epoch 40/100\n",
      "387/387 [==============================] - 4s 11ms/step - loss: 0.4140 - accuracy: 0.8177 - val_loss: 0.7681 - val_accuracy: 0.6133\n",
      "Epoch 41/100\n",
      "387/387 [==============================] - 4s 11ms/step - loss: 0.4125 - accuracy: 0.8191 - val_loss: 0.7709 - val_accuracy: 0.6157\n",
      "Epoch 42/100\n",
      "387/387 [==============================] - 4s 11ms/step - loss: 0.4112 - accuracy: 0.8201 - val_loss: 0.7751 - val_accuracy: 0.6139\n",
      "Epoch 43/100\n",
      "387/387 [==============================] - 5s 12ms/step - loss: 0.4100 - accuracy: 0.8201 - val_loss: 0.7775 - val_accuracy: 0.6141\n",
      "Epoch 44/100\n",
      "387/387 [==============================] - 4s 11ms/step - loss: 0.4088 - accuracy: 0.8209 - val_loss: 0.7829 - val_accuracy: 0.6110\n",
      "Epoch 45/100\n",
      "387/387 [==============================] - 4s 11ms/step - loss: 0.4076 - accuracy: 0.8215 - val_loss: 0.7812 - val_accuracy: 0.6150\n",
      "Epoch 46/100\n",
      "387/387 [==============================] - 4s 11ms/step - loss: 0.4065 - accuracy: 0.8220 - val_loss: 0.7928 - val_accuracy: 0.6086\n",
      "Epoch 47/100\n",
      "387/387 [==============================] - 5s 14ms/step - loss: 0.4052 - accuracy: 0.8227 - val_loss: 0.7881 - val_accuracy: 0.6126\n",
      "Epoch 48/100\n",
      "387/387 [==============================] - 5s 14ms/step - loss: 0.4042 - accuracy: 0.8227 - val_loss: 0.7904 - val_accuracy: 0.6127\n",
      "Epoch 49/100\n",
      "387/387 [==============================] - 4s 11ms/step - loss: 0.4031 - accuracy: 0.8239 - val_loss: 0.7952 - val_accuracy: 0.6136\n",
      "Epoch 50/100\n",
      "387/387 [==============================] - 4s 10ms/step - loss: 0.4022 - accuracy: 0.8245 - val_loss: 0.8005 - val_accuracy: 0.6116\n",
      "Epoch 51/100\n",
      "387/387 [==============================] - 4s 10ms/step - loss: 0.4012 - accuracy: 0.8248 - val_loss: 0.8029 - val_accuracy: 0.6109\n",
      "Epoch 52/100\n",
      "387/387 [==============================] - 4s 11ms/step - loss: 0.4003 - accuracy: 0.8255 - val_loss: 0.8011 - val_accuracy: 0.6119\n",
      "Epoch 53/100\n",
      "387/387 [==============================] - 4s 10ms/step - loss: 0.3994 - accuracy: 0.8261 - val_loss: 0.8068 - val_accuracy: 0.6104\n",
      "Epoch 54/100\n",
      "387/387 [==============================] - 4s 10ms/step - loss: 0.3985 - accuracy: 0.8270 - val_loss: 0.8076 - val_accuracy: 0.6122\n",
      "Epoch 55/100\n",
      "387/387 [==============================] - 5s 13ms/step - loss: 0.3977 - accuracy: 0.8274 - val_loss: 0.8088 - val_accuracy: 0.6112\n",
      "Epoch 56/100\n",
      "387/387 [==============================] - 6s 17ms/step - loss: 0.3968 - accuracy: 0.8283 - val_loss: 0.8111 - val_accuracy: 0.6124\n",
      "Epoch 57/100\n",
      "387/387 [==============================] - 5s 13ms/step - loss: 0.3961 - accuracy: 0.8285 - val_loss: 0.8165 - val_accuracy: 0.6111\n",
      "Epoch 58/100\n",
      "387/387 [==============================] - 4s 10ms/step - loss: 0.3953 - accuracy: 0.8290 - val_loss: 0.8214 - val_accuracy: 0.6116\n",
      "Epoch 59/100\n",
      "387/387 [==============================] - 4s 10ms/step - loss: 0.3948 - accuracy: 0.8295 - val_loss: 0.8230 - val_accuracy: 0.6107\n",
      "Epoch 60/100\n",
      "387/387 [==============================] - 4s 11ms/step - loss: 0.3941 - accuracy: 0.8293 - val_loss: 0.8212 - val_accuracy: 0.6116\n",
      "Epoch 61/100\n",
      "387/387 [==============================] - 4s 10ms/step - loss: 0.3934 - accuracy: 0.8302 - val_loss: 0.8315 - val_accuracy: 0.6088\n",
      "Epoch 62/100\n",
      "387/387 [==============================] - 4s 11ms/step - loss: 0.3928 - accuracy: 0.8296 - val_loss: 0.8287 - val_accuracy: 0.6104\n",
      "Epoch 63/100\n",
      "387/387 [==============================] - 4s 10ms/step - loss: 0.3922 - accuracy: 0.8305 - val_loss: 0.8318 - val_accuracy: 0.6106\n",
      "Epoch 64/100\n",
      "387/387 [==============================] - 4s 11ms/step - loss: 0.3916 - accuracy: 0.8308 - val_loss: 0.8310 - val_accuracy: 0.6129\n",
      "Epoch 65/100\n",
      "387/387 [==============================] - 4s 11ms/step - loss: 0.3909 - accuracy: 0.8319 - val_loss: 0.8261 - val_accuracy: 0.6161\n",
      "Epoch 66/100\n",
      "387/387 [==============================] - 5s 12ms/step - loss: 0.3905 - accuracy: 0.8319 - val_loss: 0.8329 - val_accuracy: 0.6129\n",
      "Epoch 67/100\n",
      "387/387 [==============================] - 4s 10ms/step - loss: 0.3898 - accuracy: 0.8324 - val_loss: 0.8391 - val_accuracy: 0.6121\n",
      "Epoch 68/100\n",
      "387/387 [==============================] - 4s 11ms/step - loss: 0.3893 - accuracy: 0.8330 - val_loss: 0.8423 - val_accuracy: 0.6122\n",
      "Epoch 69/100\n",
      "387/387 [==============================] - 4s 12ms/step - loss: 0.3888 - accuracy: 0.8329 - val_loss: 0.8424 - val_accuracy: 0.6109\n",
      "Epoch 70/100\n",
      "387/387 [==============================] - 5s 14ms/step - loss: 0.3883 - accuracy: 0.8336 - val_loss: 0.8406 - val_accuracy: 0.6143\n",
      "Epoch 71/100\n",
      "387/387 [==============================] - 5s 14ms/step - loss: 0.3878 - accuracy: 0.8341 - val_loss: 0.8408 - val_accuracy: 0.6133\n",
      "Epoch 72/100\n",
      "387/387 [==============================] - 6s 15ms/step - loss: 0.3873 - accuracy: 0.8347 - val_loss: 0.8477 - val_accuracy: 0.6113\n",
      "Epoch 73/100\n",
      "387/387 [==============================] - 5s 14ms/step - loss: 0.3868 - accuracy: 0.8348 - val_loss: 0.8493 - val_accuracy: 0.6108\n",
      "Epoch 74/100\n",
      "387/387 [==============================] - 6s 14ms/step - loss: 0.3862 - accuracy: 0.8348 - val_loss: 0.8514 - val_accuracy: 0.6128\n",
      "Epoch 75/100\n",
      "387/387 [==============================] - 4s 11ms/step - loss: 0.3858 - accuracy: 0.8354 - val_loss: 0.8473 - val_accuracy: 0.6131\n",
      "Epoch 76/100\n",
      "387/387 [==============================] - 4s 11ms/step - loss: 0.3854 - accuracy: 0.8356 - val_loss: 0.8464 - val_accuracy: 0.6142\n",
      "Epoch 77/100\n",
      "387/387 [==============================] - 4s 11ms/step - loss: 0.3849 - accuracy: 0.8358 - val_loss: 0.8517 - val_accuracy: 0.6120\n",
      "Epoch 78/100\n",
      "387/387 [==============================] - 4s 11ms/step - loss: 0.3844 - accuracy: 0.8363 - val_loss: 0.8565 - val_accuracy: 0.6120\n",
      "Epoch 79/100\n",
      "387/387 [==============================] - 4s 11ms/step - loss: 0.3840 - accuracy: 0.8366 - val_loss: 0.8552 - val_accuracy: 0.6123\n",
      "Epoch 80/100\n",
      "387/387 [==============================] - 4s 10ms/step - loss: 0.3836 - accuracy: 0.8372 - val_loss: 0.8594 - val_accuracy: 0.6125\n",
      "Epoch 81/100\n",
      "387/387 [==============================] - 4s 11ms/step - loss: 0.3831 - accuracy: 0.8374 - val_loss: 0.8635 - val_accuracy: 0.6121\n",
      "Epoch 82/100\n",
      "387/387 [==============================] - 4s 11ms/step - loss: 0.3828 - accuracy: 0.8375 - val_loss: 0.8590 - val_accuracy: 0.6143\n",
      "Epoch 83/100\n",
      "387/387 [==============================] - 5s 12ms/step - loss: 0.3824 - accuracy: 0.8381 - val_loss: 0.8633 - val_accuracy: 0.6128\n",
      "Epoch 84/100\n",
      "387/387 [==============================] - 6s 14ms/step - loss: 0.3820 - accuracy: 0.8382 - val_loss: 0.8554 - val_accuracy: 0.6167\n",
      "Epoch 85/100\n",
      "387/387 [==============================] - 5s 14ms/step - loss: 0.3816 - accuracy: 0.8388 - val_loss: 0.8595 - val_accuracy: 0.6150\n",
      "Epoch 86/100\n",
      "387/387 [==============================] - 5s 13ms/step - loss: 0.3812 - accuracy: 0.8388 - val_loss: 0.8610 - val_accuracy: 0.6143\n",
      "Epoch 87/100\n",
      "387/387 [==============================] - 5s 12ms/step - loss: 0.3808 - accuracy: 0.8389 - val_loss: 0.8640 - val_accuracy: 0.6138\n",
      "Epoch 88/100\n",
      "387/387 [==============================] - 5s 12ms/step - loss: 0.3805 - accuracy: 0.8394 - val_loss: 0.8595 - val_accuracy: 0.6156\n",
      "Epoch 89/100\n",
      "387/387 [==============================] - 5s 13ms/step - loss: 0.3800 - accuracy: 0.8398 - val_loss: 0.8634 - val_accuracy: 0.6150\n",
      "Epoch 90/100\n",
      "387/387 [==============================] - 6s 16ms/step - loss: 0.3797 - accuracy: 0.8395 - val_loss: 0.8657 - val_accuracy: 0.6147\n",
      "Epoch 91/100\n",
      "387/387 [==============================] - 8s 21ms/step - loss: 0.3793 - accuracy: 0.8398 - val_loss: 0.8690 - val_accuracy: 0.6123\n",
      "Epoch 92/100\n",
      "387/387 [==============================] - 10s 25ms/step - loss: 0.3790 - accuracy: 0.8404 - val_loss: 0.8648 - val_accuracy: 0.6153\n",
      "Epoch 93/100\n",
      "387/387 [==============================] - 8s 21ms/step - loss: 0.3786 - accuracy: 0.8406 - val_loss: 0.8722 - val_accuracy: 0.6135\n",
      "Epoch 94/100\n",
      "387/387 [==============================] - 7s 18ms/step - loss: 0.3783 - accuracy: 0.8405 - val_loss: 0.8696 - val_accuracy: 0.6139\n",
      "Epoch 95/100\n",
      "387/387 [==============================] - 7s 17ms/step - loss: 0.3779 - accuracy: 0.8412 - val_loss: 0.8723 - val_accuracy: 0.6139\n",
      "Epoch 96/100\n",
      "387/387 [==============================] - 7s 18ms/step - loss: 0.3777 - accuracy: 0.8408 - val_loss: 0.8756 - val_accuracy: 0.6126\n",
      "Epoch 97/100\n",
      "387/387 [==============================] - 6s 16ms/step - loss: 0.3774 - accuracy: 0.8412 - val_loss: 0.8739 - val_accuracy: 0.6135\n",
      "Epoch 98/100\n",
      "387/387 [==============================] - 6s 17ms/step - loss: 0.3770 - accuracy: 0.8416 - val_loss: 0.8769 - val_accuracy: 0.6145\n",
      "Epoch 99/100\n",
      "387/387 [==============================] - 7s 19ms/step - loss: 0.3768 - accuracy: 0.8413 - val_loss: 0.8726 - val_accuracy: 0.6153\n",
      "Epoch 100/100\n",
      "387/387 [==============================] - 7s 18ms/step - loss: 0.3765 - accuracy: 0.8421 - val_loss: 0.8740 - val_accuracy: 0.6157\n",
      "Epoch 1/100\n",
      "387/387 [==============================] - 9s 21ms/step - loss: 0.6195 - accuracy: 0.7031 - val_loss: 0.6057 - val_accuracy: 0.7018\n",
      "Epoch 2/100\n",
      "387/387 [==============================] - 7s 17ms/step - loss: 0.5887 - accuracy: 0.7037 - val_loss: 0.6017 - val_accuracy: 0.7018\n",
      "Epoch 3/100\n",
      "387/387 [==============================] - 6s 15ms/step - loss: 0.5672 - accuracy: 0.7058 - val_loss: 0.6024 - val_accuracy: 0.7011\n",
      "Epoch 4/100\n",
      "387/387 [==============================] - 6s 15ms/step - loss: 0.5457 - accuracy: 0.7200 - val_loss: 0.6131 - val_accuracy: 0.6754\n",
      "Epoch 5/100\n",
      "387/387 [==============================] - 6s 16ms/step - loss: 0.5292 - accuracy: 0.7283 - val_loss: 0.6261 - val_accuracy: 0.6617\n",
      "Epoch 6/100\n",
      "387/387 [==============================] - 6s 16ms/step - loss: 0.5179 - accuracy: 0.7393 - val_loss: 0.6402 - val_accuracy: 0.6527\n",
      "Epoch 7/100\n",
      "387/387 [==============================] - 6s 15ms/step - loss: 0.5096 - accuracy: 0.7453 - val_loss: 0.6549 - val_accuracy: 0.6389\n",
      "Epoch 8/100\n",
      "387/387 [==============================] - 6s 15ms/step - loss: 0.5030 - accuracy: 0.7498 - val_loss: 0.6663 - val_accuracy: 0.6309\n",
      "Epoch 9/100\n",
      "387/387 [==============================] - 6s 15ms/step - loss: 0.4973 - accuracy: 0.7534 - val_loss: 0.6764 - val_accuracy: 0.6243\n",
      "Epoch 10/100\n",
      "387/387 [==============================] - 6s 15ms/step - loss: 0.4918 - accuracy: 0.7572 - val_loss: 0.6843 - val_accuracy: 0.6218\n",
      "Epoch 11/100\n",
      "387/387 [==============================] - 6s 14ms/step - loss: 0.4870 - accuracy: 0.7615 - val_loss: 0.6863 - val_accuracy: 0.6257\n",
      "Epoch 12/100\n",
      "387/387 [==============================] - 6s 16ms/step - loss: 0.4824 - accuracy: 0.7646 - val_loss: 0.6892 - val_accuracy: 0.6256\n",
      "Epoch 13/100\n",
      "387/387 [==============================] - 6s 16ms/step - loss: 0.4778 - accuracy: 0.7683 - val_loss: 0.6933 - val_accuracy: 0.6245\n",
      "Epoch 14/100\n",
      "387/387 [==============================] - 6s 15ms/step - loss: 0.4734 - accuracy: 0.7708 - val_loss: 0.7014 - val_accuracy: 0.6201\n",
      "Epoch 15/100\n",
      "387/387 [==============================] - 6s 16ms/step - loss: 0.4692 - accuracy: 0.7745 - val_loss: 0.7022 - val_accuracy: 0.6218\n",
      "Epoch 16/100\n",
      "387/387 [==============================] - 7s 18ms/step - loss: 0.4651 - accuracy: 0.7777 - val_loss: 0.7053 - val_accuracy: 0.6208\n",
      "Epoch 17/100\n",
      "387/387 [==============================] - 8s 20ms/step - loss: 0.4610 - accuracy: 0.7811 - val_loss: 0.7054 - val_accuracy: 0.6240\n",
      "Epoch 18/100\n",
      "387/387 [==============================] - 7s 17ms/step - loss: 0.4573 - accuracy: 0.7837 - val_loss: 0.7117 - val_accuracy: 0.6197\n",
      "Epoch 19/100\n",
      "387/387 [==============================] - 6s 16ms/step - loss: 0.4537 - accuracy: 0.7862 - val_loss: 0.7185 - val_accuracy: 0.6143\n",
      "Epoch 20/100\n",
      "387/387 [==============================] - 7s 17ms/step - loss: 0.4500 - accuracy: 0.7886 - val_loss: 0.7158 - val_accuracy: 0.6202\n",
      "Epoch 21/100\n",
      "387/387 [==============================] - 5s 14ms/step - loss: 0.4466 - accuracy: 0.7907 - val_loss: 0.7291 - val_accuracy: 0.6099\n",
      "Epoch 22/100\n",
      "387/387 [==============================] - 6s 15ms/step - loss: 0.4433 - accuracy: 0.7925 - val_loss: 0.7278 - val_accuracy: 0.6119\n",
      "Epoch 23/100\n",
      "387/387 [==============================] - 6s 16ms/step - loss: 0.4400 - accuracy: 0.7949 - val_loss: 0.7284 - val_accuracy: 0.6163\n",
      "Epoch 24/100\n",
      "387/387 [==============================] - 7s 18ms/step - loss: 0.4370 - accuracy: 0.7963 - val_loss: 0.7306 - val_accuracy: 0.6176\n",
      "Epoch 25/100\n",
      "387/387 [==============================] - 6s 14ms/step - loss: 0.4341 - accuracy: 0.7992 - val_loss: 0.7354 - val_accuracy: 0.6144\n",
      "Epoch 26/100\n",
      "387/387 [==============================] - 5s 13ms/step - loss: 0.4311 - accuracy: 0.8005 - val_loss: 0.7370 - val_accuracy: 0.6174\n",
      "Epoch 27/100\n",
      "387/387 [==============================] - 6s 16ms/step - loss: 0.4284 - accuracy: 0.8020 - val_loss: 0.7412 - val_accuracy: 0.6173\n",
      "Epoch 28/100\n",
      "387/387 [==============================] - 5s 13ms/step - loss: 0.4258 - accuracy: 0.8031 - val_loss: 0.7469 - val_accuracy: 0.6141\n",
      "Epoch 29/100\n",
      "387/387 [==============================] - 5s 12ms/step - loss: 0.4233 - accuracy: 0.8050 - val_loss: 0.7558 - val_accuracy: 0.6118\n",
      "Epoch 30/100\n",
      "387/387 [==============================] - 5s 12ms/step - loss: 0.4209 - accuracy: 0.8066 - val_loss: 0.7519 - val_accuracy: 0.6190\n",
      "Epoch 31/100\n",
      "387/387 [==============================] - 5s 12ms/step - loss: 0.4187 - accuracy: 0.8081 - val_loss: 0.7649 - val_accuracy: 0.6124\n",
      "Epoch 32/100\n",
      "387/387 [==============================] - 5s 12ms/step - loss: 0.4164 - accuracy: 0.8092 - val_loss: 0.7630 - val_accuracy: 0.6164\n",
      "Epoch 33/100\n",
      "387/387 [==============================] - 5s 13ms/step - loss: 0.4143 - accuracy: 0.8107 - val_loss: 0.7716 - val_accuracy: 0.6143\n",
      "Epoch 34/100\n",
      "387/387 [==============================] - 5s 13ms/step - loss: 0.4122 - accuracy: 0.8120 - val_loss: 0.7753 - val_accuracy: 0.6149\n",
      "Epoch 35/100\n",
      "387/387 [==============================] - 5s 13ms/step - loss: 0.4104 - accuracy: 0.8124 - val_loss: 0.7724 - val_accuracy: 0.6180\n",
      "Epoch 36/100\n",
      "387/387 [==============================] - 5s 13ms/step - loss: 0.4084 - accuracy: 0.8139 - val_loss: 0.7842 - val_accuracy: 0.6115\n",
      "Epoch 37/100\n",
      "387/387 [==============================] - 5s 13ms/step - loss: 0.4067 - accuracy: 0.8160 - val_loss: 0.7807 - val_accuracy: 0.6166\n",
      "Epoch 38/100\n",
      "387/387 [==============================] - 6s 15ms/step - loss: 0.4049 - accuracy: 0.8164 - val_loss: 0.7944 - val_accuracy: 0.6131\n",
      "Epoch 39/100\n",
      "387/387 [==============================] - 5s 13ms/step - loss: 0.4030 - accuracy: 0.8180 - val_loss: 0.7966 - val_accuracy: 0.6129\n",
      "Epoch 40/100\n",
      "387/387 [==============================] - 5s 14ms/step - loss: 0.4013 - accuracy: 0.8190 - val_loss: 0.7966 - val_accuracy: 0.6162\n",
      "Epoch 41/100\n",
      "387/387 [==============================] - 5s 14ms/step - loss: 0.3998 - accuracy: 0.8209 - val_loss: 0.8090 - val_accuracy: 0.6113\n",
      "Epoch 42/100\n",
      "387/387 [==============================] - 5s 13ms/step - loss: 0.3982 - accuracy: 0.8204 - val_loss: 0.8109 - val_accuracy: 0.6148\n",
      "Epoch 43/100\n",
      "387/387 [==============================] - 5s 12ms/step - loss: 0.3969 - accuracy: 0.8215 - val_loss: 0.8100 - val_accuracy: 0.6165\n",
      "Epoch 44/100\n",
      "387/387 [==============================] - 5s 12ms/step - loss: 0.3954 - accuracy: 0.8228 - val_loss: 0.8123 - val_accuracy: 0.6158\n",
      "Epoch 45/100\n",
      "387/387 [==============================] - 5s 13ms/step - loss: 0.3938 - accuracy: 0.8233 - val_loss: 0.8211 - val_accuracy: 0.6110\n",
      "Epoch 46/100\n",
      "387/387 [==============================] - 5s 13ms/step - loss: 0.3924 - accuracy: 0.8238 - val_loss: 0.8255 - val_accuracy: 0.6134\n",
      "Epoch 47/100\n",
      "387/387 [==============================] - 5s 12ms/step - loss: 0.3912 - accuracy: 0.8252 - val_loss: 0.8270 - val_accuracy: 0.6118\n",
      "Epoch 48/100\n",
      "387/387 [==============================] - 5s 13ms/step - loss: 0.3898 - accuracy: 0.8261 - val_loss: 0.8262 - val_accuracy: 0.6194\n",
      "Epoch 49/100\n",
      "387/387 [==============================] - 5s 13ms/step - loss: 0.3886 - accuracy: 0.8270 - val_loss: 0.8365 - val_accuracy: 0.6139\n",
      "Epoch 50/100\n",
      "387/387 [==============================] - 5s 12ms/step - loss: 0.3873 - accuracy: 0.8277 - val_loss: 0.8450 - val_accuracy: 0.6103\n",
      "Epoch 51/100\n",
      "387/387 [==============================] - 5s 13ms/step - loss: 0.3860 - accuracy: 0.8288 - val_loss: 0.8412 - val_accuracy: 0.6160\n",
      "Epoch 52/100\n",
      "387/387 [==============================] - 5s 13ms/step - loss: 0.3848 - accuracy: 0.8294 - val_loss: 0.8499 - val_accuracy: 0.6113\n",
      "Epoch 53/100\n",
      "387/387 [==============================] - 5s 13ms/step - loss: 0.3837 - accuracy: 0.8301 - val_loss: 0.8511 - val_accuracy: 0.6134\n",
      "Epoch 54/100\n",
      "387/387 [==============================] - 6s 15ms/step - loss: 0.3825 - accuracy: 0.8309 - val_loss: 0.8538 - val_accuracy: 0.6127\n",
      "Epoch 55/100\n",
      "387/387 [==============================] - 5s 13ms/step - loss: 0.3814 - accuracy: 0.8315 - val_loss: 0.8640 - val_accuracy: 0.6084\n",
      "Epoch 56/100\n",
      "387/387 [==============================] - 5s 12ms/step - loss: 0.3803 - accuracy: 0.8328 - val_loss: 0.8633 - val_accuracy: 0.6098\n",
      "Epoch 57/100\n",
      "387/387 [==============================] - 5s 13ms/step - loss: 0.3792 - accuracy: 0.8333 - val_loss: 0.8717 - val_accuracy: 0.6078\n",
      "Epoch 58/100\n",
      "387/387 [==============================] - 5s 12ms/step - loss: 0.3783 - accuracy: 0.8334 - val_loss: 0.8749 - val_accuracy: 0.6094\n",
      "Epoch 59/100\n",
      "387/387 [==============================] - 5s 12ms/step - loss: 0.3772 - accuracy: 0.8341 - val_loss: 0.8672 - val_accuracy: 0.6118\n",
      "Epoch 60/100\n",
      "387/387 [==============================] - 5s 12ms/step - loss: 0.3762 - accuracy: 0.8358 - val_loss: 0.8734 - val_accuracy: 0.6093\n",
      "Epoch 61/100\n",
      "387/387 [==============================] - 5s 13ms/step - loss: 0.3753 - accuracy: 0.8356 - val_loss: 0.8829 - val_accuracy: 0.6095\n",
      "Epoch 62/100\n",
      "387/387 [==============================] - 4s 11ms/step - loss: 0.3744 - accuracy: 0.8367 - val_loss: 0.8910 - val_accuracy: 0.6076\n",
      "Epoch 63/100\n",
      "387/387 [==============================] - 4s 12ms/step - loss: 0.3735 - accuracy: 0.8377 - val_loss: 0.8901 - val_accuracy: 0.6106\n",
      "Epoch 64/100\n",
      "387/387 [==============================] - 4s 11ms/step - loss: 0.3727 - accuracy: 0.8374 - val_loss: 0.8845 - val_accuracy: 0.6114\n",
      "Epoch 65/100\n",
      "387/387 [==============================] - 5s 13ms/step - loss: 0.3719 - accuracy: 0.8381 - val_loss: 0.9002 - val_accuracy: 0.6062\n",
      "Epoch 66/100\n",
      "387/387 [==============================] - 5s 13ms/step - loss: 0.3709 - accuracy: 0.8385 - val_loss: 0.8908 - val_accuracy: 0.6125\n",
      "Epoch 67/100\n",
      "387/387 [==============================] - 5s 13ms/step - loss: 0.3702 - accuracy: 0.8391 - val_loss: 0.9082 - val_accuracy: 0.6055\n",
      "Epoch 68/100\n",
      "387/387 [==============================] - 5s 13ms/step - loss: 0.3695 - accuracy: 0.8394 - val_loss: 0.9105 - val_accuracy: 0.6064\n",
      "Epoch 69/100\n",
      "387/387 [==============================] - 5s 12ms/step - loss: 0.3687 - accuracy: 0.8395 - val_loss: 0.8973 - val_accuracy: 0.6121\n",
      "Epoch 70/100\n",
      "387/387 [==============================] - 5s 12ms/step - loss: 0.3678 - accuracy: 0.8400 - val_loss: 0.9158 - val_accuracy: 0.6078\n",
      "Epoch 71/100\n",
      "387/387 [==============================] - 5s 12ms/step - loss: 0.3671 - accuracy: 0.8409 - val_loss: 0.9140 - val_accuracy: 0.6096\n",
      "Epoch 72/100\n",
      "387/387 [==============================] - 5s 12ms/step - loss: 0.3664 - accuracy: 0.8411 - val_loss: 0.9138 - val_accuracy: 0.6101\n",
      "Epoch 73/100\n",
      "387/387 [==============================] - 5s 12ms/step - loss: 0.3657 - accuracy: 0.8419 - val_loss: 0.9214 - val_accuracy: 0.6078\n",
      "Epoch 74/100\n",
      "387/387 [==============================] - 5s 13ms/step - loss: 0.3650 - accuracy: 0.8421 - val_loss: 0.9199 - val_accuracy: 0.6099\n",
      "Epoch 75/100\n",
      "387/387 [==============================] - 5s 12ms/step - loss: 0.3642 - accuracy: 0.8426 - val_loss: 0.9235 - val_accuracy: 0.6093\n",
      "Epoch 76/100\n",
      "387/387 [==============================] - 5s 13ms/step - loss: 0.3635 - accuracy: 0.8428 - val_loss: 0.9228 - val_accuracy: 0.6111\n",
      "Epoch 77/100\n",
      "387/387 [==============================] - 5s 12ms/step - loss: 0.3627 - accuracy: 0.8436 - val_loss: 0.9251 - val_accuracy: 0.6109\n",
      "Epoch 78/100\n",
      "387/387 [==============================] - 5s 12ms/step - loss: 0.3622 - accuracy: 0.8434 - val_loss: 0.9340 - val_accuracy: 0.6089\n",
      "Epoch 79/100\n",
      "387/387 [==============================] - 5s 12ms/step - loss: 0.3614 - accuracy: 0.8445 - val_loss: 0.9433 - val_accuracy: 0.6071\n",
      "Epoch 80/100\n",
      "387/387 [==============================] - 5s 12ms/step - loss: 0.3606 - accuracy: 0.8448 - val_loss: 0.9380 - val_accuracy: 0.6091\n",
      "Epoch 81/100\n",
      "387/387 [==============================] - 5s 14ms/step - loss: 0.3601 - accuracy: 0.8451 - val_loss: 0.9411 - val_accuracy: 0.6097\n",
      "Epoch 82/100\n",
      "387/387 [==============================] - 5s 13ms/step - loss: 0.3595 - accuracy: 0.8458 - val_loss: 0.9406 - val_accuracy: 0.6100\n",
      "Epoch 83/100\n",
      "387/387 [==============================] - 5s 12ms/step - loss: 0.3587 - accuracy: 0.8455 - val_loss: 0.9396 - val_accuracy: 0.6092\n",
      "Epoch 84/100\n",
      "387/387 [==============================] - 5s 12ms/step - loss: 0.3577 - accuracy: 0.8463 - val_loss: 0.9413 - val_accuracy: 0.6107\n",
      "Epoch 85/100\n",
      "387/387 [==============================] - 5s 12ms/step - loss: 0.3563 - accuracy: 0.8467 - val_loss: 0.9388 - val_accuracy: 0.6081\n",
      "Epoch 86/100\n",
      "387/387 [==============================] - 5s 12ms/step - loss: 0.3550 - accuracy: 0.8469 - val_loss: 0.9422 - val_accuracy: 0.6104\n",
      "Epoch 87/100\n",
      "387/387 [==============================] - 4s 12ms/step - loss: 0.3533 - accuracy: 0.8488 - val_loss: 0.9539 - val_accuracy: 0.6031\n",
      "Epoch 88/100\n",
      "387/387 [==============================] - 5s 12ms/step - loss: 0.3517 - accuracy: 0.8530 - val_loss: 0.9505 - val_accuracy: 0.6172\n",
      "Epoch 89/100\n",
      "387/387 [==============================] - 5s 12ms/step - loss: 0.3499 - accuracy: 0.8582 - val_loss: 0.9419 - val_accuracy: 0.6172\n",
      "Epoch 90/100\n",
      "387/387 [==============================] - 4s 12ms/step - loss: 0.3480 - accuracy: 0.8598 - val_loss: 0.9467 - val_accuracy: 0.6129\n",
      "Epoch 91/100\n",
      "387/387 [==============================] - 4s 11ms/step - loss: 0.3459 - accuracy: 0.8613 - val_loss: 0.9445 - val_accuracy: 0.6202\n",
      "Epoch 92/100\n",
      "387/387 [==============================] - 5s 12ms/step - loss: 0.3441 - accuracy: 0.8619 - val_loss: 0.9490 - val_accuracy: 0.6120\n",
      "Epoch 93/100\n",
      "387/387 [==============================] - 4s 12ms/step - loss: 0.3418 - accuracy: 0.8637 - val_loss: 0.9515 - val_accuracy: 0.6140\n",
      "Epoch 94/100\n",
      "387/387 [==============================] - 5s 13ms/step - loss: 0.3397 - accuracy: 0.8642 - val_loss: 0.9651 - val_accuracy: 0.6089\n",
      "Epoch 95/100\n",
      "387/387 [==============================] - 5s 13ms/step - loss: 0.3375 - accuracy: 0.8656 - val_loss: 0.9507 - val_accuracy: 0.6200\n",
      "Epoch 96/100\n",
      "387/387 [==============================] - 5s 13ms/step - loss: 0.3356 - accuracy: 0.8666 - val_loss: 0.9719 - val_accuracy: 0.6053\n",
      "Epoch 97/100\n",
      "387/387 [==============================] - 5s 12ms/step - loss: 0.3334 - accuracy: 0.8674 - val_loss: 0.9733 - val_accuracy: 0.6080\n",
      "Epoch 98/100\n",
      "387/387 [==============================] - 5s 12ms/step - loss: 0.3312 - accuracy: 0.8686 - val_loss: 0.9646 - val_accuracy: 0.6108\n",
      "Epoch 99/100\n",
      "387/387 [==============================] - 5s 12ms/step - loss: 0.3293 - accuracy: 0.8692 - val_loss: 0.9783 - val_accuracy: 0.6045\n",
      "Epoch 100/100\n",
      "387/387 [==============================] - 7s 18ms/step - loss: 0.3272 - accuracy: 0.8707 - val_loss: 0.9626 - val_accuracy: 0.6156\n"
     ]
    }
   ],
   "source": [
    "#fitting each model with the training data\n",
    "history1HL = model1HL.fit(train_data,\n",
    "                    np.array(train_labels),\n",
    "                    epochs=100,\n",
    "                    batch_size=100,\n",
    "                    validation_data=(devtest_data, np.array(devtest_labels)))\n",
    "history5HL = model5HL.fit(train_data,\n",
    "                    np.array(train_labels),\n",
    "                    epochs=100,\n",
    "                    batch_size=100,\n",
    "                    validation_data=(devtest_data, np.array(devtest_labels)))\n",
    "                    \n",
    "history7HL = model7HL.fit(train_data,\n",
    "                    np.array(train_labels),\n",
    "                    epochs=100,\n",
    "                    batch_size=100,\n",
    "                    validation_data=(devtest_data, np.array(devtest_labels)))\n",
    "                    "
   ]
  },
  {
   "cell_type": "code",
   "execution_count": 271,
   "metadata": {},
   "outputs": [
    {
     "name": "stdout",
     "output_type": "stream",
     "text": [
      "Training and validation accuracy with 1 hidden layer\n"
     ]
    },
    {
     "data": {
      "image/png": "[encoded data removed]",
      "text/plain": [
       "<Figure size 432x288 with 1 Axes>"
      ]
     },
     "metadata": {
      "needs_background": "light"
     },
     "output_type": "display_data"
    },
    {
     "name": "stdout",
     "output_type": "stream",
     "text": [
      "Training and validation accuracy with 5 hidden layers\n"
     ]
    },
    {
     "data": {
      "image/png": "[encoded data removed]",
      "text/plain": [
       "<Figure size 432x288 with 1 Axes>"
      ]
     },
     "metadata": {
      "needs_background": "light"
     },
     "output_type": "display_data"
    },
    {
     "name": "stdout",
     "output_type": "stream",
     "text": [
      "Training and validation accuracy with 7 hidden layers\n"
     ]
    },
    {
     "data": {
      "image/png": "[encoded data removed]",
      "text/plain": [
       "<Figure size 432x288 with 1 Axes>"
      ]
     },
     "metadata": {
      "needs_background": "light"
     },
     "output_type": "display_data"
    }
   ],
   "source": [
    "print(\"Training and validation accuracy with 1 hidden layer\")\n",
    "plot_history(history1HL)\n",
    "print(\"Training and validation accuracy with 5 hidden layers\")\n",
    "plot_history(history5HL)\n",
    "print(\"Training and validation accuracy with 7 hidden layers\")\n",
    "plot_history(history7HL)"
   ]
  },
  {
   "cell_type": "markdown",
   "metadata": {},
   "source": [
    "#### Summary of model creation and hiden layers\n",
    "As we can see above, increasing the number of hidden layers will increase the training accuracy of the model but the validation accuracy appears to be unrelated to the hidden layer size. An increased number of epochs may allow an even greater level of training accuracy and a greater number of hidden layers may also lead to a greater training accuracy. However, as my computer would not be able to handle an increased number of epochs or more hidden layers, we will continue with only 7 hidden layers. "
   ]
  },
  {
   "cell_type": "markdown",
   "metadata": {},
   "source": [
    "### NN_Sumariser\n",
    "The following function operates in a similar way to the cosine summariser of question 2 with the following steps:\n",
    "<ol>\n",
    "    <li> Loops through each given question id. </li>\n",
    "    <li> Stores the output of the question run through the model </li>\n",
    "    <li> Loops through each answer to the current question </li>\n",
    "    <li> Finds the prediction value from the model of the current answer to the current question </li>\n",
    "    <li> Finds the dot product of the answer prediction value and the question prediction value </li>\n",
    "    <li> Adds the dot product to the results list if it is better than at least one of the current elements </li>\n",
    "    <li> Returns a sorted list (by dot product score) of answer ids for the question </li>\n",
    "</ol>"
   ]
  },
  {
   "cell_type": "code",
   "execution_count": 273,
   "metadata": {},
   "outputs": [],
   "source": [
    "def nn_summariser(csvfile, questionids, n=5):\n",
    " \n",
    "         totalResults = []\n",
    "         totalResults_scores = []\n",
    "         file = pd.read_csv(csvfile)\n",
    "         \n",
    "         for qid in questionids:\n",
    "            if(len(file[file.qid == qid]) > 0): \n",
    "               results = []\n",
    "               results_scores = []\n",
    "               results_worst = 1\n",
    "               \n",
    "               df = file[file['qid'] == qid].copy()\n",
    "               \n",
    "               for i in range(0,len(df.index)):\n",
    "                  predictValue = vectorizer.transform([df['sentence text'].iloc(0)[i]]).toarray()\n",
    "                  answerID = df['sentid'].iloc(0)[i]\n",
    "                  score = model7HL.predict(predictValue)\n",
    "                  if len(results) < n:\n",
    "                        # It is one of the top n results by default\n",
    "                     results.append(answerID)\n",
    "                     results_scores.append(score)\n",
    "                     results_worst = np.min((results_worst, score))\n",
    "                     continue\n",
    "                  if score > results_worst:\n",
    "                     # It is one of the top n results; replace with worst so far\n",
    "                     j = np.argmin(results_scores)\n",
    "                     results_scores[j] = score\n",
    "                     results[j] = answerID\n",
    "                     results_worst = np.min(results_scores)\n",
    "               results = sorted(results, key=lambda x: results_scores[results.index(x)], reverse=True)\n",
    "               totalResults.append(results)\n",
    "               totalResults_scores.append(results_scores)\n",
    "      \n",
    "         return sorted(totalResults)"
   ]
  },
  {
   "cell_type": "markdown",
   "metadata": {},
   "source": [
    "### Evaluating the nn_sumariser \n",
    "Again similar to question 2, we will run the nn_sumariser for each question in the test set and store the f1_score of the comparison between the actual and predicted values of each answer. From this array we will find the average f1Score which will give us a good understanding of how accurate the model is. "
   ]
  },
  {
   "cell_type": "code",
   "execution_count": 276,
   "metadata": {},
   "outputs": [],
   "source": [
    "n = 5\n",
    "import warnings\n",
    "warnings.filterwarnings('ignore')\n",
    "nnf1Scores = []\n",
    "for qid in test_set['qid'].unique():\n",
    "    actual = test_set[test_set.qid == qid].sort_values(by=['label'])['sentid'].to_numpy()[:n]\n",
    "    predicted = nn_summariser('test.csv', [qid], n)\n",
    "    predicted = np.array(predicted[0])\n",
    "    nnf1Scores.append(f1_score(actual, predicted, average='micro'))\n"
   ]
  },
  {
   "cell_type": "code",
   "execution_count": 278,
   "metadata": {},
   "outputs": [
    {
     "data": {
      "text/plain": [
       "0.1711727666273121"
      ]
     },
     "execution_count": 278,
     "metadata": {},
     "output_type": "execute_result"
    }
   ],
   "source": [
    "np.mean(nnf1Scores)"
   ]
  },
  {
   "cell_type": "markdown",
   "metadata": {},
   "source": [
    "### Summary of evaluation\n",
    "As seen above, the mean of the f1 scores of my model was 0.17 which is means that my model was inaccurate. As the cosine summariser had an accuracy of 0.2, the simple nn_summariser is less accurate."
   ]
  },
  {
   "cell_type": "markdown",
   "metadata": {
    "id": "k0NeK3gM0dC9"
   },
   "source": [
    "# Task 4 (5 marks): Recurrent NN\n",
    "\n",
    "Use the files `training.csv`, `dev_test.csv`, and `test.csv` provided by us.\n",
    "\n",
    "Implement a more complex neural network that is composed of the following layers:\n",
    "\n",
    "* An embedding layer that generates embedding vectors of the sentence text with 35 dimensions.\n",
    "* A LSTM layer. You need to determine the size of this LSTM layer, and the text length limit (if needed).\n",
    "* The final output layer with one cell for binary classification, as in task 3.\n",
    "\n",
    "Train the model with the training data, use the dev_test set to determine a good size of the LSTM layer and an appropriate length limit (if needed), and report the final results using the test set. Again, remember to use the test set only after you have determined the optimal parameters of the LSTM layer.\n",
    "\n",
    "Based on your experiments, comment on whether this system is better than the systems developed in the previous tasks.\n",
    "\n",
    "The breakdown of marks is as follows:\n",
    "\n",
    "* **1 mark** if the NN model has the correct layers, the correct activation functions, and the correct loss function.\n",
    "* **1 mark** if the code passes the sentence text to the model correctly. The documentation needs to explain what decisions had to be made to process long sentences. In particular, did you need to truncate the input text, and how did you determine the length limit?\n",
    "* **1 mark** if the code returns the IDs of the *n* sentences that have the highest prediction score in the given question.\n",
    "* **1 mark** if the notebook reports the F1 scores of the test sets and comments on the results.\n",
    "* **1 mark** for good coding and documentation in this task. In particular, the code and results must include evidence that shows your choice of best size of the LSTM layer. The explanations must be clear and concise. To make this task less time-consuming, use $n=5$."
   ]
  },
  {
   "cell_type": "markdown",
   "metadata": {},
   "source": [
    "### Number of words and max sentence length\n",
    "We will use the previous tf.idf vectorizer in order to find the total number of words to consider. <br>\n",
    "We will also graph a historgram of all the sentence lengths in the training data. From this we can see what the length of the majority of sentences is and will be able to chose an appropriate value for the maximum sentence length to consider."
   ]
  },
  {
   "cell_type": "code",
   "execution_count": 153,
   "metadata": {},
   "outputs": [],
   "source": [
    "training['sentence text'].str.len().values\n",
    "sentence_lengths = training['sentence text'].str.len().values"
   ]
  },
  {
   "cell_type": "code",
   "execution_count": 154,
   "metadata": {},
   "outputs": [
    {
     "data": {
      "text/plain": [
       "(array([3.279e+04, 5.559e+03, 2.200e+02, 2.600e+01, 2.100e+01, 1.600e+01,\n",
       "        9.000e+00, 1.000e+01, 1.000e+00, 5.000e+00]),\n",
       " array([1.0000e+00, 2.3480e+02, 4.6860e+02, 7.0240e+02, 9.3620e+02,\n",
       "        1.1700e+03, 1.4038e+03, 1.6376e+03, 1.8714e+03, 2.1052e+03,\n",
       "        2.3390e+03]),\n",
       " <BarContainer object of 10 artists>)"
      ]
     },
     "execution_count": 154,
     "metadata": {},
     "output_type": "execute_result"
    },
    {
     "data": {
      "image/png": "[encoded data removed]",
      "text/plain": [
       "<Figure size 432x288 with 1 Axes>"
      ]
     },
     "metadata": {
      "needs_background": "light"
     },
     "output_type": "display_data"
    }
   ],
   "source": [
    "import matplotlib.pyplot as plt\n",
    "plt.hist(sentence_lengths)\n"
   ]
  },
  {
   "cell_type": "markdown",
   "metadata": {},
   "source": [
    "As seen in this graph, there are very few sentences that have a length above 500. So if we set the maximum length to be 500, the majority of sentences should be covered. "
   ]
  },
  {
   "cell_type": "code",
   "execution_count": 155,
   "metadata": {},
   "outputs": [],
   "source": [
    "# Determining amount of words to consider\n",
    "numWords = len(vectorizer.get_feature_names())\n",
    "# Determining the maximum string length to consider\n",
    "maxlen = 500"
   ]
  },
  {
   "cell_type": "markdown",
   "metadata": {},
   "source": [
    "### Creating Training and DevTest Vectors\n",
    "We will use the tokenizer and pad_sequences in order to prepare our data to train the model. <br>\n",
    "The tokenier first creates a dictionary of all words in the training set and assigns them various numbers representing each word. <br>\n",
    "The pad_sequences function then ensures the vectors for devtest and training values are the same length. "
   ]
  },
  {
   "cell_type": "code",
   "execution_count": 160,
   "metadata": {},
   "outputs": [],
   "source": [
    "from tensorflow.keras.preprocessing.text import Tokenizer\n",
    "from tensorflow.keras.preprocessing.sequence import pad_sequences\n",
    "tokenizer = Tokenizer(numWords)\n",
    "train_texts = training['sentence text'].to_numpy()\n",
    "tokenizer.fit_on_texts(train_texts)\n",
    "\n",
    "\n",
    "training_sequences = tokenizer.texts_to_sequences(train_texts)\n",
    "training_vectors = pad_sequences(training_sequences, maxlen=maxlen)\n",
    "devtest_sequences = tokenizer.texts_to_sequences(devtest_set['sentence text'].to_numpy())\n",
    "devtest_vectors = pad_sequences(devtest_sequences, maxlen = maxlen)"
   ]
  },
  {
   "cell_type": "code",
   "execution_count": 161,
   "metadata": {},
   "outputs": [
    {
     "data": {
      "text/plain": [
       "(38657, 500)"
      ]
     },
     "execution_count": 161,
     "metadata": {},
     "output_type": "execute_result"
    }
   ],
   "source": [
    "training_vectors.shape"
   ]
  },
  {
   "cell_type": "markdown",
   "metadata": {},
   "source": [
    "#### Creating the LSTM Model\n",
    "We will create the LSTM model using an embedding layer, a LSTM layer of an equal size to the embedding layer, a dense hidden layer with a sigmoid activiation and a binary loss function, ensuring a binary output. "
   ]
  },
  {
   "cell_type": "code",
   "execution_count": 162,
   "metadata": {
    "id": "c8RRCWeQTrPl"
   },
   "outputs": [
    {
     "name": "stdout",
     "output_type": "stream",
     "text": [
      "Model: \"sequential_11\"\n",
      "_________________________________________________________________\n",
      " Layer (type)                Output Shape              Param #   \n",
      "=================================================================\n",
      " embedding_8 (Embedding)     (None, None, 35)          350000    \n",
      "                                                                 \n",
      " lstm_7 (LSTM)               (None, 35)                9940      \n",
      "                                                                 \n",
      " dense_13 (Dense)            (None, 1)                 36        \n",
      "                                                                 \n",
      "=================================================================\n",
      "Total params: 359,976\n",
      "Trainable params: 359,976\n",
      "Non-trainable params: 0\n",
      "_________________________________________________________________\n"
     ]
    }
   ],
   "source": [
    "from tensorflow.keras.layers import Embedding, LSTM, Dense\n",
    "lengths = training[\"sentence text\"].str.len()\n",
    "\n",
    "lstm_model = models.Sequential()\n",
    "lstm_model.add(Embedding(numWords, 35))\n",
    "lstm_model.add(LSTM(35))\n",
    "lstm_model.add(Dense(1, activation='sigmoid'))\n",
    "lstm_model.compile(optimizer='adam',\n",
    "              loss='binary_crossentropy',\n",
    "              metrics=['acc'])\n",
    "\n",
    "lstm_model.summary()"
   ]
  },
  {
   "cell_type": "markdown",
   "metadata": {},
   "source": [
    "### Fitting the model\n",
    "We will fit the model with only 5 epochs as my computer is a bit alow however I would ideally fit the model with 10 epochs. We will also use the devtest set as validation data. "
   ]
  },
  {
   "cell_type": "code",
   "execution_count": 164,
   "metadata": {},
   "outputs": [
    {
     "name": "stdout",
     "output_type": "stream",
     "text": [
      "Epoch 1/5\n",
      "967/967 [==============================] - 187s 193ms/step - loss: 0.5750 - acc: 0.7104 - val_loss: 0.6018 - val_acc: 0.6936\n",
      "Epoch 2/5\n",
      "967/967 [==============================] - 192s 199ms/step - loss: 0.4712 - acc: 0.7752 - val_loss: 0.6810 - val_acc: 0.6170\n",
      "Epoch 3/5\n",
      "967/967 [==============================] - 202s 209ms/step - loss: 0.3907 - acc: 0.8252 - val_loss: 0.7283 - val_acc: 0.6001\n",
      "Epoch 4/5\n",
      "967/967 [==============================] - 189s 196ms/step - loss: 0.3233 - acc: 0.8623 - val_loss: 0.8282 - val_acc: 0.6350\n",
      "Epoch 5/5\n",
      "967/967 [==============================] - 199s 206ms/step - loss: 0.2595 - acc: 0.8925 - val_loss: 0.9796 - val_acc: 0.6011\n"
     ]
    }
   ],
   "source": [
    "history = lstm_model.fit(training_vectors, \n",
    "                    np.array(training['label']),\n",
    "                    epochs=5,\n",
    "                    batch_size=32,\n",
    "                    validation_split = 0.2,\n",
    "                    validation_data=(devtest_vectors, np.array(devtest_set['label'])))"
   ]
  },
  {
   "cell_type": "markdown",
   "metadata": {},
   "source": [
    "## LSTM Summariser\n",
    "In the same way as questions 1 and 2, the following function takes in a question ID "
   ]
  },
  {
   "cell_type": "code",
   "execution_count": 175,
   "metadata": {},
   "outputs": [],
   "source": [
    "def lstm_summariser(csvfile, questionids, n=5):\n",
    " \n",
    "         totalResults = []\n",
    "         totalResults_scores = []\n",
    "         file = pd.read_csv(csvfile)\n",
    "         \n",
    "         for qid in questionids:\n",
    "            if(len(file[file.qid == qid]) > 0): \n",
    "               results = []\n",
    "               results_scores = []\n",
    "               results_worst = 1\n",
    "               \n",
    "               df = file[file['qid'] == qid].copy()\n",
    "               \n",
    "               for i in range(0,len(df.index)):\n",
    "                  predictValue = tokenizer.texts_to_sequences([df['sentence text'].iloc(0)[i]])\n",
    "                  answerID = df['sentid'].iloc(0)[i]\n",
    "                  if(len(predictValue[0]) < 1):\n",
    "                     continue\n",
    "                  score = lstm_model.predict(predictValue)\n",
    "                  if len(results) < n:\n",
    "                        # It is one of the top n results by default\n",
    "                     results.append(answerID)\n",
    "                     results_scores.append(score)\n",
    "                     results_worst = np.min((results_worst, score))\n",
    "                     continue\n",
    "                  if score > results_worst:\n",
    "                     # It is one of the top n results; replace with worst so far\n",
    "                     j = np.argmin(results_scores)\n",
    "                     results_scores[j] = score\n",
    "                     results[j] = answerID\n",
    "                     results_worst = np.min(results_scores)\n",
    "               results = sorted(results, key=lambda x: results_scores[results.index(x)], reverse=True)\n",
    "               totalResults.append(results)\n",
    "               totalResults_scores.append(results_scores)\n",
    "      \n",
    "         return sorted(totalResults)"
   ]
  },
  {
   "cell_type": "code",
   "execution_count": 176,
   "metadata": {},
   "outputs": [],
   "source": [
    "n = 5\n",
    "import warnings\n",
    "warnings.filterwarnings('ignore')\n",
    "lstmf1Scores = []\n",
    "for qid in test_set['qid'].unique():\n",
    "    actual = test_set[test_set.qid == qid].sort_values(by=['label'])['sentid'].to_numpy()[:n]\n",
    "    predicted = lstm_summariser('test.csv', [qid], n)\n",
    "    predicted = np.array(predicted[0])\n",
    "    if(len(actual) == len(predicted)):\n",
    "        lstmf1Scores.append(f1_score(actual, predicted, average='micro'))\n",
    "    \n"
   ]
  },
  {
   "cell_type": "code",
   "execution_count": 177,
   "metadata": {},
   "outputs": [
    {
     "data": {
      "text/plain": [
       "0.16118343195266274"
      ]
     },
     "execution_count": 177,
     "metadata": {},
     "output_type": "execute_result"
    }
   ],
   "source": [
    "np.mean(lstmf1Scores)"
   ]
  },
  {
   "cell_type": "markdown",
   "metadata": {},
   "source": [
    "#### Evaluating the  LSTM Summariser \n",
    "As seen above, the mean value of the f1Score of the LSTM summariser is 0.16 which is worse than both 0.2 of the cosine summariser and 0.17 of the the NN sumariser. Potentially with a larger amount of epochs or a different way of comapring the labels to the output of the model the accuracy could be increased."
   ]
  },
  {
   "cell_type": "markdown",
   "metadata": {
    "id": "ppkBsuB_0dC9"
   },
   "source": [
    "# Submission of results\n",
    "\n",
    "Your submission should consist of this Jupyter notebook with all your code and explanations inserted into the notebook as text cells. **The notebook should contain the output of the runs. All code should run. Code with syntax errors or code without output will not be assessed.**\n",
    "\n",
    "**Do not submit multiple files. If you feel you need to submit multiple files, please contact Diego.Molla-Aliod@mq.edu.au first.**\n",
    "\n",
    "Examine the text cells of this notebook so that you can have an idea of how to format text for good visual impact. You can also read this useful [guide to the MarkDown notation](https://daringfireball.net/projects/markdown/syntax),  which explains the format of the text cells.\n",
    "\n",
    "Each task specifies a number of marks. The final mark of the assignment is the sum of all the marks of each individual task.\n",
    "\n",
    "By submitting this assignment you are acknowledging that this is your own work. Any submissions that break the code of academic honesty will be penalised as per [the academic integrity policy](https://policies.mq.edu.au/document/view.php?id=3).\n",
    "\n",
    "Late submissions **will not be accepted** without an approved [Special Consideration](http://from.mq.edu.au/MT0X0E0FUrrU200rm0JB0U0) request.  Assessments submitted after the due date will receive a mark of **zero**."
   ]
  }
 ],
 "metadata": {
  "accelerator": "GPU",
  "colab": {
   "name": "A2_solution.ipynb",
   "provenance": []
  },
  "interpreter": {
   "hash": "0d4eb222e854d6dcf0ad3595ad06f3f990a60f1352b3f283c2ce0fb8668d5aef"
  },
  "kernelspec": {
   "display_name": "Python 3.8.8 64-bit (conda)",
   "name": "python3"
  },
  "language_info": {
   "codemirror_mode": {
    "name": "ipython",
    "version": 3
   },
   "file_extension": ".py",
   "mimetype": "text/x-python",
   "name": "python",
   "nbconvert_exporter": "python",
   "pygments_lexer": "ipython3",
   "version": "3.8.8"
  }
 },
 "nbformat": 4,
 "nbformat_minor": 1
}
