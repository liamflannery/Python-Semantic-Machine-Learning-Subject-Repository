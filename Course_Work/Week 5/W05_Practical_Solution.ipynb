{
  "cells": [
    {
      "cell_type": "markdown",
      "metadata": {
        "id": "OSQVr3b7v_Rg"
      },
      "source": [
        "# An End-to-End Text Classification System\n",
        "\n",
        "In this workshop you will implement a text classification system from scratch. This means that we will not rely on Keras' convenient data sets. These data sets are pre-processed and it will be useful if you know how to tokenise and find the word indices of text collections not provided by Keras.\n",
        "\n",
        "The task will be to classify questions. To run this task we advice that you use [Google Colaboratory](https://colab.research.google.com) (also called Google Colab), which is a cloud solution to run Jupyter notebooks. The demonstrator will show how to use Google Colab. For additional information and to practice with the use of notebooks in Google Colab, you can also follow this link:\n",
        "\n",
        "* [Welcome notebook and link to additional resources](https://colab.research.google.com/notebooks/welcome.ipynb)\n",
        "\n",
        "## Question Classification\n",
        "\n",
        "NLTK has a corpus of questions and their question types according to a particular classification scheme (e.g. DESC refers to a question expecting a descriptive answer, such as one starting with \"How\"; HUM refers to a question expecting an answer referring to a human). Below is an example of use of the corpus:"
      ]
    },
    {
      "cell_type": "code",
      "execution_count": null,
      "metadata": {
        "colab": {
          "base_uri": "https://localhost:8080/"
        },
        "id": "HdoJ387Vv_Rq",
        "outputId": "6043753b-a65e-490e-91a1-3d33cf00cc9e"
      },
      "outputs": [
        {
          "output_type": "stream",
          "name": "stdout",
          "text": [
            "[nltk_data] Downloading package qc to /root/nltk_data...\n",
            "[nltk_data]   Package qc is already up-to-date!\n"
          ]
        }
      ],
      "source": [
        "import nltk\n",
        "nltk.download(\"qc\")\n",
        "from nltk.corpus import qc\n",
        "train = qc.tuples(\"train.txt\")\n",
        "test = qc.tuples(\"test.txt\")"
      ]
    },
    {
      "cell_type": "code",
      "execution_count": null,
      "metadata": {
        "colab": {
          "base_uri": "https://localhost:8080/"
        },
        "id": "U78gbdkzv_SM",
        "outputId": "5791538d-7b76-48cf-f652-94b88702e39a"
      },
      "outputs": [
        {
          "output_type": "execute_result",
          "data": {
            "text/plain": [
              "[('DESC:manner', 'How did serfdom develop in and then leave Russia ?'),\n",
              " ('ENTY:cremat', 'What films featured the character Popeye Doyle ?'),\n",
              " ('DESC:manner', \"How can I find a list of celebrities ' real names ?\")]"
            ]
          },
          "metadata": {},
          "execution_count": 2
        }
      ],
      "source": [
        "train[:3]"
      ]
    },
    {
      "cell_type": "code",
      "execution_count": null,
      "metadata": {
        "colab": {
          "base_uri": "https://localhost:8080/"
        },
        "id": "dUCCU6awv_Si",
        "outputId": "d5640021-57a0-4ac6-847c-45a18c41b0ef"
      },
      "outputs": [
        {
          "output_type": "execute_result",
          "data": {
            "text/plain": [
              "[('NUM:dist', 'How far is it from Denver to Aspen ?'),\n",
              " ('LOC:city', 'What county is Modesto , California in ?'),\n",
              " ('HUM:desc', 'Who was Galileo ?')]"
            ]
          },
          "metadata": {},
          "execution_count": 3
        }
      ],
      "source": [
        "test[:3]"
      ]
    },
    {
      "cell_type": "markdown",
      "metadata": {
        "id": "WCOTaE2Yv_S-"
      },
      "source": [
        "### Exercise: Find all question types\n",
        "Write Python code that lists all the possible question types of the training set (**remember: for data exploration, never look at the test set**).\n"
      ]
    },
    {
      "cell_type": "code",
      "execution_count": null,
      "metadata": {
        "id": "yn7EUUwUv_TE"
      },
      "outputs": [],
      "source": [
        "qtypes = list(set([x for (x,y) in train]))"
      ]
    },
    {
      "cell_type": "code",
      "execution_count": null,
      "metadata": {
        "colab": {
          "base_uri": "https://localhost:8080/"
        },
        "id": "AvETLOhxv_TW",
        "outputId": "cad1c622-aacb-493b-f321-c69d994deeca"
      },
      "outputs": [
        {
          "output_type": "execute_result",
          "data": {
            "text/plain": [
              "['DESC:manner',\n",
              " 'HUM:desc',\n",
              " 'DESC:reason',\n",
              " 'LOC:city',\n",
              " 'ENTY:dismed',\n",
              " 'NUM:date',\n",
              " 'NUM:perc',\n",
              " 'ENTY:event',\n",
              " 'ENTY:color',\n",
              " 'ENTY:instru',\n",
              " 'NUM:money',\n",
              " 'ENTY:other',\n",
              " 'HUM:title',\n",
              " 'ENTY:product',\n",
              " 'NUM:temp',\n",
              " 'ENTY:veh',\n",
              " 'ENTY:letter',\n",
              " 'ENTY:food',\n",
              " 'ABBR:abb',\n",
              " 'NUM:code',\n",
              " 'ENTY:body',\n",
              " 'ENTY:currency',\n",
              " 'ABBR:exp',\n",
              " 'NUM:speed',\n",
              " 'ENTY:cremat',\n",
              " 'NUM:other',\n",
              " 'LOC:mount',\n",
              " 'LOC:country',\n",
              " 'NUM:period',\n",
              " 'ENTY:substance',\n",
              " 'ENTY:sport',\n",
              " 'ENTY:word',\n",
              " 'DESC:def',\n",
              " 'NUM:dist',\n",
              " 'ENTY:plant',\n",
              " 'NUM:ord',\n",
              " 'DESC:desc',\n",
              " 'ENTY:termeq',\n",
              " 'LOC:state',\n",
              " 'HUM:gr',\n",
              " 'LOC:other',\n",
              " 'ENTY:lang',\n",
              " 'NUM:weight',\n",
              " 'ENTY:techmeth',\n",
              " 'NUM:count',\n",
              " 'ENTY:animal',\n",
              " 'NUM:volsize',\n",
              " 'HUM:ind',\n",
              " 'ENTY:religion',\n",
              " 'ENTY:symbol']"
            ]
          },
          "metadata": {},
          "execution_count": 5
        }
      ],
      "source": [
        "qtypes"
      ]
    },
    {
      "cell_type": "markdown",
      "metadata": {
        "id": "inQh0Nrjv_Tp"
      },
      "source": [
        "### Exercise: Find all general types\n",
        "\n",
        "The question types have two parts. The first part describes a general type, and the second part defines a subtype. For example, the question type `DESC:manner` belongs to the general `DESC` type and within that type to the `manner` subtype. Let's focus on the general types only. Write Python code that lists all the possible general types (there are 6 of them)."
      ]
    },
    {
      "cell_type": "code",
      "execution_count": null,
      "metadata": {
        "colab": {
          "base_uri": "https://localhost:8080/"
        },
        "id": "C4pjpWV9v_Tt",
        "outputId": "f306a984-6e4d-4410-e2a6-79d7e6a2cbcc"
      },
      "outputs": [
        {
          "output_type": "execute_result",
          "data": {
            "text/plain": [
              "['ENTY', 'NUM', 'DESC', 'ABBR', 'HUM', 'LOC']"
            ]
          },
          "metadata": {},
          "execution_count": 6
        }
      ],
      "source": [
        "general_types = list(set([q.split(':')[0] for q in qtypes]))\n",
        "general_types"
      ]
    },
    {
      "cell_type": "markdown",
      "metadata": {
        "id": "GnMXsRBMv_T-"
      },
      "source": [
        "### Exercise: Partition the data\n",
        "There is a train and test data, but for this exercise we want to have a partition into train, dev-test, and test. In this exercise, combine all data into one array and do a 3-way partition into train, dev-test, and test. Make sure that you shuffle the data prior to doing the partition. Also, make sure that you only use the general label types."
      ]
    },
    {
      "cell_type": "code",
      "execution_count": null,
      "metadata": {
        "colab": {
          "base_uri": "https://localhost:8080/"
        },
        "id": "qq6JJ-EBv_UE",
        "outputId": "6fac9fe8-b219-4812-dad9-85035dff7325"
      },
      "outputs": [
        {
          "output_type": "execute_result",
          "data": {
            "text/plain": [
              "[('DESC', 'How did serfdom develop in and then leave Russia ?'),\n",
              " ('ENTY', 'What films featured the character Popeye Doyle ?')]"
            ]
          },
          "metadata": {},
          "execution_count": 7
        }
      ],
      "source": [
        "qdata = [(qtype.split(':')[0], qstring) for qtype, qstring in train+test]\n",
        "qdata[:2]"
      ]
    },
    {
      "cell_type": "code",
      "execution_count": null,
      "metadata": {
        "id": "EWQx8J2tv_Ua"
      },
      "outputs": [],
      "source": [
        "import random\n",
        "random.seed(1234)\n",
        "random.shuffle(qdata)\n",
        "threshold1 = int(len(qdata)*.6)\n",
        "threshold2 = int(len(qdata)*.8)\n",
        "q_train = qdata[:threshold1]\n",
        "q_devtest = qdata[threshold1:threshold2]\n",
        "q_test = qdata[threshold2:]"
      ]
    },
    {
      "cell_type": "markdown",
      "metadata": {
        "id": "Iri6AvfYv_Uj"
      },
      "source": [
        "### Exercise: Tokenise the data\n",
        "\n",
        "Use Keras' tokeniser to tokenise all the data. For this exercise we will use only the 100 most frequent words in the training set (since you aren't supposed to use the dev-test or test sets to extract features)."
      ]
    },
    {
      "cell_type": "code",
      "execution_count": null,
      "metadata": {
        "id": "3Jbf0L_Qv_Un"
      },
      "outputs": [],
      "source": [
        "from tensorflow.keras.preprocessing.text import Tokenizer\n",
        "\n",
        "max_words = 100\n",
        "tokenizer = Tokenizer(num_words=max_words, oov_token=\"[UNK]\") # oov_token assigns the code 1 for all unknown words\n",
        "tokenizer.fit_on_texts([t for l, t in q_train])"
      ]
    },
    {
      "cell_type": "code",
      "execution_count": null,
      "metadata": {
        "id": "UE2ecEF2v_U2"
      },
      "outputs": [],
      "source": [
        "indices_train = tokenizer.texts_to_sequences([t for l, t in q_train])\n",
        "indices_devtest = tokenizer.texts_to_sequences([t for l, t in q_devtest])\n",
        "indices_test = tokenizer.texts_to_sequences([[t for l, t in q_test]])"
      ]
    },
    {
      "cell_type": "code",
      "source": [
        "indices_train[:2]"
      ],
      "metadata": {
        "colab": {
          "base_uri": "https://localhost:8080/"
        },
        "id": "2gc3ClcGwCyz",
        "outputId": "10ac4021-da08-481e-c076-1401646e1c97"
      },
      "execution_count": null,
      "outputs": [
        {
          "output_type": "execute_result",
          "data": {
            "text/plain": [
              "[[8, 19, 1, 43, 1], [23, 4, 1]]"
            ]
          },
          "metadata": {},
          "execution_count": 11
        }
      ]
    },
    {
      "cell_type": "code",
      "source": [
        "q_train[:2]"
      ],
      "metadata": {
        "colab": {
          "base_uri": "https://localhost:8080/"
        },
        "id": "tQqQC4d3wHQd",
        "outputId": "e9f722e2-9da4-4ea7-da30-1b8bf9d403e2"
      },
      "execution_count": null,
      "outputs": [
        {
          "output_type": "execute_result",
          "data": {
            "text/plain": [
              "[('DESC', 'How do ants have sex ?'), ('LOC', 'Where is Guam ?')]"
            ]
          },
          "metadata": {},
          "execution_count": 12
        }
      ]
    },
    {
      "cell_type": "code",
      "source": [
        "reverse_word_index = dict((i, w) for w, i in tokenizer.word_index.items())\n",
        "reverse_word_index[1]"
      ],
      "metadata": {
        "colab": {
          "base_uri": "https://localhost:8080/",
          "height": 36
        },
        "id": "lxMDEFJuxfiz",
        "outputId": "c8b2922b-8404-412d-dfb2-2d326daf6534"
      },
      "execution_count": null,
      "outputs": [
        {
          "output_type": "execute_result",
          "data": {
            "text/plain": [
              "'[UNK]'"
            ],
            "application/vnd.google.colaboratory.intrinsic+json": {
              "type": "string"
            }
          },
          "metadata": {},
          "execution_count": 13
        }
      ]
    },
    {
      "cell_type": "code",
      "source": [
        "\" \".join([reverse_word_index[x] for x in indices_train[0]])"
      ],
      "metadata": {
        "colab": {
          "base_uri": "https://localhost:8080/",
          "height": 36
        },
        "id": "Zob47UVKxfm0",
        "outputId": "69137d30-4a55-4543-eae2-b5b1d6b4eee2"
      },
      "execution_count": null,
      "outputs": [
        {
          "output_type": "execute_result",
          "data": {
            "text/plain": [
              "'how do [UNK] have [UNK]'"
            ],
            "application/vnd.google.colaboratory.intrinsic+json": {
              "type": "string"
            }
          },
          "metadata": {},
          "execution_count": 14
        }
      ]
    },
    {
      "cell_type": "markdown",
      "metadata": {
        "id": "epuXbJoyv_VA"
      },
      "source": [
        "### Exercise: Vectorize the data\n",
        "The following code shows the distribution of lengths of my training data (could be different in your training data):"
      ]
    },
    {
      "cell_type": "code",
      "execution_count": null,
      "metadata": {
        "colab": {
          "base_uri": "https://localhost:8080/",
          "height": 340
        },
        "id": "ZEaD0ouFv_VE",
        "outputId": "1ee82ebd-91c9-417e-eff9-3ce784e4276d"
      },
      "outputs": [
        {
          "output_type": "execute_result",
          "data": {
            "text/plain": [
              "(array([ 328., 1092., 1154.,  615.,  190.,  129.,   48.,   12.,    0.,\n",
              "           3.]),\n",
              " array([ 2. ,  4.8,  7.6, 10.4, 13.2, 16. , 18.8, 21.6, 24.4, 27.2, 30. ]),\n",
              " <a list of 10 Patch objects>)"
            ]
          },
          "metadata": {},
          "execution_count": 15
        },
        {
          "output_type": "display_data",
          "data": {
            "text/plain": [
              "<Figure size 432x288 with 1 Axes>"
            ],
            "image/png": "[encoded data removed]"
          },
          "metadata": {
            "needs_background": "light"
          }
        }
      ],
      "source": [
        "%matplotlib inline\n",
        "from matplotlib import pyplot as plt\n",
        "plt.hist([len(d) for d in indices_train])"
      ]
    },
    {
      "cell_type": "markdown",
      "metadata": {
        "id": "t34OuB9vv_VQ"
      },
      "source": [
        "The histogram shows that the longest question in the training data has 30 word indices, but by far most of the questions have at least 20. Based on this, use Keras' `pad_sequences` to vectorize the questions into sequences of 20 word indices. The default will be to truncate the beginning, but we want to truncate the end (since the first words of a question are often very important to determine the question type). For this you can use the option `truncating='post'`: https://keras.io/preprocessing/sequence/"
      ]
    },
    {
      "cell_type": "code",
      "execution_count": null,
      "metadata": {
        "id": "15jgaUwpv_VS"
      },
      "outputs": [],
      "source": [
        "from tensorflow.keras.preprocessing.sequence import pad_sequences\n",
        "maxlen = 20\n",
        "x_train = pad_sequences(indices_train, maxlen=maxlen, truncating='post')\n",
        "x_devtest = pad_sequences(indices_devtest, maxlen=maxlen, truncating='post')\n",
        "x_test = pad_sequences(indices_test, maxlen=maxlen, truncating='post')"
      ]
    },
    {
      "cell_type": "markdown",
      "metadata": {
        "id": "Qn1vV1Kov_Vd"
      },
      "source": [
        "### Exercise: Vectorise the labels\n",
        "Convert the labels to one-hot encoding. If you use Keras' `to_categorical`, you will first need to convert the labels to integers."
      ]
    },
    {
      "cell_type": "code",
      "execution_count": null,
      "metadata": {
        "id": "OfRBWqadv_Vh"
      },
      "outputs": [],
      "source": [
        "from tensorflow.keras.utils import to_categorical\n",
        "\n",
        "y_train = to_categorical([general_types.index(l) for l, t in q_train])\n",
        "y_devtest = to_categorical([general_types.index(l) for l, t in q_devtest])\n",
        "y_test = to_categorical([general_types.index(l) for l, t in q_test])"
      ]
    },
    {
      "cell_type": "markdown",
      "metadata": {
        "id": "iwNCab0Kv_Vs"
      },
      "source": [
        "### Exercise: Define the model\n",
        "\n",
        "Define a model for classification. For this model, use a feedforward architecture with an embedding layer of size 20, a layer that computes the average of word embeddings (use `GlobalAveragePooling1D`), a hidden layer of 16 units, and `relu` activation. You need to determine the size and activation of the output layer."
      ]
    },
    {
      "cell_type": "code",
      "execution_count": null,
      "metadata": {
        "colab": {
          "base_uri": "https://localhost:8080/"
        },
        "id": "pBcT2-btv_Vu",
        "outputId": "22098ab0-dbe5-4a2d-fe0e-c455d571532a"
      },
      "outputs": [
        {
          "output_type": "stream",
          "name": "stdout",
          "text": [
            "Model: \"sequential\"\n",
            "_________________________________________________________________\n",
            " Layer (type)                Output Shape              Param #   \n",
            "=================================================================\n",
            " embedding (Embedding)       (None, 20, 20)            2000      \n",
            "                                                                 \n",
            " global_average_pooling1d (G  (None, 20)               0         \n",
            " lobalAveragePooling1D)                                          \n",
            "                                                                 \n",
            " dense (Dense)               (None, 16)                336       \n",
            "                                                                 \n",
            " dense_1 (Dense)             (None, 6)                 102       \n",
            "                                                                 \n",
            "=================================================================\n",
            "Total params: 2,438\n",
            "Trainable params: 2,438\n",
            "Non-trainable params: 0\n",
            "_________________________________________________________________\n"
          ]
        }
      ],
      "source": [
        "from tensorflow.keras.models import Sequential\n",
        "from tensorflow.keras.layers import Embedding, Dense, GlobalAveragePooling1D\n",
        "\n",
        "embedding_dim = 20\n",
        "\n",
        "model = Sequential()\n",
        "model.add(Embedding(max_words, embedding_dim, input_length=maxlen))\n",
        "model.add(GlobalAveragePooling1D())\n",
        "model.add(Dense(16, activation='relu'))\n",
        "model.add(Dense(6, activation='softmax'))\n",
        "model.summary()"
      ]
    },
    {
      "cell_type": "markdown",
      "metadata": {
        "id": "CQxpGsUcv_V5"
      },
      "source": [
        "### Exercise: Train and evaluate\n",
        "Train your model. In the process you need to determine the optimal number of epochs. Then answer the following questions:\n",
        "1. What was the optimal number of epochs and how did you determine this?\n",
        "2. Is the system overfitting? Justify your answer."
      ]
    },
    {
      "cell_type": "code",
      "execution_count": null,
      "metadata": {
        "colab": {
          "base_uri": "https://localhost:8080/"
        },
        "id": "8DfIKpyYv_V7",
        "outputId": "a88c6ac2-3174-44fd-c482-e1ef5f5abafc"
      },
      "outputs": [
        {
          "output_type": "stream",
          "name": "stdout",
          "text": [
            "Epoch 1/500\n",
            "112/112 [==============================] - 2s 9ms/step - loss: 1.7119 - acc: 0.2677 - val_loss: 1.6651 - val_acc: 0.3210\n",
            "Epoch 2/500\n",
            "112/112 [==============================] - 1s 6ms/step - loss: 1.6161 - acc: 0.3251 - val_loss: 1.5920 - val_acc: 0.3361\n",
            "Epoch 3/500\n",
            "112/112 [==============================] - 1s 5ms/step - loss: 1.5421 - acc: 0.3520 - val_loss: 1.5235 - val_acc: 0.3731\n",
            "Epoch 4/500\n",
            "112/112 [==============================] - 1s 8ms/step - loss: 1.4697 - acc: 0.3901 - val_loss: 1.4570 - val_acc: 0.3899\n",
            "Epoch 5/500\n",
            "112/112 [==============================] - 1s 5ms/step - loss: 1.3966 - acc: 0.4206 - val_loss: 1.3822 - val_acc: 0.4580\n",
            "Epoch 6/500\n",
            "112/112 [==============================] - 0s 4ms/step - loss: 1.3219 - acc: 0.4761 - val_loss: 1.3109 - val_acc: 0.5143\n",
            "Epoch 7/500\n",
            "112/112 [==============================] - 1s 5ms/step - loss: 1.2462 - acc: 0.5553 - val_loss: 1.2381 - val_acc: 0.5555\n",
            "Epoch 8/500\n",
            "112/112 [==============================] - 0s 4ms/step - loss: 1.1731 - acc: 0.6052 - val_loss: 1.1785 - val_acc: 0.5966\n",
            "Epoch 9/500\n",
            "112/112 [==============================] - 1s 6ms/step - loss: 1.1076 - acc: 0.6388 - val_loss: 1.1123 - val_acc: 0.6311\n",
            "Epoch 10/500\n",
            "112/112 [==============================] - 1s 6ms/step - loss: 1.0490 - acc: 0.6603 - val_loss: 1.0601 - val_acc: 0.6412\n",
            "Epoch 11/500\n",
            "112/112 [==============================] - 1s 5ms/step - loss: 0.9996 - acc: 0.6690 - val_loss: 1.0228 - val_acc: 0.6563\n",
            "Epoch 12/500\n",
            "112/112 [==============================] - 0s 4ms/step - loss: 0.9576 - acc: 0.6732 - val_loss: 0.9825 - val_acc: 0.6655\n",
            "Epoch 13/500\n",
            "112/112 [==============================] - 1s 5ms/step - loss: 0.9243 - acc: 0.6836 - val_loss: 0.9547 - val_acc: 0.6739\n",
            "Epoch 14/500\n",
            "112/112 [==============================] - 1s 5ms/step - loss: 0.8961 - acc: 0.6864 - val_loss: 0.9264 - val_acc: 0.6773\n",
            "Epoch 15/500\n",
            "112/112 [==============================] - 0s 4ms/step - loss: 0.8737 - acc: 0.6928 - val_loss: 0.9079 - val_acc: 0.6782\n",
            "Epoch 16/500\n",
            "112/112 [==============================] - 1s 5ms/step - loss: 0.8545 - acc: 0.6945 - val_loss: 0.8890 - val_acc: 0.6832\n",
            "Epoch 17/500\n",
            "112/112 [==============================] - 0s 4ms/step - loss: 0.8377 - acc: 0.7051 - val_loss: 0.8830 - val_acc: 0.6815\n",
            "Epoch 18/500\n",
            "112/112 [==============================] - 0s 4ms/step - loss: 0.8264 - acc: 0.7065 - val_loss: 0.8651 - val_acc: 0.6941\n",
            "Epoch 19/500\n",
            "112/112 [==============================] - 1s 7ms/step - loss: 0.8152 - acc: 0.7040 - val_loss: 0.8538 - val_acc: 0.6924\n",
            "Epoch 20/500\n",
            "112/112 [==============================] - 1s 5ms/step - loss: 0.8054 - acc: 0.7071 - val_loss: 0.8471 - val_acc: 0.6899\n",
            "Epoch 21/500\n",
            "112/112 [==============================] - 1s 5ms/step - loss: 0.7973 - acc: 0.7093 - val_loss: 0.8362 - val_acc: 0.6908\n",
            "Epoch 22/500\n",
            "112/112 [==============================] - 1s 5ms/step - loss: 0.7900 - acc: 0.7172 - val_loss: 0.8308 - val_acc: 0.7017\n",
            "Epoch 23/500\n",
            "112/112 [==============================] - 1s 7ms/step - loss: 0.7841 - acc: 0.7155 - val_loss: 0.8221 - val_acc: 0.7025\n",
            "Epoch 24/500\n",
            "112/112 [==============================] - 1s 6ms/step - loss: 0.7784 - acc: 0.7141 - val_loss: 0.8177 - val_acc: 0.7042\n",
            "Epoch 25/500\n",
            "112/112 [==============================] - 1s 5ms/step - loss: 0.7709 - acc: 0.7211 - val_loss: 0.8134 - val_acc: 0.7109\n",
            "Epoch 26/500\n",
            "112/112 [==============================] - 1s 8ms/step - loss: 0.7686 - acc: 0.7200 - val_loss: 0.8102 - val_acc: 0.7101\n",
            "Epoch 27/500\n",
            "112/112 [==============================] - 0s 4ms/step - loss: 0.7649 - acc: 0.7208 - val_loss: 0.8028 - val_acc: 0.7084\n",
            "Epoch 28/500\n",
            "112/112 [==============================] - 0s 2ms/step - loss: 0.7614 - acc: 0.7216 - val_loss: 0.8022 - val_acc: 0.7008\n",
            "Epoch 29/500\n",
            "112/112 [==============================] - 0s 2ms/step - loss: 0.7577 - acc: 0.7247 - val_loss: 0.7978 - val_acc: 0.7101\n",
            "Epoch 30/500\n",
            "112/112 [==============================] - 0s 2ms/step - loss: 0.7531 - acc: 0.7250 - val_loss: 0.7993 - val_acc: 0.7134\n",
            "Epoch 31/500\n",
            "112/112 [==============================] - 0s 2ms/step - loss: 0.7516 - acc: 0.7250 - val_loss: 0.7966 - val_acc: 0.7118\n",
            "Epoch 32/500\n",
            "112/112 [==============================] - 0s 2ms/step - loss: 0.7485 - acc: 0.7253 - val_loss: 0.7922 - val_acc: 0.7067\n",
            "Epoch 33/500\n",
            "112/112 [==============================] - 0s 2ms/step - loss: 0.7465 - acc: 0.7275 - val_loss: 0.7900 - val_acc: 0.7126\n",
            "Epoch 34/500\n",
            "112/112 [==============================] - 0s 2ms/step - loss: 0.7436 - acc: 0.7264 - val_loss: 0.7895 - val_acc: 0.7126\n",
            "Epoch 35/500\n",
            "112/112 [==============================] - 0s 2ms/step - loss: 0.7418 - acc: 0.7289 - val_loss: 0.7869 - val_acc: 0.7193\n",
            "Epoch 36/500\n",
            "112/112 [==============================] - 0s 2ms/step - loss: 0.7401 - acc: 0.7247 - val_loss: 0.7803 - val_acc: 0.7143\n",
            "Epoch 37/500\n",
            "112/112 [==============================] - 0s 2ms/step - loss: 0.7374 - acc: 0.7278 - val_loss: 0.7812 - val_acc: 0.7109\n",
            "Epoch 38/500\n",
            "112/112 [==============================] - 0s 2ms/step - loss: 0.7360 - acc: 0.7286 - val_loss: 0.7781 - val_acc: 0.7143\n",
            "Epoch 39/500\n",
            "112/112 [==============================] - 0s 2ms/step - loss: 0.7341 - acc: 0.7278 - val_loss: 0.7775 - val_acc: 0.7118\n",
            "Epoch 40/500\n",
            "112/112 [==============================] - 0s 2ms/step - loss: 0.7314 - acc: 0.7317 - val_loss: 0.7779 - val_acc: 0.7134\n",
            "Epoch 41/500\n",
            "112/112 [==============================] - 0s 2ms/step - loss: 0.7303 - acc: 0.7303 - val_loss: 0.7851 - val_acc: 0.7126\n"
          ]
        }
      ],
      "source": [
        "from tensorflow.keras.callbacks import EarlyStopping\n",
        "\n",
        "model.compile(optimizer='rmsprop',\n",
        "              loss='categorical_crossentropy',\n",
        "              metrics=['acc'])\n",
        "history = model.fit(x_train, y_train,\n",
        "                    epochs=500,\n",
        "                    batch_size=32,\n",
        "                    validation_data=(x_devtest, y_devtest),\n",
        "                    callbacks=[EarlyStopping(monitor='val_loss', mode='min', patience=2)])"
      ]
    },
    {
      "cell_type": "code",
      "execution_count": null,
      "metadata": {
        "colab": {
          "base_uri": "https://localhost:8080/",
          "height": 295
        },
        "id": "yaVdjCqEv_WD",
        "outputId": "487917fd-53ed-403e-98c8-6733ea181a47"
      },
      "outputs": [
        {
          "output_type": "display_data",
          "data": {
            "text/plain": [
              "<Figure size 432x288 with 1 Axes>"
            ],
            "image/png": "[encoded data removed]"
          },
          "metadata": {
            "needs_background": "light"
          }
        }
      ],
      "source": [
        "loss = history.history['loss']\n",
        "val_loss = history.history['val_loss']\n",
        "\n",
        "epochs = range(1, len(loss) + 1)\n",
        "\n",
        "plt.plot(epochs, loss, 'bo', label='Training loss')\n",
        "plt.plot(epochs, val_loss, 'b', label='Validation loss')\n",
        "plt.title('Training and validation loss')\n",
        "plt.xlabel('Epochs')\n",
        "plt.ylabel('Loss')\n",
        "plt.legend()\n",
        "\n",
        "plt.show()"
      ]
    },
    {
      "cell_type": "markdown",
      "metadata": {
        "id": "LKu0AEYCv_WN"
      },
      "source": [
        "Based on the validation loss, a good value of epochs is 41. At this point the system is overfitting already but the validation loss appears to be optimal. Let's check with the accuracy as well:"
      ]
    },
    {
      "cell_type": "code",
      "execution_count": null,
      "metadata": {
        "colab": {
          "base_uri": "https://localhost:8080/",
          "height": 295
        },
        "id": "1rDfPPOxv_WP",
        "outputId": "7a08cde7-5b3f-43df-eb45-450221653783"
      },
      "outputs": [
        {
          "output_type": "display_data",
          "data": {
            "text/plain": [
              "<Figure size 432x288 with 1 Axes>"
            ],
            "image/png": "[encoded data removed]"
          },
          "metadata": {
            "needs_background": "light"
          }
        }
      ],
      "source": [
        "plt.clf()   # clear figure\n",
        "\n",
        "acc = history.history['acc']\n",
        "val_acc = history.history['val_acc']\n",
        "\n",
        "plt.plot(epochs, acc, 'bo', label='Training acc')\n",
        "plt.plot(epochs, val_acc, 'b', label='Validation acc')\n",
        "plt.title('Training and validation accuracy')\n",
        "plt.xlabel('Epochs')\n",
        "plt.ylabel('Loss')\n",
        "plt.legend()\n",
        "\n",
        "plt.show()"
      ]
    },
    {
      "cell_type": "markdown",
      "metadata": {
        "id": "H_M6drwCv_WY"
      },
      "source": [
        "Yes accuracy looks near optimal at 41 epochs."
      ]
    },
    {
      "cell_type": "markdown",
      "metadata": {
        "id": "AbK8NkhRv_Wb"
      },
      "source": [
        "### Optional Exercise: Data exploration\n",
        "Plot the distribution of labels in the training data and compare with the distribution of labels in the devtest data. Plot also the distribution of predictions in the devtest data. What can you learn from this?"
      ]
    },
    {
      "cell_type": "code",
      "execution_count": null,
      "metadata": {
        "colab": {
          "base_uri": "https://localhost:8080/"
        },
        "id": "ZYWeFIznv_Wg",
        "outputId": "e1a6df13-88b3-4d2a-9dc0-b46fa34df8a3"
      },
      "outputs": [
        {
          "output_type": "execute_result",
          "data": {
            "text/plain": [
              "Counter({'ABBR': 47,\n",
              "         'DESC': 806,\n",
              "         'ENTY': 804,\n",
              "         'HUM': 737,\n",
              "         'LOC': 548,\n",
              "         'NUM': 629})"
            ]
          },
          "metadata": {},
          "execution_count": 30
        }
      ],
      "source": [
        "from collections import Counter\n",
        "counter_train_labels = Counter([l for l, t in q_train])\n",
        "counter_train_labels"
      ]
    },
    {
      "cell_type": "code",
      "execution_count": null,
      "metadata": {
        "colab": {
          "base_uri": "https://localhost:8080/",
          "height": 283
        },
        "id": "N56xRMjiv_Wn",
        "outputId": "ec108cb6-bfe4-45a0-b098-3cc2193f51bb"
      },
      "outputs": [
        {
          "output_type": "execute_result",
          "data": {
            "text/plain": [
              "<BarContainer object of 6 artists>"
            ]
          },
          "metadata": {},
          "execution_count": 31
        },
        {
          "output_type": "display_data",
          "data": {
            "text/plain": [
              "<Figure size 432x288 with 1 Axes>"
            ],
            "image/png": "[encoded data removed]"
          },
          "metadata": {
            "needs_background": "light"
          }
        }
      ],
      "source": [
        "plt.bar(general_types, [counter_train_labels[l] for l in general_types])"
      ]
    },
    {
      "cell_type": "code",
      "execution_count": null,
      "metadata": {
        "colab": {
          "base_uri": "https://localhost:8080/"
        },
        "id": "ONeUnyw9v_Wv",
        "outputId": "69894ddf-958d-4d88-f29d-885058e74fdc"
      },
      "outputs": [
        {
          "output_type": "execute_result",
          "data": {
            "text/plain": [
              "Counter({'ABBR': 27,\n",
              "         'DESC': 256,\n",
              "         'ENTY': 260,\n",
              "         'HUM': 275,\n",
              "         'LOC': 182,\n",
              "         'NUM': 190})"
            ]
          },
          "metadata": {},
          "execution_count": 32
        }
      ],
      "source": [
        "counter_devtest_labels = Counter([l for l, t in q_devtest])\n",
        "counter_devtest_labels"
      ]
    },
    {
      "cell_type": "code",
      "execution_count": null,
      "metadata": {
        "colab": {
          "base_uri": "https://localhost:8080/",
          "height": 283
        },
        "id": "z7V9rm_lv_W3",
        "outputId": "9a9d4630-cd55-43f0-cc4a-04f0f0966521"
      },
      "outputs": [
        {
          "output_type": "execute_result",
          "data": {
            "text/plain": [
              "<BarContainer object of 6 artists>"
            ]
          },
          "metadata": {},
          "execution_count": 33
        },
        {
          "output_type": "display_data",
          "data": {
            "text/plain": [
              "<Figure size 432x288 with 1 Axes>"
            ],
            "image/png": "[encoded data removed]"
          },
          "metadata": {
            "needs_background": "light"
          }
        }
      ],
      "source": [
        "plt.bar(general_types, [counter_devtest_labels[l] for l in general_types])"
      ]
    },
    {
      "cell_type": "markdown",
      "metadata": {
        "id": "USV5vlpNv_XB"
      },
      "source": [
        "The training and devtest sets have similar distributions. The data is somewhat balanced except for the `ABBR` class."
      ]
    },
    {
      "cell_type": "code",
      "execution_count": null,
      "metadata": {
        "id": "D7PTmPIFv_XD"
      },
      "outputs": [],
      "source": [
        "from numpy import argmax\n",
        "devtest_predictions_probs = model.predict(x_devtest)\n",
        "devtest_predictions = [argmax(r) for r in devtest_predictions_probs]\n",
        "devtest_predictions_labels = [general_types[i] for i in devtest_predictions]"
      ]
    },
    {
      "cell_type": "code",
      "execution_count": null,
      "metadata": {
        "colab": {
          "base_uri": "https://localhost:8080/"
        },
        "id": "nbW2nOh7v_XJ",
        "outputId": "12815044-3710-4f4f-8c1c-8bd74502de87"
      },
      "outputs": [
        {
          "output_type": "execute_result",
          "data": {
            "text/plain": [
              "Counter({'DESC': 262, 'ENTY': 362, 'HUM': 258, 'LOC': 156, 'NUM': 152})"
            ]
          },
          "metadata": {},
          "execution_count": 35
        }
      ],
      "source": [
        "counter_devtest_predictions = Counter(devtest_predictions_labels)\n",
        "counter_devtest_predictions"
      ]
    },
    {
      "cell_type": "code",
      "execution_count": null,
      "metadata": {
        "colab": {
          "base_uri": "https://localhost:8080/",
          "height": 283
        },
        "id": "qVxL8ADAv_XV",
        "outputId": "69cb9608-a0e3-4be9-830b-44016693ca38"
      },
      "outputs": [
        {
          "output_type": "execute_result",
          "data": {
            "text/plain": [
              "<BarContainer object of 6 artists>"
            ]
          },
          "metadata": {},
          "execution_count": 36
        },
        {
          "output_type": "display_data",
          "data": {
            "text/plain": [
              "<Figure size 432x288 with 1 Axes>"
            ],
            "image/png": "[encoded data removed]"
          },
          "metadata": {
            "needs_background": "light"
          }
        }
      ],
      "source": [
        "plt.bar(general_types, [counter_devtest_predictions[l] for l in general_types])"
      ]
    },
    {
      "cell_type": "markdown",
      "metadata": {
        "id": "7GA8W2g1v_Xf"
      },
      "source": [
        "The predicted labels have a different distribution to the labels of the training and devtest data, and there are no predictions for the ABBR class. This is a common issue. Sometimes, the system does not learn classes that have poor representation in the training data."
      ]
    },
    {
      "cell_type": "markdown",
      "source": [
        ""
      ],
      "metadata": {
        "id": "ySiHuaA450dL"
      }
    },
    {
      "cell_type": "markdown",
      "metadata": {
        "id": "QOUTCrdqv_Xi"
      },
      "source": [
        "### Optional Exercise: Improve your system\n",
        "\n",
        "Try the following options:\n",
        "\n",
        "1. Use pre-trained word embeddings\n",
        "2. Use recurrent neural networks.\n",
        "\n",
        "Feel free to try each option separately and in combination, and compare the results. Feel also free to try with other variants of the initial architecture, such as:\n",
        "\n",
        "1. Introducing more hidden layers.\n",
        "2. Changing the size of embeddings.\n",
        "3. Changing the number of units in the hidden layer(s)."
      ]
    },
    {
      "cell_type": "code",
      "execution_count": null,
      "metadata": {
        "id": "6Q-1GtYOv_Xl"
      },
      "outputs": [],
      "source": [
        ""
      ]
    }
  ],
  "metadata": {
    "anaconda-cloud": {},
    "colab": {
      "collapsed_sections": [],
      "name": "W05_Practical_Solution.ipynb",
      "provenance": []
    },
    "kernelspec": {
      "display_name": "Python 3",
      "language": "python",
      "name": "python3"
    },
    "language_info": {
      "codemirror_mode": {
        "name": "ipython",
        "version": 3
      },
      "file_extension": ".py",
      "mimetype": "text/x-python",
      "name": "python",
      "nbconvert_exporter": "python",
      "pygments_lexer": "ipython3",
      "version": "3.9.10"
    }
  },
  "nbformat": 4,
  "nbformat_minor": 0
}