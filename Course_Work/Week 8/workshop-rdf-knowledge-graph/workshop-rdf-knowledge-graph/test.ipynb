{
 "cells": [
  {
   "cell_type": "code",
   "execution_count": 7,
   "metadata": {},
   "outputs": [
    {
     "data": {
      "text/plain": [
       "0"
      ]
     },
     "execution_count": 7,
     "metadata": {},
     "output_type": "execute_result"
    }
   ],
   "source": [
    "import os\n",
    "\n",
    "os.system('python -m rdfizer -c ./config.ini')"
   ]
  },
  {
   "cell_type": "code",
   "execution_count": 6,
   "metadata": {},
   "outputs": [
    {
     "name": "stdout",
     "output_type": "stream",
     "text": [
      "\n",
      "\n",
      "b'{\"results\": {\"bindings\": []}, \"head\": {\"vars\": [\"who\"]}}'\n"
     ]
    }
   ],
   "source": [
    "import rdflib\n",
    "g = rdflib.Graph()\n",
    "res = g.parse(\"triples.nt\", format=\"ntriples\")\n",
    "\n",
    "output = res.serialize(format='turtle')\n",
    "print(output)\n",
    "\n",
    "\n",
    "# What is the name of the personality that practises tennis?\n",
    "res = g.query(\n",
    "    \"\"\"PREFIX ns1: <http://xmlns.com/foaf/0.1/> \n",
    "       PREFIX ns2: <http://example.com/ontology/>     \n",
    "    \n",
    "        SELECT ?who\n",
    "        WHERE { ?x ns1:name ?who .\n",
    "                ?x ns2:practises ?y .\n",
    "                ?y rdfs:label \"Tennis\" .\n",
    "               } \n",
    "    \"\"\")\n",
    "\n",
    "print(res.serialize(format=\"json\"))\n"
   ]
  }
 ],
 "metadata": {
  "interpreter": {
   "hash": "20496a84efe115372f44d1b35d571fff313331298d2cdbaebef32413764fe580"
  },
  "kernelspec": {
   "display_name": "Python 3.8.8",
   "language": "python",
   "name": "python3"
  },
  "language_info": {
   "codemirror_mode": {
    "name": "ipython",
    "version": 3
   },
   "file_extension": ".py",
   "mimetype": "text/x-python",
   "name": "python",
   "nbconvert_exporter": "python",
   "pygments_lexer": "ipython3",
   "version": "3.8.8"
  },
  "orig_nbformat": 4
 },
 "nbformat": 4,
 "nbformat_minor": 2
}
