{
 "cells": [
  {
   "cell_type": "markdown",
   "metadata": {},
   "source": [
    "# Text Classification: Name Gender\n",
    "\n",
    "Here is a partition of the name gender data into training, dev-test, and test data as shown in the lectures:"
   ]
  },
  {
   "cell_type": "code",
   "execution_count": 1,
   "metadata": {},
   "outputs": [
    {
     "name": "stderr",
     "output_type": "stream",
     "text": [
      "[nltk_data] Downloading package names to /home/diego/nltk_data...\n",
      "[nltk_data]   Package names is already up-to-date!\n"
     ]
    }
   ],
   "source": [
    "import nltk\n",
    "nltk.download('names')\n",
    "from nltk.corpus import names\n",
    "m = names.words('male.txt')\n",
    "f = names.words('female.txt')"
   ]
  },
  {
   "cell_type": "code",
   "execution_count": 2,
   "metadata": {},
   "outputs": [],
   "source": [
    "import random\n",
    "random.seed(1234) # Set the random seed to allow replicability\n",
    "names = ([(name, 'male') for name in m] +\n",
    "         [(name, 'female') for name in f])\n",
    "random.shuffle(names)\n",
    "train_names = names[1000:]\n",
    "devtest_names = names[500:1000]\n",
    "test_names = names[:500]"
   ]
  },
  {
   "cell_type": "markdown",
   "metadata": {},
   "source": [
    "And here is one of the classifiers given in the lectures."
   ]
  },
  {
   "cell_type": "code",
   "execution_count": 3,
   "metadata": {},
   "outputs": [
    {
     "data": {
      "text/plain": [
       "0.77"
      ]
     },
     "execution_count": 3,
     "metadata": {},
     "output_type": "execute_result"
    }
   ],
   "source": [
    "def gender_features2(word):\n",
    "    return {'suffix1': word[-1:],\n",
    "            'suffix2': word[-2:]}\n",
    "train_set2 = [(gender_features2(n), g) for n, g in train_names]\n",
    "devtest_set2 = [(gender_features2(n), g) for n, g in devtest_names]\n",
    "classifier2 = nltk.NaiveBayesClassifier.train(train_set2)\n",
    "nltk.classify.accuracy(classifier2, devtest_set2)"
   ]
  },
  {
   "cell_type": "markdown",
   "metadata": {},
   "source": [
    "### Exercise: Using more information\n",
    "Define a new function `gender_features5` that takes, as features, any suffixes of size 1, 2, 3, 4, and 5. Examine the accuracy results. What can you conclude from this new classifier?"
   ]
  },
  {
   "cell_type": "code",
   "execution_count": 4,
   "metadata": {},
   "outputs": [
    {
     "data": {
      "text/plain": [
       "0.802"
      ]
     },
     "execution_count": 4,
     "metadata": {},
     "output_type": "execute_result"
    }
   ],
   "source": [
    "def gender_features5(word):\n",
    "    return {'suffix1': word[-1:],\n",
    "            'suffix2': word[-2:],\n",
    "            'suffix3': word[-3:],\n",
    "            'suffix4': word[-4:],\n",
    "            'suffix5': word[-5:]}\n",
    "train_set5 = [(gender_features5(n), g) for n, g in train_names]\n",
    "devtest_set5 = [(gender_features5(n), g) for n, g in devtest_names]\n",
    "classifier5 = nltk.NaiveBayesClassifier.train(train_set5)\n",
    "nltk.classify.accuracy(classifier5, devtest_set5) "
   ]
  },
  {
   "cell_type": "markdown",
   "metadata": {},
   "source": [
    "*(We observe an improvement in the accuracy, so it seems that the additional features are useful. But what happens if we use the new features only?)*"
   ]
  },
  {
   "cell_type": "code",
   "execution_count": 5,
   "metadata": {},
   "outputs": [
    {
     "data": {
      "text/plain": [
       "0.786"
      ]
     },
     "execution_count": 5,
     "metadata": {},
     "output_type": "execute_result"
    }
   ],
   "source": [
    "def gender_features3_5(word):\n",
    "    return {'suffix3': word[-3:],\n",
    "            'suffix4': word[-4:],\n",
    "            'suffix5': word[-5:]}\n",
    "train_set3_5 = [(gender_features3_5(n), g) for n, g in train_names]\n",
    "devtest_set3_5 = [(gender_features3_5(n), g) for n, g in devtest_names]\n",
    "classifier3_5 = nltk.NaiveBayesClassifier.train(train_set3_5)\n",
    "nltk.classify.accuracy(classifier3_5, devtest_set3_5) "
   ]
  },
  {
   "cell_type": "markdown",
   "metadata": {},
   "source": [
    "*(We see that now the classifier has slightly worse results, so these new features are not to be used in isolation. We still need to keep the last two characters.)*"
   ]
  },
  {
   "cell_type": "markdown",
   "metadata": {},
   "source": [
    "### Exercise: Plot the impact of the training size on our classifier\n",
    "\n",
    "The following code plots the classifier accuracy on the training and dev-test set as we increase the training size on the classifier we used in the. Examine the plot and answer the following questions:\n",
    "\n",
    "1. From what amount of training data you would judge that the system stops over-fitting?\n",
    "2. From what amount of training data would you say that there is no need to add more training data?"
   ]
  },
  {
   "cell_type": "code",
   "execution_count": 6,
   "metadata": {},
   "outputs": [],
   "source": [
    "train_accuracy2 = []\n",
    "devtest_accuracy2 = []\n",
    "nsamples = range(10, 500, 5)\n",
    "for n in nsamples:\n",
    "    classifier2 = nltk.NaiveBayesClassifier.train(train_set2[:n])\n",
    "    train_accuracy2.append(nltk.classify.accuracy(classifier2, train_set2[:n]))\n",
    "    devtest_accuracy2.append(nltk.classify.accuracy(classifier2, devtest_set2))"
   ]
  },
  {
   "cell_type": "code",
   "execution_count": 7,
   "metadata": {},
   "outputs": [
    {
     "data": {
      "text/plain": [
       "<matplotlib.legend.Legend at 0x7fb0045e0a00>"
      ]
     },
     "execution_count": 7,
     "metadata": {},
     "output_type": "execute_result"
    },
    {
     "data": {
      "image/png": "[encoded data removed]",
      "text/plain": [
       "<Figure size 432x288 with 1 Axes>"
      ]
     },
     "metadata": {
      "needs_background": "light"
     },
     "output_type": "display_data"
    }
   ],
   "source": [
    "%matplotlib inline\n",
    "from matplotlib import pyplot as plt\n",
    "plt.plot(nsamples, train_accuracy2, label='Train')\n",
    "plt.plot(nsamples, devtest_accuracy2, label='Devtest')\n",
    "plt.xlabel('Training size')\n",
    "plt.ylabel('Accuracy')\n",
    "plt.title('Classifier 2')\n",
    "plt.legend()"
   ]
  },
  {
   "cell_type": "markdown",
   "metadata": {},
   "source": [
    "*(**Solution**: the plot shows that there is overfitting, and that the overfitting decreases as we increase the training size. The accuracy results do not change significantly from about 100 samples of training, so although there is overfitting, for practical purposes there is no need to use additional training data beyond 100 samples. This is a very small number of training samples because the number of features is very small, only 2 features.)*"
   ]
  },
  {
   "cell_type": "markdown",
   "metadata": {},
   "source": [
    "### Exercise: Plot the impact of the training size on your classifier\n",
    "\n",
    "Make the same plot, this time using the classifier that uses the feature extractor that you have designed. Compare your plot against the one in the above exercise."
   ]
  },
  {
   "cell_type": "code",
   "execution_count": 18,
   "metadata": {},
   "outputs": [],
   "source": [
    "train_accuracy5 = []\n",
    "devtest_accuracy5 = []\n",
    "nsamples = range(10, 500, 5)\n",
    "for n in nsamples:\n",
    "    classifier5 = nltk.NaiveBayesClassifier.train(train_set5[:n])\n",
    "    train_accuracy5.append(nltk.classify.accuracy(classifier5, train_set5[:n]))\n",
    "    devtest_accuracy5.append(nltk.classify.accuracy(classifier5, devtest_set5))"
   ]
  },
  {
   "cell_type": "code",
   "execution_count": 19,
   "metadata": {},
   "outputs": [
    {
     "data": {
      "text/plain": [
       "<matplotlib.legend.Legend at 0x7fb0045e08b0>"
      ]
     },
     "execution_count": 19,
     "metadata": {},
     "output_type": "execute_result"
    },
    {
     "data": {
      "image/png": "[encoded data removed]",
      "text/plain": [
       "<Figure size 432x288 with 1 Axes>"
      ]
     },
     "metadata": {
      "needs_background": "light"
     },
     "output_type": "display_data"
    }
   ],
   "source": [
    "%matplotlib inline\n",
    "from matplotlib import pyplot as plt\n",
    "plt.plot(nsamples, train_accuracy5, label='Train')\n",
    "plt.plot(nsamples, devtest_accuracy5, label='Devtest')\n",
    "plt.xlabel('Training size')\n",
    "plt.ylabel('Accuracy')\n",
    "plt.title('Classifier 5')\n",
    "plt.legend()"
   ]
  },
  {
   "cell_type": "markdown",
   "metadata": {},
   "source": [
    "*(We observe substantial overfitting, and it seems that there is no need to use more than 200 samples of training data.)*"
   ]
  },
  {
   "cell_type": "markdown",
   "metadata": {},
   "source": [
    "### Exercise: Repeat the analysis using sk-learn\n",
    "\n",
    "The lectures show how to use sklearn to implement the name classifier. Replicate the work in this workshop and try to answer the same questions as above.\n",
    "\n",
    "1. Is it better to use the last two characters, or the last 5 characters?\n",
    "2. From what amount of training data you would judge that the system stops overfitting?\n",
    "3. From what amount of training data would you say that there is no need to add more training data?\n"
   ]
  },
  {
   "cell_type": "code",
   "execution_count": 8,
   "metadata": {},
   "outputs": [],
   "source": [
    "from sklearn.naive_bayes import MultinomialNB\n",
    "def one_hot_character(c):\n",
    "    alphabet = 'abcdefghijklmnopqrstuvwxyz'\n",
    "    result = [0]*(len(alphabet)+1)\n",
    "    i = alphabet.find(c.lower())\n",
    "    if i >= 0:\n",
    "        result[i] = 1\n",
    "    else:\n",
    "        result[len(alphabet)] = 1 # character is out of the alphabet\n",
    "    return result\n",
    "def sk_gender_features2(word):\n",
    "    \"Return the one-hot encoding of the last two characters\"\n",
    "    assert len(word) >= 2\n",
    "    last = one_hot_character(word[-1])\n",
    "    secondlast = one_hot_character(word[-2])\n",
    "    return secondlast + last"
   ]
  },
  {
   "cell_type": "code",
   "execution_count": 9,
   "metadata": {},
   "outputs": [],
   "source": [
    "sk_train_set2 = [(sk_gender_features2(n), g) for n, g in train_names]\n",
    "sk_devtest_set2 = [(sk_gender_features2(n), g) for n, g in devtest_names]\n",
    "sk_classifier2 = MultinomialNB()\n",
    "train2_X, train2_y = zip(*sk_train_set2)\n",
    "sk_classifier2.fit(train2_X, train2_y)\n",
    "devtest2_X, devtest2_y = zip(*sk_devtest_set2)"
   ]
  },
  {
   "cell_type": "code",
   "execution_count": 10,
   "metadata": {},
   "outputs": [
    {
     "data": {
      "text/plain": [
       "0.752"
      ]
     },
     "execution_count": 10,
     "metadata": {},
     "output_type": "execute_result"
    }
   ],
   "source": [
    "from sklearn.metrics import accuracy_score\n",
    "devtest_predictions = sk_classifier2.predict(devtest2_X)\n",
    "accuracy_score(devtest2_y, devtest_predictions)"
   ]
  },
  {
   "cell_type": "code",
   "execution_count": 11,
   "metadata": {},
   "outputs": [],
   "source": [
    "def sk_gender_features5(word):\n",
    "    \"Return the one-hot encoding of the last 5 characters\"\n",
    "    features = []\n",
    "    for i in range(5):\n",
    "        if i <= len(word):\n",
    "            features += one_hot_character(word[-i])\n",
    "        else:\n",
    "            features += one_hot_character(' ')\n",
    "    return features"
   ]
  },
  {
   "cell_type": "code",
   "execution_count": 12,
   "metadata": {},
   "outputs": [
    {
     "data": {
      "text/plain": [
       "[0,\n",
       " 0,\n",
       " 0,\n",
       " 0,\n",
       " 0,\n",
       " 0,\n",
       " 0,\n",
       " 0,\n",
       " 0,\n",
       " 0,\n",
       " 0,\n",
       " 0,\n",
       " 1,\n",
       " 0,\n",
       " 0,\n",
       " 0,\n",
       " 0,\n",
       " 0,\n",
       " 0,\n",
       " 0,\n",
       " 0,\n",
       " 0,\n",
       " 0,\n",
       " 0,\n",
       " 0,\n",
       " 0,\n",
       " 0,\n",
       " 0,\n",
       " 0,\n",
       " 0,\n",
       " 0,\n",
       " 0,\n",
       " 0,\n",
       " 0,\n",
       " 0,\n",
       " 0,\n",
       " 0,\n",
       " 0,\n",
       " 0,\n",
       " 0,\n",
       " 0,\n",
       " 0,\n",
       " 0,\n",
       " 0,\n",
       " 0,\n",
       " 0,\n",
       " 0,\n",
       " 0,\n",
       " 0,\n",
       " 0,\n",
       " 0,\n",
       " 1,\n",
       " 0,\n",
       " 0,\n",
       " 0,\n",
       " 0,\n",
       " 0,\n",
       " 0,\n",
       " 0,\n",
       " 0,\n",
       " 0,\n",
       " 0,\n",
       " 0,\n",
       " 0,\n",
       " 0,\n",
       " 0,\n",
       " 0,\n",
       " 0,\n",
       " 0,\n",
       " 0,\n",
       " 0,\n",
       " 1,\n",
       " 0,\n",
       " 0,\n",
       " 0,\n",
       " 0,\n",
       " 0,\n",
       " 0,\n",
       " 0,\n",
       " 0,\n",
       " 0,\n",
       " 1,\n",
       " 0,\n",
       " 0,\n",
       " 0,\n",
       " 0,\n",
       " 0,\n",
       " 0,\n",
       " 0,\n",
       " 0,\n",
       " 0,\n",
       " 0,\n",
       " 0,\n",
       " 0,\n",
       " 0,\n",
       " 0,\n",
       " 0,\n",
       " 0,\n",
       " 0,\n",
       " 0,\n",
       " 0,\n",
       " 0,\n",
       " 0,\n",
       " 0,\n",
       " 0,\n",
       " 0,\n",
       " 0,\n",
       " 0,\n",
       " 0,\n",
       " 0,\n",
       " 0,\n",
       " 0,\n",
       " 0,\n",
       " 0,\n",
       " 0,\n",
       " 0,\n",
       " 0,\n",
       " 0,\n",
       " 0,\n",
       " 0,\n",
       " 1,\n",
       " 0,\n",
       " 0,\n",
       " 0,\n",
       " 0,\n",
       " 0,\n",
       " 0,\n",
       " 0,\n",
       " 0,\n",
       " 0,\n",
       " 0,\n",
       " 0,\n",
       " 0,\n",
       " 0,\n",
       " 0]"
      ]
     },
     "execution_count": 12,
     "metadata": {},
     "output_type": "execute_result"
    }
   ],
   "source": [
    "sk_gender_features5('Mary')"
   ]
  },
  {
   "cell_type": "code",
   "execution_count": 13,
   "metadata": {},
   "outputs": [
    {
     "data": {
      "text/plain": [
       "0.786"
      ]
     },
     "execution_count": 13,
     "metadata": {},
     "output_type": "execute_result"
    }
   ],
   "source": [
    "sk_train_set5 = [(sk_gender_features5(n), g) for n, g in train_names]\n",
    "sk_devtest_set5 = [(sk_gender_features5(n), g) for n, g in devtest_names]\n",
    "sk_classifier5 = MultinomialNB()\n",
    "train5_X, train5_y = zip(*sk_train_set5)\n",
    "sk_classifier5.fit(train5_X, train5_y)\n",
    "devtest5_X, devtest5_y = zip(*sk_devtest_set5)\n",
    "devtest5_predictions = sk_classifier5.predict(devtest5_X)\n",
    "accuracy_score(devtest5_y, devtest5_predictions)"
   ]
  },
  {
   "cell_type": "markdown",
   "metadata": {},
   "source": [
    "*(We also observe an improvement in the results when using last 5 characters)*"
   ]
  },
  {
   "cell_type": "code",
   "execution_count": 14,
   "metadata": {},
   "outputs": [],
   "source": [
    "train_accuracy2 = []\n",
    "devtest_accuracy2 = []\n",
    "nsamples = range(10, 500, 5)\n",
    "for n in nsamples:\n",
    "    classifier2 = MultinomialNB()\n",
    "    classifier2.fit(train2_X[:n], train2_y[:n])\n",
    "    train_predictions = classifier2.predict(train2_X[:n])\n",
    "    train_accuracy2.append(accuracy_score(train2_y[:n], train_predictions))\n",
    "    devtest_predictions = classifier2.predict(devtest2_X)\n",
    "    devtest_accuracy2.append(accuracy_score(devtest2_y, devtest_predictions))"
   ]
  },
  {
   "cell_type": "code",
   "execution_count": 15,
   "metadata": {},
   "outputs": [
    {
     "data": {
      "text/plain": [
       "<matplotlib.legend.Legend at 0x7fb005088a90>"
      ]
     },
     "execution_count": 15,
     "metadata": {},
     "output_type": "execute_result"
    },
    {
     "data": {
      "image/png": "[encoded data removed]",
      "text/plain": [
       "<Figure size 432x288 with 1 Axes>"
      ]
     },
     "metadata": {
      "needs_background": "light"
     },
     "output_type": "display_data"
    }
   ],
   "source": [
    "plt.plot(nsamples, train_accuracy2, label='Train')\n",
    "plt.plot(nsamples, devtest_accuracy2, label='Devtest')\n",
    "plt.xlabel('Training size')\n",
    "plt.ylabel('Accuracy')\n",
    "plt.title('Classifier 2')\n",
    "plt.legend()"
   ]
  },
  {
   "cell_type": "code",
   "execution_count": 16,
   "metadata": {},
   "outputs": [],
   "source": [
    "train_accuracy5 = []\n",
    "devtest_accuracy5 = []\n",
    "nsamples = range(10, 500, 5)\n",
    "for n in nsamples:\n",
    "    classifier5 = MultinomialNB()\n",
    "    classifier5.fit(train5_X[:n], train5_y[:n])\n",
    "    train_predictions = classifier5.predict(train5_X[:n])\n",
    "    train_accuracy5.append(accuracy_score(train5_y[:n], train_predictions))\n",
    "    devtest_predictions = classifier5.predict(devtest5_X)\n",
    "    devtest_accuracy5.append(accuracy_score(devtest5_y, devtest_predictions))"
   ]
  },
  {
   "cell_type": "code",
   "execution_count": 17,
   "metadata": {},
   "outputs": [
    {
     "data": {
      "text/plain": [
       "<matplotlib.legend.Legend at 0x7fb005088790>"
      ]
     },
     "execution_count": 17,
     "metadata": {},
     "output_type": "execute_result"
    },
    {
     "data": {
      "image/png": "[encoded data removed]",
      "text/plain": [
       "<Figure size 432x288 with 1 Axes>"
      ]
     },
     "metadata": {
      "needs_background": "light"
     },
     "output_type": "display_data"
    }
   ],
   "source": [
    "plt.plot(nsamples, train_accuracy5, label='Train')\n",
    "plt.plot(nsamples, devtest_accuracy5, label='Devtest')\n",
    "plt.xlabel('Training size')\n",
    "plt.ylabel('Accuracy')\n",
    "plt.title('Classifier 5')\n",
    "plt.legend()"
   ]
  },
  {
   "cell_type": "markdown",
   "metadata": {},
   "source": [
    "*(We observe that classifier 5 overfits more but the results on the development set are better anyway. We also observe that we could add more training data, especially for classifier 5.)*"
   ]
  },
  {
   "cell_type": "code",
   "execution_count": null,
   "metadata": {},
   "outputs": [],
   "source": []
  }
 ],
 "metadata": {
  "kernelspec": {
   "display_name": "Python 3",
   "language": "python",
   "name": "python3"
  },
  "language_info": {
   "codemirror_mode": {
    "name": "ipython",
    "version": 3
   },
   "file_extension": ".py",
   "mimetype": "text/x-python",
   "name": "python",
   "nbconvert_exporter": "python",
   "pygments_lexer": "ipython3",
   "version": "3.9.7"
  }
 },
 "nbformat": 4,
 "nbformat_minor": 2
}
