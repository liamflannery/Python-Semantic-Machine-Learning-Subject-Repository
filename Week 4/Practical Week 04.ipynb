{
 "cells": [
  {
   "cell_type": "markdown",
   "metadata": {},
   "source": [
    "# Workshop Week 4"
   ]
  },
  {
   "cell_type": "markdown",
   "metadata": {},
   "source": [
    "# Deep Learning for Name Gender Classification\n",
    "\n",
    "We have already seen the following code for partitioning the data of name gender classification and feature extraction. The code is changed slightly so that the labels are numerical (0 for male, 1 for female). This is the format required for Keras:"
   ]
  },
  {
   "cell_type": "code",
   "execution_count": 1,
   "metadata": {},
   "outputs": [
    {
     "name": "stderr",
     "output_type": "stream",
     "text": [
      "[nltk_data] Downloading package names to\n",
      "[nltk_data]     C:\\Users\\liamf\\AppData\\Roaming\\nltk_data...\n",
      "[nltk_data]   Package names is already up-to-date!\n"
     ]
    }
   ],
   "source": [
    "import nltk\n",
    "nltk.download('names')\n",
    "from nltk.corpus import names\n",
    "m = names.words('male.txt')\n",
    "f = names.words('female.txt')"
   ]
  },
  {
   "cell_type": "code",
   "execution_count": 2,
   "metadata": {},
   "outputs": [],
   "source": [
    "import random\n",
    "random.seed(1234) # Set the random seed to allow replicability\n",
    "names = ([(name,0) for name in m] +\n",
    "         [(name,1) for name in f])\n",
    "random.shuffle(names)\n",
    "train_names = names[1000:]\n",
    "devtest_names = names[500:1000]\n",
    "test_names = names[:500]"
   ]
  },
  {
   "cell_type": "code",
   "execution_count": 4,
   "metadata": {},
   "outputs": [],
   "source": [
    "def one_hot_character(c):\n",
    "    alphabet = 'abcdefghijklmnopqrstuvwxyz'\n",
    "    result = [0]*(len(alphabet)+1)\n",
    "    i = alphabet.find(c.lower())\n",
    "    if i >= 0:\n",
    "        result[i] = 1\n",
    "    else:\n",
    "        result[len(alphabet)] = 1 # character is out of the alphabet\n",
    "    return result\n",
    "\n",
    "def gender_features_n(word, n=2):\n",
    "    \"Return the one-hot encodings of the last n characters\"\n",
    "    features = []\n",
    "    for i in range(n):\n",
    "        if i < len(word):\n",
    "            features = one_hot_character(word[-i-1]) + features\n",
    "        else:\n",
    "            features = one_hot_character(' ') + features\n",
    "    return features"
   ]
  },
  {
   "cell_type": "code",
   "execution_count": 5,
   "metadata": {},
   "outputs": [
    {
     "data": {
      "text/plain": [
       "[0,\n",
       " 0,\n",
       " 0,\n",
       " 0,\n",
       " 0,\n",
       " 0,\n",
       " 0,\n",
       " 0,\n",
       " 0,\n",
       " 0,\n",
       " 0,\n",
       " 0,\n",
       " 0,\n",
       " 0,\n",
       " 0,\n",
       " 0,\n",
       " 0,\n",
       " 1,\n",
       " 0,\n",
       " 0,\n",
       " 0,\n",
       " 0,\n",
       " 0,\n",
       " 0,\n",
       " 0,\n",
       " 0,\n",
       " 0,\n",
       " 0,\n",
       " 0,\n",
       " 0,\n",
       " 0,\n",
       " 0,\n",
       " 0,\n",
       " 0,\n",
       " 0,\n",
       " 0,\n",
       " 0,\n",
       " 0,\n",
       " 0,\n",
       " 0,\n",
       " 0,\n",
       " 0,\n",
       " 0,\n",
       " 0,\n",
       " 0,\n",
       " 0,\n",
       " 0,\n",
       " 0,\n",
       " 0,\n",
       " 0,\n",
       " 0,\n",
       " 1,\n",
       " 0,\n",
       " 0]"
      ]
     },
     "execution_count": 5,
     "metadata": {},
     "output_type": "execute_result"
    }
   ],
   "source": [
    "gender_features_n(\"Mary\", n=2)"
   ]
  },
  {
   "cell_type": "code",
   "execution_count": 6,
   "metadata": {},
   "outputs": [
    {
     "data": {
      "text/plain": [
       "54"
      ]
     },
     "execution_count": 6,
     "metadata": {},
     "output_type": "execute_result"
    }
   ],
   "source": [
    "# Let's determine the number of features so that we can use this information when we design the neural network\n",
    "len(gender_features_n(\"Mary\", n=2))"
   ]
  },
  {
   "cell_type": "markdown",
   "metadata": {},
   "source": [
    "## Exercise: Simple Neural Network\n",
    "Design a simple neural network that has 54 input cells (that's the number of gender features for $n=2$, as we have seen above), and one output cell (without a hidden layer). The output cell will be used to classify the name between male (output=0) and female (output=1). This is therefore an instance of **binary classification**. Pay attention to the right activation function! This simple model, without hidden layers, is equivalent to a **logistic regression** classifier. The model summary should look like this:\n",
    "\n",
    "```\n",
    "Layer (type)                 Output Shape              Param #   \n",
    "=================================================================\n",
    "dense_2 (Dense)              (None, 1)                 55        \n",
    "=================================================================\n",
    "Total params: 55\n",
    "Trainable params: 55\n",
    "Non-trainable params: 0\n",
    "```\n",
    "\n",
    "\n",
    "Compile the model and provide the right loss function. Use `'rmsprop'` as the optimiser, and include `'accuracy'` as an evaluation metric. \n",
    "Run the network **for 100 epochs** using batch size of 100, and observe the results. \n",
    "\n",
    "Answer the following questions:\n",
    "\n",
    "1. What is the best result on the validation set?\n",
    "2. At the epoch with best result on the validation set, what is the result on the training set?\n",
    "3. Is the system overfitting? Justify your answer.\n",
    "4. Do we really need 100 epochs? Do we need more than 100 epochs? would the system run better with less epochs?"
   ]
  },
  {
   "cell_type": "code",
   "execution_count": 11,
   "metadata": {},
   "outputs": [
    {
     "data": {
      "text/plain": [
       "[PhysicalDevice(name='/physical_device:CPU:0', device_type='CPU')]"
      ]
     },
     "execution_count": 11,
     "metadata": {},
     "output_type": "execute_result"
    }
   ],
   "source": [
    "import tensorflow as tf\n",
    "tf.config.experimental.list_physical_devices()"
   ]
  },
  {
   "cell_type": "code",
   "execution_count": 12,
   "metadata": {},
   "outputs": [
    {
     "name": "stderr",
     "output_type": "stream",
     "text": [
      "C:\\Users\\liamf\\anaconda3\\lib\\site-packages\\tensorflow\\python\\client\\session.py:1768: UserWarning: An interactive session is already active. This can cause out-of-memory errors in some cases. You must explicitly call `InteractiveSession.close()` to release resources held by the other session(s).\n",
      "  warnings.warn('An interactive session is already active. This can '\n"
     ]
    }
   ],
   "source": [
    "from tensorflow.compat.v1 import ConfigProto\n",
    "from tensorflow.compat.v1 import InteractiveSession\n",
    "\n",
    "config = ConfigProto()\n",
    "config.gpu_options.allow_growth = True\n",
    "session = InteractiveSession(config=config)"
   ]
  },
  {
   "cell_type": "code",
   "execution_count": 27,
   "metadata": {},
   "outputs": [],
   "source": [
    "import numpy as np\n",
    "from tensorflow.keras import models\n",
    "from tensorflow.keras import layers\n",
    "\n",
    "# Write your model here\n",
    "model = models.Sequential()\n",
    "model.add(layers.Dense(1, activation='relu', input_shape=(54,)))\n",
    "model.compile(optimizer='rmsprop', loss='binary_crossentropy', metrics=['acc'])"
   ]
  },
  {
   "cell_type": "code",
   "execution_count": 29,
   "metadata": {},
   "outputs": [],
   "source": [
    "import numpy as np\n",
    "train_data = np.array([gender_features_n(name, n=2) for name, label in train_names])\n",
    "train_labels = np.array([label for name, label in train_names])\n",
    "\n",
    "devtest_data = np.array([gender_features_n(name, n=2) for name, label in devtest_names])\n",
    "devtest_labels = np.array([label for name, label in devtest_names])\n"
   ]
  },
  {
   "cell_type": "code",
   "execution_count": 28,
   "metadata": {},
   "outputs": [
    {
     "name": "stdout",
     "output_type": "stream",
     "text": [
      "Model: \"sequential_7\"\n",
      "_________________________________________________________________\n",
      " Layer (type)                Output Shape              Param #   \n",
      "=================================================================\n",
      " dense_12 (Dense)            (None, 1)                 55        \n",
      "                                                                 \n",
      "=================================================================\n",
      "Total params: 55\n",
      "Trainable params: 55\n",
      "Non-trainable params: 0\n",
      "_________________________________________________________________\n"
     ]
    }
   ],
   "source": [
    "model.summary()"
   ]
  },
  {
   "cell_type": "markdown",
   "metadata": {},
   "source": [
    "(write additional code for the partition of the data, your experiments, and your analysis. Write the answers to the questions.)"
   ]
  },
  {
   "cell_type": "code",
   "execution_count": 31,
   "metadata": {},
   "outputs": [
    {
     "name": "stdout",
     "output_type": "stream",
     "text": [
      "Epoch 1/100\n",
      "14/14 [==============================] - 0s 7ms/step - loss: 0.6755 - acc: 0.6418 - val_loss: 0.7794 - val_acc: 0.6040\n",
      "Epoch 2/100\n",
      "14/14 [==============================] - 0s 6ms/step - loss: 0.6460 - acc: 0.6444 - val_loss: 0.7083 - val_acc: 0.6040\n",
      "Epoch 3/100\n",
      "14/14 [==============================] - 0s 6ms/step - loss: 0.5947 - acc: 0.6452 - val_loss: 0.6390 - val_acc: 0.6080\n",
      "Epoch 4/100\n",
      "14/14 [==============================] - 0s 6ms/step - loss: 0.5801 - acc: 0.6465 - val_loss: 0.6181 - val_acc: 0.6200\n",
      "Epoch 5/100\n",
      "14/14 [==============================] - 0s 7ms/step - loss: 0.5648 - acc: 0.6584 - val_loss: 0.6018 - val_acc: 0.6180\n",
      "Epoch 6/100\n",
      "14/14 [==============================] - 0s 6ms/step - loss: 0.5532 - acc: 0.7019 - val_loss: 0.5904 - val_acc: 0.7040\n",
      "Epoch 7/100\n",
      "14/14 [==============================] - 0s 6ms/step - loss: 0.5434 - acc: 0.7310 - val_loss: 0.5787 - val_acc: 0.7040\n",
      "Epoch 8/100\n",
      "14/14 [==============================] - 0s 7ms/step - loss: 0.5346 - acc: 0.7314 - val_loss: 0.5674 - val_acc: 0.7020\n",
      "Epoch 9/100\n",
      "14/14 [==============================] - 0s 5ms/step - loss: 0.5251 - acc: 0.7349 - val_loss: 0.5575 - val_acc: 0.7140\n",
      "Epoch 10/100\n",
      "14/14 [==============================] - 0s 6ms/step - loss: 0.5167 - acc: 0.7481 - val_loss: 0.5491 - val_acc: 0.7140\n",
      "Epoch 11/100\n",
      "14/14 [==============================] - 0s 7ms/step - loss: 0.5094 - acc: 0.7486 - val_loss: 0.5421 - val_acc: 0.7140\n",
      "Epoch 12/100\n",
      "14/14 [==============================] - 0s 6ms/step - loss: 0.5044 - acc: 0.7488 - val_loss: 0.5363 - val_acc: 0.7140\n",
      "Epoch 13/100\n",
      "14/14 [==============================] - 0s 7ms/step - loss: 0.4986 - acc: 0.7491 - val_loss: 0.5318 - val_acc: 0.7200\n",
      "Epoch 14/100\n",
      "14/14 [==============================] - 0s 6ms/step - loss: 0.4935 - acc: 0.7504 - val_loss: 0.5285 - val_acc: 0.7220\n",
      "Epoch 15/100\n",
      "14/14 [==============================] - 0s 6ms/step - loss: 0.4891 - acc: 0.7537 - val_loss: 0.5284 - val_acc: 0.7260\n",
      "Epoch 16/100\n",
      "14/14 [==============================] - 0s 11ms/step - loss: 0.4855 - acc: 0.7558 - val_loss: 0.5431 - val_acc: 0.7240\n",
      "Epoch 17/100\n",
      "14/14 [==============================] - 0s 9ms/step - loss: 0.4822 - acc: 0.7510 - val_loss: 0.5405 - val_acc: 0.7320\n",
      "Epoch 18/100\n",
      "14/14 [==============================] - 0s 10ms/step - loss: 0.4787 - acc: 0.7529 - val_loss: 0.5388 - val_acc: 0.7220\n",
      "Epoch 19/100\n",
      "14/14 [==============================] - 0s 7ms/step - loss: 0.4757 - acc: 0.7539 - val_loss: 0.5367 - val_acc: 0.7280\n",
      "Epoch 20/100\n",
      "14/14 [==============================] - 0s 8ms/step - loss: 0.4749 - acc: 0.7569 - val_loss: 0.5347 - val_acc: 0.7360\n",
      "Epoch 21/100\n",
      "14/14 [==============================] - 0s 9ms/step - loss: 0.4729 - acc: 0.7611 - val_loss: 0.5331 - val_acc: 0.7420\n",
      "Epoch 22/100\n",
      "14/14 [==============================] - 0s 8ms/step - loss: 0.4710 - acc: 0.7668 - val_loss: 0.5320 - val_acc: 0.7440\n",
      "Epoch 23/100\n",
      "14/14 [==============================] - 0s 7ms/step - loss: 0.4695 - acc: 0.7704 - val_loss: 0.5316 - val_acc: 0.7400\n",
      "Epoch 24/100\n",
      "14/14 [==============================] - 0s 7ms/step - loss: 0.4682 - acc: 0.7679 - val_loss: 0.5315 - val_acc: 0.7440\n",
      "Epoch 25/100\n",
      "14/14 [==============================] - 0s 7ms/step - loss: 0.4669 - acc: 0.7690 - val_loss: 0.5315 - val_acc: 0.7440\n",
      "Epoch 26/100\n",
      "14/14 [==============================] - 0s 7ms/step - loss: 0.4659 - acc: 0.7697 - val_loss: 0.5319 - val_acc: 0.7440\n",
      "Epoch 27/100\n",
      "14/14 [==============================] - 0s 20ms/step - loss: 0.4652 - acc: 0.7729 - val_loss: 0.5334 - val_acc: 0.7500\n",
      "Epoch 28/100\n",
      "14/14 [==============================] - 0s 8ms/step - loss: 0.4644 - acc: 0.7704 - val_loss: 0.5520 - val_acc: 0.7520\n",
      "Epoch 29/100\n",
      "14/14 [==============================] - 0s 7ms/step - loss: 0.4637 - acc: 0.7746 - val_loss: 0.5522 - val_acc: 0.7520\n",
      "Epoch 30/100\n",
      "14/14 [==============================] - 0s 7ms/step - loss: 0.4632 - acc: 0.7726 - val_loss: 0.5517 - val_acc: 0.7560\n",
      "Epoch 31/100\n",
      "14/14 [==============================] - 0s 7ms/step - loss: 0.4627 - acc: 0.7765 - val_loss: 0.5518 - val_acc: 0.7560\n",
      "Epoch 32/100\n",
      "14/14 [==============================] - 0s 7ms/step - loss: 0.4622 - acc: 0.7778 - val_loss: 0.5510 - val_acc: 0.7600\n",
      "Epoch 33/100\n",
      "14/14 [==============================] - 0s 5ms/step - loss: 0.4618 - acc: 0.7782 - val_loss: 0.5508 - val_acc: 0.7640\n",
      "Epoch 34/100\n",
      "14/14 [==============================] - 0s 6ms/step - loss: 0.4615 - acc: 0.7821 - val_loss: 0.5507 - val_acc: 0.7660\n",
      "Epoch 35/100\n",
      "14/14 [==============================] - 0s 6ms/step - loss: 0.4613 - acc: 0.7833 - val_loss: 0.5504 - val_acc: 0.7620\n",
      "Epoch 36/100\n",
      "14/14 [==============================] - 0s 5ms/step - loss: 0.4611 - acc: 0.7778 - val_loss: 0.5503 - val_acc: 0.7660\n",
      "Epoch 37/100\n",
      "14/14 [==============================] - 0s 5ms/step - loss: 0.4608 - acc: 0.7808 - val_loss: 0.5501 - val_acc: 0.7660\n",
      "Epoch 38/100\n",
      "14/14 [==============================] - 0s 5ms/step - loss: 0.4605 - acc: 0.7823 - val_loss: 0.5505 - val_acc: 0.7620\n",
      "Epoch 39/100\n",
      "14/14 [==============================] - 0s 5ms/step - loss: 0.4604 - acc: 0.7782 - val_loss: 0.5507 - val_acc: 0.7640\n",
      "Epoch 40/100\n",
      "14/14 [==============================] - 0s 5ms/step - loss: 0.4602 - acc: 0.7782 - val_loss: 0.5497 - val_acc: 0.7620\n",
      "Epoch 41/100\n",
      "14/14 [==============================] - 0s 8ms/step - loss: 0.4600 - acc: 0.7798 - val_loss: 0.5497 - val_acc: 0.7640\n",
      "Epoch 42/100\n",
      "14/14 [==============================] - 0s 8ms/step - loss: 0.4600 - acc: 0.7802 - val_loss: 0.5505 - val_acc: 0.7620\n",
      "Epoch 43/100\n",
      "14/14 [==============================] - 0s 7ms/step - loss: 0.4599 - acc: 0.7805 - val_loss: 0.5503 - val_acc: 0.7640\n",
      "Epoch 44/100\n",
      "14/14 [==============================] - 0s 8ms/step - loss: 0.4597 - acc: 0.7820 - val_loss: 0.5505 - val_acc: 0.7600\n",
      "Epoch 45/100\n",
      "14/14 [==============================] - 0s 10ms/step - loss: 0.4597 - acc: 0.7814 - val_loss: 0.5505 - val_acc: 0.7660\n",
      "Epoch 46/100\n",
      "14/14 [==============================] - 0s 9ms/step - loss: 0.4596 - acc: 0.7814 - val_loss: 0.5504 - val_acc: 0.7660\n",
      "Epoch 47/100\n",
      "14/14 [==============================] - 0s 9ms/step - loss: 0.4595 - acc: 0.7824 - val_loss: 0.5501 - val_acc: 0.7640\n",
      "Epoch 48/100\n",
      "14/14 [==============================] - 0s 10ms/step - loss: 0.4596 - acc: 0.7814 - val_loss: 0.5503 - val_acc: 0.7640\n",
      "Epoch 49/100\n",
      "14/14 [==============================] - 0s 6ms/step - loss: 0.4594 - acc: 0.7833 - val_loss: 0.5502 - val_acc: 0.7640\n",
      "Epoch 50/100\n",
      "14/14 [==============================] - 0s 8ms/step - loss: 0.4594 - acc: 0.7825 - val_loss: 0.5503 - val_acc: 0.7640\n",
      "Epoch 51/100\n",
      "14/14 [==============================] - 0s 6ms/step - loss: 0.4594 - acc: 0.7824 - val_loss: 0.5499 - val_acc: 0.7660\n",
      "Epoch 52/100\n",
      "14/14 [==============================] - 0s 7ms/step - loss: 0.4592 - acc: 0.7831 - val_loss: 0.5499 - val_acc: 0.7660\n",
      "Epoch 53/100\n",
      "14/14 [==============================] - 0s 8ms/step - loss: 0.4592 - acc: 0.7841 - val_loss: 0.5500 - val_acc: 0.7660\n",
      "Epoch 54/100\n",
      "14/14 [==============================] - 0s 5ms/step - loss: 0.4592 - acc: 0.7831 - val_loss: 0.5501 - val_acc: 0.7680\n",
      "Epoch 55/100\n",
      "14/14 [==============================] - 0s 6ms/step - loss: 0.4592 - acc: 0.7815 - val_loss: 0.5497 - val_acc: 0.7680\n",
      "Epoch 56/100\n",
      "14/14 [==============================] - 0s 7ms/step - loss: 0.4591 - acc: 0.7843 - val_loss: 0.5500 - val_acc: 0.7700\n",
      "Epoch 57/100\n",
      "14/14 [==============================] - 0s 8ms/step - loss: 0.4591 - acc: 0.7820 - val_loss: 0.5501 - val_acc: 0.7680\n",
      "Epoch 58/100\n",
      "14/14 [==============================] - 0s 6ms/step - loss: 0.4591 - acc: 0.7827 - val_loss: 0.5502 - val_acc: 0.7680\n",
      "Epoch 59/100\n",
      "14/14 [==============================] - 0s 7ms/step - loss: 0.4591 - acc: 0.7837 - val_loss: 0.5502 - val_acc: 0.7700\n",
      "Epoch 60/100\n",
      "14/14 [==============================] - 0s 7ms/step - loss: 0.4590 - acc: 0.7846 - val_loss: 0.5502 - val_acc: 0.7700\n",
      "Epoch 61/100\n",
      "14/14 [==============================] - 0s 7ms/step - loss: 0.4590 - acc: 0.7834 - val_loss: 0.5498 - val_acc: 0.7680\n",
      "Epoch 62/100\n",
      "14/14 [==============================] - 0s 6ms/step - loss: 0.4590 - acc: 0.7846 - val_loss: 0.5496 - val_acc: 0.7680\n",
      "Epoch 63/100\n",
      "14/14 [==============================] - 0s 9ms/step - loss: 0.4590 - acc: 0.7838 - val_loss: 0.5498 - val_acc: 0.7680\n",
      "Epoch 64/100\n",
      "14/14 [==============================] - 0s 7ms/step - loss: 0.4590 - acc: 0.7840 - val_loss: 0.5501 - val_acc: 0.7700\n",
      "Epoch 65/100\n",
      "14/14 [==============================] - 0s 7ms/step - loss: 0.4589 - acc: 0.7838 - val_loss: 0.5501 - val_acc: 0.7700\n",
      "Epoch 66/100\n",
      "14/14 [==============================] - 0s 6ms/step - loss: 0.4589 - acc: 0.7843 - val_loss: 0.5497 - val_acc: 0.7700\n",
      "Epoch 67/100\n",
      "14/14 [==============================] - 0s 8ms/step - loss: 0.4590 - acc: 0.7841 - val_loss: 0.5504 - val_acc: 0.7700\n",
      "Epoch 68/100\n",
      "14/14 [==============================] - 0s 9ms/step - loss: 0.4589 - acc: 0.7834 - val_loss: 0.5503 - val_acc: 0.7700\n",
      "Epoch 69/100\n",
      "14/14 [==============================] - 0s 11ms/step - loss: 0.4589 - acc: 0.7846 - val_loss: 0.5502 - val_acc: 0.7680\n",
      "Epoch 70/100\n",
      "14/14 [==============================] - 0s 16ms/step - loss: 0.4589 - acc: 0.7828 - val_loss: 0.5502 - val_acc: 0.7700\n",
      "Epoch 71/100\n",
      "14/14 [==============================] - 0s 12ms/step - loss: 0.4589 - acc: 0.7841 - val_loss: 0.5498 - val_acc: 0.7680\n",
      "Epoch 72/100\n",
      "14/14 [==============================] - 0s 12ms/step - loss: 0.4589 - acc: 0.7844 - val_loss: 0.5495 - val_acc: 0.7680\n",
      "Epoch 73/100\n",
      "14/14 [==============================] - 0s 10ms/step - loss: 0.4588 - acc: 0.7847 - val_loss: 0.5492 - val_acc: 0.7680\n",
      "Epoch 74/100\n",
      "14/14 [==============================] - 0s 9ms/step - loss: 0.4589 - acc: 0.7843 - val_loss: 0.5499 - val_acc: 0.7700\n",
      "Epoch 75/100\n",
      "14/14 [==============================] - 0s 7ms/step - loss: 0.4589 - acc: 0.7844 - val_loss: 0.5500 - val_acc: 0.7680\n",
      "Epoch 76/100\n",
      "14/14 [==============================] - 0s 12ms/step - loss: 0.4588 - acc: 0.7843 - val_loss: 0.5506 - val_acc: 0.7700\n",
      "Epoch 77/100\n",
      "14/14 [==============================] - 0s 6ms/step - loss: 0.4588 - acc: 0.7844 - val_loss: 0.5502 - val_acc: 0.7700\n",
      "Epoch 78/100\n",
      "14/14 [==============================] - 0s 7ms/step - loss: 0.4589 - acc: 0.7849 - val_loss: 0.5498 - val_acc: 0.7700\n",
      "Epoch 79/100\n",
      "14/14 [==============================] - 0s 9ms/step - loss: 0.4588 - acc: 0.7849 - val_loss: 0.5500 - val_acc: 0.7700\n",
      "Epoch 80/100\n",
      "14/14 [==============================] - 0s 9ms/step - loss: 0.4588 - acc: 0.7849 - val_loss: 0.5497 - val_acc: 0.7700\n",
      "Epoch 81/100\n",
      "14/14 [==============================] - 0s 10ms/step - loss: 0.4588 - acc: 0.7854 - val_loss: 0.5498 - val_acc: 0.7700\n",
      "Epoch 82/100\n",
      "14/14 [==============================] - 0s 7ms/step - loss: 0.4588 - acc: 0.7853 - val_loss: 0.5499 - val_acc: 0.7700\n",
      "Epoch 83/100\n",
      "14/14 [==============================] - 0s 7ms/step - loss: 0.4587 - acc: 0.7851 - val_loss: 0.5499 - val_acc: 0.7700\n",
      "Epoch 84/100\n",
      "14/14 [==============================] - 0s 7ms/step - loss: 0.4588 - acc: 0.7831 - val_loss: 0.5496 - val_acc: 0.7700\n",
      "Epoch 85/100\n",
      "14/14 [==============================] - 0s 8ms/step - loss: 0.4588 - acc: 0.7846 - val_loss: 0.5492 - val_acc: 0.7700\n",
      "Epoch 86/100\n",
      "14/14 [==============================] - 0s 7ms/step - loss: 0.4587 - acc: 0.7856 - val_loss: 0.5491 - val_acc: 0.7700\n",
      "Epoch 87/100\n",
      "14/14 [==============================] - 0s 6ms/step - loss: 0.4587 - acc: 0.7846 - val_loss: 0.5493 - val_acc: 0.7700\n",
      "Epoch 88/100\n",
      "14/14 [==============================] - 0s 6ms/step - loss: 0.4588 - acc: 0.7853 - val_loss: 0.5491 - val_acc: 0.7680\n",
      "Epoch 89/100\n",
      "14/14 [==============================] - 0s 8ms/step - loss: 0.4588 - acc: 0.7850 - val_loss: 0.5496 - val_acc: 0.7700\n",
      "Epoch 90/100\n",
      "14/14 [==============================] - 0s 9ms/step - loss: 0.4588 - acc: 0.7850 - val_loss: 0.5500 - val_acc: 0.7700\n",
      "Epoch 91/100\n",
      "14/14 [==============================] - 0s 5ms/step - loss: 0.4588 - acc: 0.7847 - val_loss: 0.5494 - val_acc: 0.7700\n",
      "Epoch 92/100\n",
      "14/14 [==============================] - 0s 7ms/step - loss: 0.4588 - acc: 0.7853 - val_loss: 0.5498 - val_acc: 0.7700\n",
      "Epoch 93/100\n",
      "14/14 [==============================] - 0s 6ms/step - loss: 0.4586 - acc: 0.7854 - val_loss: 0.5501 - val_acc: 0.7700\n",
      "Epoch 94/100\n",
      "14/14 [==============================] - 0s 6ms/step - loss: 0.4588 - acc: 0.7847 - val_loss: 0.5501 - val_acc: 0.7700\n",
      "Epoch 95/100\n",
      "14/14 [==============================] - 0s 6ms/step - loss: 0.4587 - acc: 0.7853 - val_loss: 0.5496 - val_acc: 0.7680\n",
      "Epoch 96/100\n",
      "14/14 [==============================] - 0s 7ms/step - loss: 0.4587 - acc: 0.7844 - val_loss: 0.5495 - val_acc: 0.7660\n",
      "Epoch 97/100\n",
      "14/14 [==============================] - 0s 6ms/step - loss: 0.4587 - acc: 0.7847 - val_loss: 0.5498 - val_acc: 0.7680\n",
      "Epoch 98/100\n",
      "14/14 [==============================] - 0s 5ms/step - loss: 0.4587 - acc: 0.7836 - val_loss: 0.5491 - val_acc: 0.7660\n",
      "Epoch 99/100\n",
      "14/14 [==============================] - 0s 5ms/step - loss: 0.4588 - acc: 0.7843 - val_loss: 0.5491 - val_acc: 0.7660\n",
      "Epoch 100/100\n",
      "14/14 [==============================] - 0s 5ms/step - loss: 0.4587 - acc: 0.7840 - val_loss: 0.5495 - val_acc: 0.7680\n"
     ]
    }
   ],
   "source": [
    "history = model.fit(train_data,\n",
    "                    train_labels,\n",
    "                    epochs=100,\n",
    "                    batch_size=512,\n",
    "                    validation_data=(devtest_data, devtest_labels))"
   ]
  },
  {
   "cell_type": "code",
   "execution_count": 35,
   "metadata": {},
   "outputs": [
    {
     "data": {
      "image/png": "[encoded data removed]",
      "text/plain": [
       "<Figure size 432x288 with 1 Axes>"
      ]
     },
     "metadata": {
      "needs_background": "light"
     },
     "output_type": "display_data"
    }
   ],
   "source": [
    "%matplotlib inline\n",
    "import matplotlib.pyplot as plt\n",
    "\n",
    "loss = history.history['loss']\n",
    "val_loss = history.history['val_loss']\n",
    "\n",
    "epochs = range(1, len(loss) + 1)\n",
    "\n",
    "plt.plot(epochs, loss, 'bo', label='Training loss')\n",
    "plt.plot(epochs, val_loss, 'b', label='Validation loss')\n",
    "plt.title('Training and validation loss')\n",
    "plt.xlabel('Epochs')\n",
    "plt.ylabel('Loss')\n",
    "plt.legend()\n",
    "\n",
    "plt.show()"
   ]
  },
  {
   "cell_type": "code",
   "execution_count": 33,
   "metadata": {},
   "outputs": [
    {
     "ename": "NameError",
     "evalue": "name 'val_acc' is not defined",
     "output_type": "error",
     "traceback": [
      "\u001b[1;31m---------------------------------------------------------------------------\u001b[0m",
      "\u001b[1;31mNameError\u001b[0m                                 Traceback (most recent call last)",
      "\u001b[1;32m<ipython-input-33-c2a53e63a5c2>\u001b[0m in \u001b[0;36m<module>\u001b[1;34m\u001b[0m\n\u001b[1;32m----> 1\u001b[1;33m \u001b[0mnp\u001b[0m\u001b[1;33m.\u001b[0m\u001b[0mamax\u001b[0m\u001b[1;33m(\u001b[0m\u001b[0mval_acc\u001b[0m\u001b[1;33m)\u001b[0m\u001b[1;33m\u001b[0m\u001b[1;33m\u001b[0m\u001b[0m\n\u001b[0m",
      "\u001b[1;31mNameError\u001b[0m: name 'val_acc' is not defined"
     ]
    }
   ],
   "source": [
    "np.amax(val_acc)"
   ]
  },
  {
   "cell_type": "markdown",
   "metadata": {},
   "source": [
    "## Exercise: A Deeper Network\n",
    "Experiment with a network that has one hidden dense layer with a `'relu'` activation. The resulting system is no longer a logistic regression classifier, it's something more complex. Try the following sizes in the hidden layer:\n",
    "\n",
    "* 5, 7, 10\n",
    "\n",
    "Answer the following questions:\n",
    "\n",
    "1. Which system performed best on the dev-test set?\n",
    "2. Would you add more or less cells in the hidden layer? Justify your answer.\n",
    "3. Is this system better than the simpler system of the previous exercise? Justify your answer."
   ]
  },
  {
   "cell_type": "code",
   "execution_count": null,
   "metadata": {},
   "outputs": [],
   "source": [
    "import numpy as np\n",
    "from tensorflow.keras import models\n",
    "from tensorflow.keras import layers\n",
    "\n",
    "# Write your model here\n",
    "model = models.Sequential()\n",
    "model.add(layers.Dense(5, activation='relu', input_shape=(54,)))\n",
    "model.compile(optimizer='rmsprop', loss='binary_crossentropy', metrics=['acc'])\n"
   ]
  },
  {
   "cell_type": "markdown",
   "metadata": {},
   "source": [
    "# Optional: Deep Learning with the Movie Review Corpus\n",
    "The notebook [W04L1-2-MovieReviews.ipynb](../lectures/W04L1-2-MovieReviews.ipynb) has several questions at the end, repeated below. Try to answer these, and indeed try other variants!\n",
    "\n",
    "* We were using 2 hidden layers. Try to use 1 or 3 hidden layers and see how it affects validation and test accuracy.\n",
    "* Try to use layers with more hidden units or less hidden units: 32 units, 64 units...\n",
    "* Try to use the `mse` loss function instead of `binary_crossentropy`.\n",
    "* Try to use the `tanh` activation (an activation that was popular in the early days of neural networks) instead of `relu`."
   ]
  },
  {
   "cell_type": "code",
   "execution_count": null,
   "metadata": {},
   "outputs": [],
   "source": []
  }
 ],
 "metadata": {
  "anaconda-cloud": {},
  "kernelspec": {
   "display_name": "Python 3",
   "language": "python",
   "name": "python3"
  },
  "language_info": {
   "codemirror_mode": {
    "name": "ipython",
    "version": 3
   },
   "file_extension": ".py",
   "mimetype": "text/x-python",
   "name": "python",
   "nbconvert_exporter": "python",
   "pygments_lexer": "ipython3",
   "version": "3.8.8"
  }
 },
 "nbformat": 4,
 "nbformat_minor": 2
}
